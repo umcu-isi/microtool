{
 "cells": [
  {
   "cell_type": "code",
   "execution_count": 1,
   "metadata": {},
   "outputs": [],
   "source": [
    "import matplotlib.pyplot as plt\n",
    "import numpy as np\n",
    "\n",
    "% matplotlib inline"
   ]
  },
  {
   "cell_type": "markdown",
   "metadata": {},
   "source": [
    "# Optimizing a stick-zeppelin tissue model"
   ]
  },
  {
   "cell_type": "markdown",
   "metadata": {},
   "source": [
    "## Defining the tissue model"
   ]
  },
  {
   "cell_type": "code",
   "execution_count": 2,
   "metadata": {},
   "outputs": [
    {
     "name": "stdout",
     "output_type": "stream",
     "text": [
      "Tissue model with 10 scalar parameters:\n",
      "Tissue-parameter            Value    Scale  Optimize    Fit    Fit Bounds\n",
      "------------------------  -------  -------  ----------  -----  ------------------------------------------------\n",
      "G2Zeppelin_1_mu_0         1.5708     1      True        True   (0.0, 3.141592653589793)\n",
      "G2Zeppelin_1_mu_1         1.5708     1      True        True   (-3.141592653589793, 3.141592653589793)\n",
      "G2Zeppelin_1_lambda_par   1.7e-09    1e-09  True        True   (1.0000000000000002e-10, 3.0000000000000004e-09)\n",
      "G2Zeppelin_1_lambda_perp  2e-10      1e-09  True        True   (1.0000000000000002e-10, 3.0000000000000004e-09)\n",
      "C1Stick_1_mu_0            1.5708     1      True        True   (0.0, 3.141592653589793)\n",
      "C1Stick_1_mu_1            1.5708     1      True        True   (-3.141592653589793, 3.141592653589793)\n",
      "C1Stick_1_lambda_par      1.7e-09    1e-09  False       True   (1.0000000000000002e-10, 3.0000000000000004e-09)\n",
      "partial_volume_0          0.5        1      True        True   (0.0, 1.0)\n",
      "partial_volume_1          0.5        1      True        True   (0.0, 1.0)\n",
      "S0                        1          1      False       False  (0.0, inf)\n"
     ]
    }
   ],
   "source": [
    "# components from dmipy that are required to define the tissuemodel outlined above\n",
    "from dmipy.core.modeling_framework import MultiCompartmentModel\n",
    "from dmipy.signal_models import cylinder_models, gaussian_models\n",
    "\n",
    "# The wrapper from microtool\n",
    "from microtool.dmipy import DmipyTissueModel\n",
    "\n",
    "# Cylinder orientation angles theta, phi := mu\n",
    "mu = np.array([np.pi / 2, np.pi / 2])\n",
    "# Parralel diffusivity lambda_par in E-9 m^2/s (in the paper d_par)\n",
    "lambda_par = 1.7e-9\n",
    "lambda_perp = 0.2e-9\n",
    "\n",
    "zeppelin = gaussian_models.G2Zeppelin(mu, lambda_par, lambda_perp)\n",
    "stick = cylinder_models.C1Stick(mu, lambda_par)\n",
    "stick_zeppelin = MultiCompartmentModel(models=[zeppelin, stick])\n",
    "# fixing the parralel diffusivities to each other (The stick diffusivity is removed from optimization)\n",
    "stick_zeppelin.set_equal_parameter('G2Zeppelin_1_lambda_par', 'C1Stick_1_lambda_par')\n",
    "tissue_model = DmipyTissueModel(stick_zeppelin, volume_fractions=[0.5, 0.5])\n",
    "\n",
    "print(tissue_model)"
   ]
  },
  {
   "cell_type": "markdown",
   "metadata": {},
   "source": [
    "## Defining the initial acquisition scheme"
   ]
  },
  {
   "cell_type": "code",
   "execution_count": 3,
   "metadata": {},
   "outputs": [
    {
     "name": "stderr",
     "output_type": "stream",
     "text": [
      "No artists with labels found to put in legend.  Note that artists whose label start with an underscore are ignored when legend() is called with no argument.\n",
      "No artists with labels found to put in legend.  Note that artists whose label start with an underscore are ignored when legend() is called with no argument.\n",
      "No artists with labels found to put in legend.  Note that artists whose label start with an underscore are ignored when legend() is called with no argument.\n",
      "No artists with labels found to put in legend.  Note that artists whose label start with an underscore are ignored when legend() is called with no argument.\n",
      "No artists with labels found to put in legend.  Note that artists whose label start with an underscore are ignored when legend() is called with no argument.\n",
      "No artists with labels found to put in legend.  Note that artists whose label start with an underscore are ignored when legend() is called with no argument.\n"
     ]
    },
    {
     "data": {
      "text/plain": "<Figure size 432x288 with 6 Axes>",
      "image/png": "[encoded data removed]"
     },
     "metadata": {
      "needs_background": "light"
     },
     "output_type": "display_data"
    }
   ],
   "source": [
    "from microtool.utils.saved_schemes import alexander2008\n",
    "from microtool.dmipy import convert_dmipy_scheme2diffusion_scheme\n",
    "from microtool.utils.plotting import plot_acquisition_parameters\n",
    "\n",
    "scheme = convert_dmipy_scheme2diffusion_scheme(alexander2008())\n",
    "fig = plot_acquisition_parameters(scheme)\n",
    "plt.tight_layout()\n",
    "plt.show()"
   ]
  },
  {
   "cell_type": "code",
   "execution_count": 4,
   "metadata": {},
   "outputs": [],
   "source": [
    "# fixing b values for b0 measurements since dmipy will freak out if you try to optimize these\n",
    "scheme[\"DiffusionBValue\"].set_fixed_mask(scheme.b_values == 0)"
   ]
  },
  {
   "cell_type": "markdown",
   "metadata": {},
   "source": [
    "## The optimization procedure"
   ]
  },
  {
   "cell_type": "code",
   "execution_count": 10,
   "metadata": {},
   "outputs": [
    {
     "name": "stdout",
     "output_type": "stream",
     "text": [
      "differential_evolution step 1: f(x)= inf\n",
      "differential_evolution step 2: f(x)= inf\n",
      "differential_evolution step 3: f(x)= inf\n",
      "differential_evolution step 4: f(x)= inf\n",
      "differential_evolution step 5: f(x)= inf\n",
      "differential_evolution step 6: f(x)= inf\n",
      "differential_evolution step 7: f(x)= inf\n",
      "differential_evolution step 8: f(x)= inf\n",
      "differential_evolution step 9: f(x)= inf\n",
      "differential_evolution step 10: f(x)= inf\n",
      "differential_evolution step 11: f(x)= inf\n",
      "differential_evolution step 12: f(x)= inf\n",
      "differential_evolution step 13: f(x)= inf\n",
      "differential_evolution step 14: f(x)= inf\n",
      "differential_evolution step 15: f(x)= inf\n",
      "differential_evolution step 16: f(x)= inf\n",
      "differential_evolution step 17: f(x)= inf\n",
      "differential_evolution step 18: f(x)= inf\n",
      "differential_evolution step 19: f(x)= inf\n",
      "differential_evolution step 20: f(x)= inf\n",
      "differential_evolution step 21: f(x)= inf\n",
      "differential_evolution step 22: f(x)= inf\n",
      "differential_evolution step 23: f(x)= inf\n",
      "differential_evolution step 24: f(x)= inf\n"
     ]
    },
    {
     "name": "stderr",
     "output_type": "stream",
     "text": [
      "\n",
      "KeyboardInterrupt\n",
      "\n"
     ]
    }
   ],
   "source": [
    "from microtool.optimize import optimize_scheme\n",
    "\n",
    "# The variance of the assumed gaussian noise\n",
    "noise_variance = 0.02\n",
    "\n",
    "optimal_scheme, _ = optimize_scheme(scheme, tissue_model, noise_variance, method='differential_evolution')"
   ]
  },
  {
   "cell_type": "code",
   "execution_count": 6,
   "metadata": {},
   "outputs": [
    {
     "name": "stderr",
     "output_type": "stream",
     "text": [
      "No artists with labels found to put in legend.  Note that artists whose label start with an underscore are ignored when legend() is called with no argument.\n",
      "No artists with labels found to put in legend.  Note that artists whose label start with an underscore are ignored when legend() is called with no argument.\n",
      "No artists with labels found to put in legend.  Note that artists whose label start with an underscore are ignored when legend() is called with no argument.\n",
      "No artists with labels found to put in legend.  Note that artists whose label start with an underscore are ignored when legend() is called with no argument.\n",
      "No artists with labels found to put in legend.  Note that artists whose label start with an underscore are ignored when legend() is called with no argument.\n",
      "No artists with labels found to put in legend.  Note that artists whose label start with an underscore are ignored when legend() is called with no argument.\n"
     ]
    },
    {
     "data": {
      "text/plain": "<Figure size 432x288 with 6 Axes>",
      "image/png": "[encoded data removed]"
     },
     "metadata": {
      "needs_background": "light"
     },
     "output_type": "display_data"
    }
   ],
   "source": [
    "plot_acquisition_parameters(optimal_scheme)\n",
    "plt.tight_layout()"
   ]
  },
  {
   "cell_type": "markdown",
   "metadata": {},
   "source": [
    "## Verification trough Monte Carlo simulations"
   ]
  },
  {
   "cell_type": "code",
   "execution_count": 7,
   "metadata": {},
   "outputs": [
    {
     "name": "stderr",
     "output_type": "stream",
     "text": [
      "Starting Monte Carlo with 100 simulations:   2%|▏         | 2/100 [00:13<11:17,  6.91s/it]\n",
      "\n",
      "KeyboardInterrupt\n",
      "\n"
     ]
    }
   ],
   "source": [
    "from microtool.monte_carlo import MonteCarloSimulation\n",
    "from microtool.monte_carlo.parameter_distributions import plot_parameter_distributions\n",
    "from scipy import stats\n",
    "\n",
    "# Setting up noise distribution \n",
    "noise_dist = stats.norm(loc=0, scale=np.sqrt(noise_variance))\n",
    "\n",
    "# making the monte carlo simulation\n",
    "simulation = MonteCarloSimulation(scheme, tissue_model, noise_dist, n_sim=100)\n",
    "\n",
    "# disabling dmipy's parralel processing since it is actually slower if only one voxel is fitted\n",
    "simulation.set_fitting_options({\"use_parallel_processing\": False})\n",
    "\n",
    "result = simulation.run()\n"
   ]
  },
  {
   "cell_type": "code",
   "execution_count": null,
   "metadata": {},
   "outputs": [],
   "source": [
    "plot_parameter_distributions(result, tissue_model)\n",
    "plt.tight_layout()\n"
   ]
  },
  {
   "cell_type": "code",
   "execution_count": null,
   "metadata": {},
   "outputs": [],
   "source": [
    "simulation.set_scheme(optimal_scheme)\n",
    "optimal_result = simulation.run()\n"
   ]
  },
  {
   "cell_type": "code",
   "execution_count": null,
   "metadata": {},
   "outputs": [],
   "source": [
    "plot_parameter_distributions(optimal_result, tissue_model)\n",
    "plt.tight_layout()"
   ]
  }
 ],
 "metadata": {
  "kernelspec": {
   "display_name": "Python 3.8.13 ('devmicro')",
   "language": "python",
   "name": "python3"
  },
  "language_info": {
   "codemirror_mode": {
    "name": "ipython",
    "version": 3
   },
   "file_extension": ".py",
   "mimetype": "text/x-python",
   "name": "python",
   "nbconvert_exporter": "python",
   "pygments_lexer": "ipython3",
   "version": "3.8.13"
  },
  "orig_nbformat": 4,
  "vscode": {
   "interpreter": {
    "hash": "3011a8dbc0416b7a6a3ec52ef615ac8625a77d42c6bd20d3122cea9e789256a5"
   }
  }
 },
 "nbformat": 4,
 "nbformat_minor": 2
}
