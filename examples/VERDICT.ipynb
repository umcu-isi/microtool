{
 "cells": [
  {
   "cell_type": "code",
   "execution_count": 1,
   "metadata": {
    "collapsed": true,
    "ExecuteTime": {
     "end_time": "2023-05-05T12:10:43.239687600Z",
     "start_time": "2023-05-05T12:10:36.060676600Z"
    }
   },
   "outputs": [],
   "source": [
    "import matplotlib.pyplot as plt\n",
    "import numpy as np\n",
    "from dmipy.core.acquisition_scheme import acquisition_scheme_from_bvalues\n",
    "from dmipy.core.modeling_framework import MultiCompartmentModel\n",
    "from dmipy.signal_models import sphere_models, cylinder_models, gaussian_models\n",
    "\n",
    "from microtool.dmipy import convert_dmipy_scheme2diffusion_scheme, DmipyTissueModel\n",
    "from microtool.gradient_sampling.uniform import sample_uniform\n",
    "from microtool.optimize import optimize_scheme\n",
    "from microtool.utils import plotting, IO"
   ]
  },
  {
   "cell_type": "markdown",
   "source": [
    "## Setting up the VERDICT model"
   ],
   "metadata": {
    "collapsed": false
   }
  },
  {
   "cell_type": "code",
   "execution_count": 3,
   "outputs": [
    {
     "name": "stdout",
     "output_type": "stream",
     "text": [
      "Tissue model with 9 scalar parameters:\n",
      "Tissue-parameter                                 Value    Scale  Optimize    Fit    Fit Bounds\n",
      "---------------------------------------------  -------  -------  ----------  -----  ------------------------------------------------\n",
      "S4SphereGaussianPhaseApproximation_1_diameter   1e-05     1e-06  False       True   (1e-08, 1.9999999999999998e-05)\n",
      "G1Ball_1_lambda_iso                             2e-09     1e-09  True        True   (1.0000000000000002e-10, 3.0000000000000004e-09)\n",
      "C1Stick_1_mu_0                                  1.5708    1      False       True   (0.0, 3.141592653589793)\n",
      "C1Stick_1_mu_1                                  1.5708    1      False       True   (-3.141592653589793, 3.141592653589793)\n",
      "C1Stick_1_lambda_par                            8e-09     1e-09  False       True   (1.0000000000000002e-10, 3.0000000000000004e-09)\n",
      "partial_volume_0                                0.3       1      True        True   (0.0, 1.0)\n",
      "partial_volume_1                                0.3       1      True        True   (0.0, 1.0)\n",
      "partial_volume_2                                0.4       1      True        True   (0.0, 1.0)\n",
      "S0                                              1         1      False       False  (0.0, inf)\n"
     ]
    }
   ],
   "source": [
    "sphere = sphere_models.S4SphereGaussianPhaseApproximation(diffusion_constant=2.0e-9, diameter=10e-6)\n",
    "ball = gaussian_models.G1Ball(lambda_iso=2.0e-9)\n",
    "stick = cylinder_models.C1Stick(mu=[np.pi / 2, np.pi / 2], lambda_par=8.0e-9)\n",
    "\n",
    "verdict_model = MultiCompartmentModel(models=[sphere, ball, stick])\n",
    "# In Bonet-Carne et. al. the diameter of the intracellular sphere (d_IC) and the vascular diffusivity (P)\n",
    "# can be fixed such that we can estimate d_{EES}\n",
    "verdict_model.set_fixed_parameter('S4SphereGaussianPhaseApproximation_1_diameter', 2.0e-9)\n",
    "verdict_model.set_fixed_parameter('C1Stick_1_lambda_par', 8.0e-9)\n",
    "\n",
    "# Really the orientations should also be fixed?\n",
    "verdict_model.set_fixed_parameter('C1Stick_1_mu', [np.pi / 2, np.pi / 2])\n",
    "\n",
    "verdict_model = DmipyTissueModel(verdict_model, [.3, .3, .4])\n",
    "print(verdict_model)"
   ],
   "metadata": {
    "collapsed": false
   }
  },
  {
   "cell_type": "code",
   "execution_count": 3,
   "outputs": [
    {
     "ename": "ValueError",
     "evalue": "If using all scalar values, you must pass an index",
     "output_type": "error",
     "traceback": [
      "\u001B[1;31m---------------------------------------------------------------------------\u001B[0m",
      "\u001B[1;31mValueError\u001B[0m                                Traceback (most recent call last)",
      "Input \u001B[1;32mIn [3]\u001B[0m, in \u001B[0;36m<cell line: 46>\u001B[1;34m()\u001B[0m\n\u001B[0;32m     44\u001B[0m \u001B[38;5;66;03m# For dmipy based optimization fixed b0 measurements are required.\u001B[39;00m\n\u001B[0;32m     45\u001B[0m scheme[\u001B[38;5;124m\"\u001B[39m\u001B[38;5;124mDiffusionBValue\u001B[39m\u001B[38;5;124m\"\u001B[39m]\u001B[38;5;241m.\u001B[39mset_fixed_mask(scheme\u001B[38;5;241m.\u001B[39mb_values \u001B[38;5;241m==\u001B[39m \u001B[38;5;241m0\u001B[39m)\n\u001B[1;32m---> 46\u001B[0m \u001B[38;5;28;43mprint\u001B[39;49m\u001B[43m(\u001B[49m\u001B[43mscheme\u001B[49m\u001B[43m)\u001B[49m\n",
      "File \u001B[1;32m~\\OneDrive - Universiteit Utrecht\\Documents\\Major Research\\Software\\microtool\\microtool\\acquisition_scheme.py:121\u001B[0m, in \u001B[0;36mAcquisitionScheme.__str__\u001B[1;34m(self)\u001B[0m\n\u001B[0;32m    119\u001B[0m \u001B[38;5;28;01mdef\u001B[39;00m \u001B[38;5;21m__str__\u001B[39m(\u001B[38;5;28mself\u001B[39m) \u001B[38;5;241m-\u001B[39m\u001B[38;5;241m>\u001B[39m \u001B[38;5;28mstr\u001B[39m:\n\u001B[1;32m--> 121\u001B[0m     table \u001B[38;5;241m=\u001B[39m \u001B[43mpd\u001B[49m\u001B[38;5;241;43m.\u001B[39;49m\u001B[43mDataFrame\u001B[49m\u001B[43m(\u001B[49m\u001B[38;5;28;43mself\u001B[39;49m\u001B[43m)\u001B[49m\n\u001B[0;32m    124\u001B[0m     \u001B[38;5;66;03m# for key, value in self.items():\u001B[39;00m\n\u001B[0;32m    125\u001B[0m     \u001B[38;5;66;03m#     if value.fixed:\u001B[39;00m\n\u001B[0;32m    126\u001B[0m     \u001B[38;5;66;03m#         entry = {f\"{key} [{value.unit}] (fixed)\": value.values}\u001B[39;00m\n\u001B[1;32m   (...)\u001B[0m\n\u001B[0;32m    129\u001B[0m     \u001B[38;5;66;03m#\u001B[39;00m\n\u001B[0;32m    130\u001B[0m     \u001B[38;5;66;03m#     table.update(entry)\u001B[39;00m\n\u001B[0;32m    132\u001B[0m     \u001B[38;5;28;01mreturn\u001B[39;00m table\u001B[38;5;241m.\u001B[39mto_string()\n",
      "File \u001B[1;32m~\\miniconda3\\envs\\devmicro\\lib\\site-packages\\pandas\\core\\frame.py:636\u001B[0m, in \u001B[0;36mDataFrame.__init__\u001B[1;34m(self, data, index, columns, dtype, copy)\u001B[0m\n\u001B[0;32m    630\u001B[0m     mgr \u001B[38;5;241m=\u001B[39m \u001B[38;5;28mself\u001B[39m\u001B[38;5;241m.\u001B[39m_init_mgr(\n\u001B[0;32m    631\u001B[0m         data, axes\u001B[38;5;241m=\u001B[39m{\u001B[38;5;124m\"\u001B[39m\u001B[38;5;124mindex\u001B[39m\u001B[38;5;124m\"\u001B[39m: index, \u001B[38;5;124m\"\u001B[39m\u001B[38;5;124mcolumns\u001B[39m\u001B[38;5;124m\"\u001B[39m: columns}, dtype\u001B[38;5;241m=\u001B[39mdtype, copy\u001B[38;5;241m=\u001B[39mcopy\n\u001B[0;32m    632\u001B[0m     )\n\u001B[0;32m    634\u001B[0m \u001B[38;5;28;01melif\u001B[39;00m \u001B[38;5;28misinstance\u001B[39m(data, \u001B[38;5;28mdict\u001B[39m):\n\u001B[0;32m    635\u001B[0m     \u001B[38;5;66;03m# GH#38939 de facto copy defaults to False only in non-dict cases\u001B[39;00m\n\u001B[1;32m--> 636\u001B[0m     mgr \u001B[38;5;241m=\u001B[39m \u001B[43mdict_to_mgr\u001B[49m\u001B[43m(\u001B[49m\u001B[43mdata\u001B[49m\u001B[43m,\u001B[49m\u001B[43m \u001B[49m\u001B[43mindex\u001B[49m\u001B[43m,\u001B[49m\u001B[43m \u001B[49m\u001B[43mcolumns\u001B[49m\u001B[43m,\u001B[49m\u001B[43m \u001B[49m\u001B[43mdtype\u001B[49m\u001B[38;5;241;43m=\u001B[39;49m\u001B[43mdtype\u001B[49m\u001B[43m,\u001B[49m\u001B[43m \u001B[49m\u001B[43mcopy\u001B[49m\u001B[38;5;241;43m=\u001B[39;49m\u001B[43mcopy\u001B[49m\u001B[43m,\u001B[49m\u001B[43m \u001B[49m\u001B[43mtyp\u001B[49m\u001B[38;5;241;43m=\u001B[39;49m\u001B[43mmanager\u001B[49m\u001B[43m)\u001B[49m\n\u001B[0;32m    637\u001B[0m \u001B[38;5;28;01melif\u001B[39;00m \u001B[38;5;28misinstance\u001B[39m(data, ma\u001B[38;5;241m.\u001B[39mMaskedArray):\n\u001B[0;32m    638\u001B[0m     \u001B[38;5;28;01mimport\u001B[39;00m \u001B[38;5;21;01mnumpy\u001B[39;00m\u001B[38;5;21;01m.\u001B[39;00m\u001B[38;5;21;01mma\u001B[39;00m\u001B[38;5;21;01m.\u001B[39;00m\u001B[38;5;21;01mmrecords\u001B[39;00m \u001B[38;5;28;01mas\u001B[39;00m \u001B[38;5;21;01mmrecords\u001B[39;00m\n",
      "File \u001B[1;32m~\\miniconda3\\envs\\devmicro\\lib\\site-packages\\pandas\\core\\internals\\construction.py:502\u001B[0m, in \u001B[0;36mdict_to_mgr\u001B[1;34m(data, index, columns, dtype, typ, copy)\u001B[0m\n\u001B[0;32m    494\u001B[0m     arrays \u001B[38;5;241m=\u001B[39m [\n\u001B[0;32m    495\u001B[0m         x\n\u001B[0;32m    496\u001B[0m         \u001B[38;5;28;01mif\u001B[39;00m \u001B[38;5;129;01mnot\u001B[39;00m \u001B[38;5;28mhasattr\u001B[39m(x, \u001B[38;5;124m\"\u001B[39m\u001B[38;5;124mdtype\u001B[39m\u001B[38;5;124m\"\u001B[39m) \u001B[38;5;129;01mor\u001B[39;00m \u001B[38;5;129;01mnot\u001B[39;00m \u001B[38;5;28misinstance\u001B[39m(x\u001B[38;5;241m.\u001B[39mdtype, ExtensionDtype)\n\u001B[0;32m    497\u001B[0m         \u001B[38;5;28;01melse\u001B[39;00m x\u001B[38;5;241m.\u001B[39mcopy()\n\u001B[0;32m    498\u001B[0m         \u001B[38;5;28;01mfor\u001B[39;00m x \u001B[38;5;129;01min\u001B[39;00m arrays\n\u001B[0;32m    499\u001B[0m     ]\n\u001B[0;32m    500\u001B[0m     \u001B[38;5;66;03m# TODO: can we get rid of the dt64tz special case above?\u001B[39;00m\n\u001B[1;32m--> 502\u001B[0m \u001B[38;5;28;01mreturn\u001B[39;00m \u001B[43marrays_to_mgr\u001B[49m\u001B[43m(\u001B[49m\u001B[43marrays\u001B[49m\u001B[43m,\u001B[49m\u001B[43m \u001B[49m\u001B[43mcolumns\u001B[49m\u001B[43m,\u001B[49m\u001B[43m \u001B[49m\u001B[43mindex\u001B[49m\u001B[43m,\u001B[49m\u001B[43m \u001B[49m\u001B[43mdtype\u001B[49m\u001B[38;5;241;43m=\u001B[39;49m\u001B[43mdtype\u001B[49m\u001B[43m,\u001B[49m\u001B[43m \u001B[49m\u001B[43mtyp\u001B[49m\u001B[38;5;241;43m=\u001B[39;49m\u001B[43mtyp\u001B[49m\u001B[43m,\u001B[49m\u001B[43m \u001B[49m\u001B[43mconsolidate\u001B[49m\u001B[38;5;241;43m=\u001B[39;49m\u001B[43mcopy\u001B[49m\u001B[43m)\u001B[49m\n",
      "File \u001B[1;32m~\\miniconda3\\envs\\devmicro\\lib\\site-packages\\pandas\\core\\internals\\construction.py:120\u001B[0m, in \u001B[0;36marrays_to_mgr\u001B[1;34m(arrays, columns, index, dtype, verify_integrity, typ, consolidate)\u001B[0m\n\u001B[0;32m    117\u001B[0m \u001B[38;5;28;01mif\u001B[39;00m verify_integrity:\n\u001B[0;32m    118\u001B[0m     \u001B[38;5;66;03m# figure out the index, if necessary\u001B[39;00m\n\u001B[0;32m    119\u001B[0m     \u001B[38;5;28;01mif\u001B[39;00m index \u001B[38;5;129;01mis\u001B[39;00m \u001B[38;5;28;01mNone\u001B[39;00m:\n\u001B[1;32m--> 120\u001B[0m         index \u001B[38;5;241m=\u001B[39m \u001B[43m_extract_index\u001B[49m\u001B[43m(\u001B[49m\u001B[43marrays\u001B[49m\u001B[43m)\u001B[49m\n\u001B[0;32m    121\u001B[0m     \u001B[38;5;28;01melse\u001B[39;00m:\n\u001B[0;32m    122\u001B[0m         index \u001B[38;5;241m=\u001B[39m ensure_index(index)\n",
      "File \u001B[1;32m~\\miniconda3\\envs\\devmicro\\lib\\site-packages\\pandas\\core\\internals\\construction.py:664\u001B[0m, in \u001B[0;36m_extract_index\u001B[1;34m(data)\u001B[0m\n\u001B[0;32m    661\u001B[0m         \u001B[38;5;28;01mraise\u001B[39;00m \u001B[38;5;167;01mValueError\u001B[39;00m(\u001B[38;5;124m\"\u001B[39m\u001B[38;5;124mPer-column arrays must each be 1-dimensional\u001B[39m\u001B[38;5;124m\"\u001B[39m)\n\u001B[0;32m    663\u001B[0m \u001B[38;5;28;01mif\u001B[39;00m \u001B[38;5;129;01mnot\u001B[39;00m indexes \u001B[38;5;129;01mand\u001B[39;00m \u001B[38;5;129;01mnot\u001B[39;00m raw_lengths:\n\u001B[1;32m--> 664\u001B[0m     \u001B[38;5;28;01mraise\u001B[39;00m \u001B[38;5;167;01mValueError\u001B[39;00m(\u001B[38;5;124m\"\u001B[39m\u001B[38;5;124mIf using all scalar values, you must pass an index\u001B[39m\u001B[38;5;124m\"\u001B[39m)\n\u001B[0;32m    666\u001B[0m \u001B[38;5;28;01melif\u001B[39;00m have_series:\n\u001B[0;32m    667\u001B[0m     index \u001B[38;5;241m=\u001B[39m union_indexes(indexes)\n",
      "\u001B[1;31mValueError\u001B[0m: If using all scalar values, you must pass an index"
     ]
    }
   ],
   "source": [
    "b_values = np.array([90, 500, 1500, 2000, 3000]) * 1e6\n",
    "TE = np.array([50, 65, 90, 71, 80]) * 1e-3\n",
    "gradient_directions = np.array([[1, 0, 0], [0, 1, 0], [0, 0, 1]])\n",
    "\n",
    "Delta = np.array([23.8, 31.3, 43.8, 34.3, 38.8]) * 1e-3\n",
    "delta = np.array([3.9, 11.4, 23.9, 14.4, 18.9]) * 1e-3\n",
    "\n",
    "# Extending the arrays so dmipy understands what we mean\n",
    "n_measurements = len(b_values)\n",
    "n_directions = len(gradient_directions)\n",
    "\n",
    "# Executing a b0 measurement for every delta,Delta and TE combination (i.e. every b-value) so we can compensate\n",
    "# for T1 and T2 dependence.\n",
    "n_b0 = len(delta)\n",
    "b0 = np.zeros(n_b0)\n",
    "zero_directions = sample_uniform(n_b0)\n",
    "zero_delta = delta\n",
    "zero_Delta = Delta\n",
    "zero_TE = TE\n",
    "\n",
    "\n",
    "def convert_to_dmipy_acquisition_parameter(par_b0, par_measurements, n_directions):\n",
    "    n_measurements = len(par_measurements)\n",
    "\n",
    "    # repeating the measurement for every direction\n",
    "    par_repeated = np.repeat(par_measurements, n_directions)\n",
    "    # prepending the b0 measurement of this parameter\n",
    "    return np.concatenate([par_b0, par_repeated])\n",
    "\n",
    "\n",
    "# Converting to dmipy compatible ,i.e., prepending b0 values and repeating for every direction\n",
    "b_values = convert_to_dmipy_acquisition_parameter(b0, b_values, n_directions)\n",
    "delta = convert_to_dmipy_acquisition_parameter(zero_delta, delta, n_directions)\n",
    "Delta = convert_to_dmipy_acquisition_parameter(zero_Delta, Delta, n_directions)\n",
    "TE = convert_to_dmipy_acquisition_parameter(zero_TE, TE, n_directions)\n",
    "\n",
    "# Extending directions for every measurement\n",
    "gradient_directions = np.tile(sample_uniform(n_directions), (n_measurements, 1))\n",
    "\n",
    "# Prepending b0 measurements\n",
    "gradient_directions = np.concatenate([zero_directions, gradient_directions], axis=0)\n",
    "scheme = acquisition_scheme_from_bvalues(b_values, gradient_directions, delta, Delta, TE=TE)\n",
    "scheme = convert_dmipy_scheme2diffusion_scheme(scheme)\n",
    "# For dmipy based optimization fixed b0 measurements are required.\n",
    "scheme[\"DiffusionBValue\"].set_fixed_mask(scheme.b_values == 0)\n",
    "print(scheme)"
   ],
   "metadata": {
    "collapsed": false
   }
  },
  {
   "cell_type": "markdown",
   "source": [
    "## Optimization"
   ],
   "metadata": {
    "collapsed": false
   }
  },
  {
   "cell_type": "code",
   "execution_count": 6,
   "outputs": [
    {
     "name": "stdout",
     "output_type": "stream",
     "text": [
      "differential_evolution step 1: f(x)= 2.78074\n",
      "differential_evolution step 2: f(x)= 2.78074\n",
      "differential_evolution step 3: f(x)= 2.78074\n",
      "differential_evolution step 4: f(x)= 2.45456\n",
      "differential_evolution step 5: f(x)= 2.45456\n",
      "differential_evolution step 6: f(x)= 2.45456\n",
      "differential_evolution step 7: f(x)= 2.45456\n",
      "differential_evolution step 8: f(x)= 2.33251\n",
      "differential_evolution step 9: f(x)= 2.33251\n",
      "differential_evolution step 10: f(x)= 2.33251\n",
      "differential_evolution step 11: f(x)= 2.26456\n",
      "differential_evolution step 12: f(x)= 2.26456\n",
      "differential_evolution step 13: f(x)= 2.26456\n",
      "differential_evolution step 14: f(x)= 2.26456\n",
      "differential_evolution step 15: f(x)= 2.26456\n",
      "differential_evolution step 16: f(x)= 2.26456\n",
      "differential_evolution step 17: f(x)= 2.26456\n",
      "differential_evolution step 18: f(x)= 2.24007\n",
      "differential_evolution step 19: f(x)= 2.24007\n",
      "differential_evolution step 20: f(x)= 2.24007\n",
      "differential_evolution step 21: f(x)= 2.24007\n",
      "differential_evolution step 22: f(x)= 1.94877\n",
      "differential_evolution step 23: f(x)= 1.94877\n",
      "differential_evolution step 24: f(x)= 1.94877\n",
      "differential_evolution step 25: f(x)= 1.94877\n",
      "differential_evolution step 26: f(x)= 1.94877\n",
      "differential_evolution step 27: f(x)= 1.94877\n",
      "differential_evolution step 28: f(x)= 1.94877\n",
      "differential_evolution step 29: f(x)= 1.94877\n"
     ]
    },
    {
     "ename": "KeyboardInterrupt",
     "evalue": "",
     "output_type": "error",
     "traceback": [
      "\u001B[1;31m---------------------------------------------------------------------------\u001B[0m",
      "\u001B[1;31mKeyboardInterrupt\u001B[0m                         Traceback (most recent call last)",
      "Input \u001B[1;32mIn [6]\u001B[0m, in \u001B[0;36m<cell line: 1>\u001B[1;34m()\u001B[0m\n\u001B[1;32m----> 1\u001B[0m scheme, _ \u001B[38;5;241m=\u001B[39m \u001B[43moptimize_scheme\u001B[49m\u001B[43m(\u001B[49m\u001B[43mscheme\u001B[49m\u001B[43m,\u001B[49m\u001B[43m \u001B[49m\u001B[43mverdict_model\u001B[49m\u001B[43m,\u001B[49m\u001B[43m \u001B[49m\u001B[38;5;241;43m.02\u001B[39;49m\u001B[43m)\u001B[49m\n\u001B[0;32m      2\u001B[0m \u001B[38;5;28mprint\u001B[39m(scheme)\n\u001B[0;32m      3\u001B[0m IO\u001B[38;5;241m.\u001B[39msave_pickle(scheme, \u001B[38;5;124m'\u001B[39m\u001B[38;5;124mschemes/optimized_scheme.pkl\u001B[39m\u001B[38;5;124m'\u001B[39m)\n",
      "File \u001B[1;32m~\\OneDrive - Universiteit Utrecht\\Documents\\Major Research\\Software\\microtool\\microtool\\optimize\\optimize.py:67\u001B[0m, in \u001B[0;36moptimize_scheme\u001B[1;34m(scheme, model, noise_variance, loss, loss_scaling_factor, method, solver_options)\u001B[0m\n\u001B[0;32m     64\u001B[0m     \u001B[38;5;28;01mif\u001B[39;00m constraints \u001B[38;5;129;01mis\u001B[39;00m \u001B[38;5;28;01mNone\u001B[39;00m:\n\u001B[0;32m     65\u001B[0m         constraints \u001B[38;5;241m=\u001B[39m ()\n\u001B[1;32m---> 67\u001B[0m     result \u001B[38;5;241m=\u001B[39m \u001B[43mdifferential_evolution\u001B[49m\u001B[43m(\u001B[49m\u001B[43mscipy_loss\u001B[49m\u001B[43m,\u001B[49m\u001B[43m \u001B[49m\u001B[43mbounds\u001B[49m\u001B[38;5;241;43m=\u001B[39;49m\u001B[43mscipy_bounds\u001B[49m\u001B[43m,\u001B[49m\n\u001B[0;32m     68\u001B[0m \u001B[43m                                    \u001B[49m\u001B[43margs\u001B[49m\u001B[38;5;241;43m=\u001B[39;49m\u001B[43mscipy_loss_args\u001B[49m\u001B[43m,\u001B[49m\n\u001B[0;32m     69\u001B[0m \u001B[43m                                    \u001B[49m\u001B[43mx0\u001B[49m\u001B[38;5;241;43m=\u001B[39;49m\u001B[43mx0\u001B[49m\u001B[43m,\u001B[49m\u001B[43m \u001B[49m\u001B[43mworkers\u001B[49m\u001B[38;5;241;43m=\u001B[39;49m\u001B[38;5;241;43m-\u001B[39;49m\u001B[38;5;241;43m1\u001B[39;49m\u001B[43m,\u001B[49m\u001B[43m \u001B[49m\u001B[43mdisp\u001B[49m\u001B[38;5;241;43m=\u001B[39;49m\u001B[38;5;28;43;01mTrue\u001B[39;49;00m\u001B[43m,\u001B[49m\u001B[43m \u001B[49m\u001B[43mupdating\u001B[49m\u001B[38;5;241;43m=\u001B[39;49m\u001B[38;5;124;43m'\u001B[39;49m\u001B[38;5;124;43mdeferred\u001B[39;49m\u001B[38;5;124;43m'\u001B[39;49m\u001B[43m,\u001B[49m\u001B[43m \u001B[49m\u001B[43mconstraints\u001B[49m\u001B[38;5;241;43m=\u001B[39;49m\u001B[43mconstraints\u001B[49m\u001B[43m,\u001B[49m\n\u001B[0;32m     70\u001B[0m \u001B[43m                                    \u001B[49m\u001B[43mpolish\u001B[49m\u001B[38;5;241;43m=\u001B[39;49m\u001B[38;5;28;43;01mTrue\u001B[39;49;00m\u001B[43m,\u001B[49m\u001B[43m \u001B[49m\u001B[38;5;241;43m*\u001B[39;49m\u001B[38;5;241;43m*\u001B[39;49m\u001B[43msolver_options\u001B[49m\u001B[43m)\u001B[49m\n\u001B[0;32m     71\u001B[0m \u001B[38;5;28;01melse\u001B[39;00m:\n\u001B[0;32m     72\u001B[0m     result \u001B[38;5;241m=\u001B[39m minimize(scipy_loss, x0, args\u001B[38;5;241m=\u001B[39mscipy_loss_args,\n\u001B[0;32m     73\u001B[0m                       method\u001B[38;5;241m=\u001B[39mmethod, bounds\u001B[38;5;241m=\u001B[39mscipy_bounds, constraints\u001B[38;5;241m=\u001B[39mconstraints,\n\u001B[0;32m     74\u001B[0m                       options\u001B[38;5;241m=\u001B[39msolver_options)\n",
      "File \u001B[1;32m~\\miniconda3\\envs\\devmicro\\lib\\site-packages\\scipy\\optimize\\_differentialevolution.py:392\u001B[0m, in \u001B[0;36mdifferential_evolution\u001B[1;34m(func, bounds, args, strategy, maxiter, popsize, tol, mutation, recombination, seed, callback, disp, polish, init, atol, updating, workers, constraints, x0, integrality, vectorized)\u001B[0m\n\u001B[0;32m    375\u001B[0m \u001B[38;5;66;03m# using a context manager means that any created Pool objects are\u001B[39;00m\n\u001B[0;32m    376\u001B[0m \u001B[38;5;66;03m# cleared up.\u001B[39;00m\n\u001B[0;32m    377\u001B[0m \u001B[38;5;28;01mwith\u001B[39;00m DifferentialEvolutionSolver(func, bounds, args\u001B[38;5;241m=\u001B[39margs,\n\u001B[0;32m    378\u001B[0m                                  strategy\u001B[38;5;241m=\u001B[39mstrategy,\n\u001B[0;32m    379\u001B[0m                                  maxiter\u001B[38;5;241m=\u001B[39mmaxiter,\n\u001B[1;32m   (...)\u001B[0m\n\u001B[0;32m    390\u001B[0m                                  integrality\u001B[38;5;241m=\u001B[39mintegrality,\n\u001B[0;32m    391\u001B[0m                                  vectorized\u001B[38;5;241m=\u001B[39mvectorized) \u001B[38;5;28;01mas\u001B[39;00m solver:\n\u001B[1;32m--> 392\u001B[0m     ret \u001B[38;5;241m=\u001B[39m \u001B[43msolver\u001B[49m\u001B[38;5;241;43m.\u001B[39;49m\u001B[43msolve\u001B[49m\u001B[43m(\u001B[49m\u001B[43m)\u001B[49m\n\u001B[0;32m    394\u001B[0m \u001B[38;5;28;01mreturn\u001B[39;00m ret\n",
      "File \u001B[1;32m~\\miniconda3\\envs\\devmicro\\lib\\site-packages\\scipy\\optimize\\_differentialevolution.py:993\u001B[0m, in \u001B[0;36mDifferentialEvolutionSolver.solve\u001B[1;34m(self)\u001B[0m\n\u001B[0;32m    990\u001B[0m \u001B[38;5;28;01mfor\u001B[39;00m nit \u001B[38;5;129;01min\u001B[39;00m \u001B[38;5;28mrange\u001B[39m(\u001B[38;5;241m1\u001B[39m, \u001B[38;5;28mself\u001B[39m\u001B[38;5;241m.\u001B[39mmaxiter \u001B[38;5;241m+\u001B[39m \u001B[38;5;241m1\u001B[39m):\n\u001B[0;32m    991\u001B[0m     \u001B[38;5;66;03m# evolve the population by a generation\u001B[39;00m\n\u001B[0;32m    992\u001B[0m     \u001B[38;5;28;01mtry\u001B[39;00m:\n\u001B[1;32m--> 993\u001B[0m         \u001B[38;5;28;43mnext\u001B[39;49m\u001B[43m(\u001B[49m\u001B[38;5;28;43mself\u001B[39;49m\u001B[43m)\u001B[49m\n\u001B[0;32m    994\u001B[0m     \u001B[38;5;28;01mexcept\u001B[39;00m \u001B[38;5;167;01mStopIteration\u001B[39;00m:\n\u001B[0;32m    995\u001B[0m         warning_flag \u001B[38;5;241m=\u001B[39m \u001B[38;5;28;01mTrue\u001B[39;00m\n",
      "File \u001B[1;32m~\\miniconda3\\envs\\devmicro\\lib\\site-packages\\scipy\\optimize\\_differentialevolution.py:1419\u001B[0m, in \u001B[0;36mDifferentialEvolutionSolver.__next__\u001B[1;34m(self)\u001B[0m\n\u001B[0;32m   1416\u001B[0m trial_energies \u001B[38;5;241m=\u001B[39m np\u001B[38;5;241m.\u001B[39mfull(\u001B[38;5;28mself\u001B[39m\u001B[38;5;241m.\u001B[39mnum_population_members, np\u001B[38;5;241m.\u001B[39minf)\n\u001B[0;32m   1418\u001B[0m \u001B[38;5;66;03m# only calculate for feasible entries\u001B[39;00m\n\u001B[1;32m-> 1419\u001B[0m trial_energies[feasible] \u001B[38;5;241m=\u001B[39m \u001B[38;5;28;43mself\u001B[39;49m\u001B[38;5;241;43m.\u001B[39;49m\u001B[43m_calculate_population_energies\u001B[49m\u001B[43m(\u001B[49m\n\u001B[0;32m   1420\u001B[0m \u001B[43m    \u001B[49m\u001B[43mtrial_pop\u001B[49m\u001B[43m[\u001B[49m\u001B[43mfeasible\u001B[49m\u001B[43m]\u001B[49m\u001B[43m)\u001B[49m\n\u001B[0;32m   1422\u001B[0m \u001B[38;5;66;03m# which solutions are 'improved'?\u001B[39;00m\n\u001B[0;32m   1423\u001B[0m loc \u001B[38;5;241m=\u001B[39m [\u001B[38;5;28mself\u001B[39m\u001B[38;5;241m.\u001B[39m_accept_trial(\u001B[38;5;241m*\u001B[39mval) \u001B[38;5;28;01mfor\u001B[39;00m val \u001B[38;5;129;01min\u001B[39;00m\n\u001B[0;32m   1424\u001B[0m        \u001B[38;5;28mzip\u001B[39m(trial_energies, feasible, cv, \u001B[38;5;28mself\u001B[39m\u001B[38;5;241m.\u001B[39mpopulation_energies,\n\u001B[0;32m   1425\u001B[0m            \u001B[38;5;28mself\u001B[39m\u001B[38;5;241m.\u001B[39mfeasible, \u001B[38;5;28mself\u001B[39m\u001B[38;5;241m.\u001B[39mconstraint_violation)]\n",
      "File \u001B[1;32m~\\miniconda3\\envs\\devmicro\\lib\\site-packages\\scipy\\optimize\\_differentialevolution.py:1117\u001B[0m, in \u001B[0;36mDifferentialEvolutionSolver._calculate_population_energies\u001B[1;34m(self, population)\u001B[0m\n\u001B[0;32m   1114\u001B[0m parameters_pop \u001B[38;5;241m=\u001B[39m \u001B[38;5;28mself\u001B[39m\u001B[38;5;241m.\u001B[39m_scale_parameters(population)\n\u001B[0;32m   1115\u001B[0m \u001B[38;5;28;01mtry\u001B[39;00m:\n\u001B[0;32m   1116\u001B[0m     calc_energies \u001B[38;5;241m=\u001B[39m \u001B[38;5;28mlist\u001B[39m(\n\u001B[1;32m-> 1117\u001B[0m         \u001B[38;5;28;43mself\u001B[39;49m\u001B[38;5;241;43m.\u001B[39;49m\u001B[43m_mapwrapper\u001B[49m\u001B[43m(\u001B[49m\u001B[38;5;28;43mself\u001B[39;49m\u001B[38;5;241;43m.\u001B[39;49m\u001B[43mfunc\u001B[49m\u001B[43m,\u001B[49m\u001B[43m \u001B[49m\u001B[43mparameters_pop\u001B[49m\u001B[43m[\u001B[49m\u001B[38;5;241;43m0\u001B[39;49m\u001B[43m:\u001B[49m\u001B[43mS\u001B[49m\u001B[43m]\u001B[49m\u001B[43m)\u001B[49m\n\u001B[0;32m   1118\u001B[0m     )\n\u001B[0;32m   1119\u001B[0m     calc_energies \u001B[38;5;241m=\u001B[39m np\u001B[38;5;241m.\u001B[39msqueeze(calc_energies)\n\u001B[0;32m   1120\u001B[0m \u001B[38;5;28;01mexcept\u001B[39;00m (\u001B[38;5;167;01mTypeError\u001B[39;00m, \u001B[38;5;167;01mValueError\u001B[39;00m) \u001B[38;5;28;01mas\u001B[39;00m e:\n\u001B[0;32m   1121\u001B[0m     \u001B[38;5;66;03m# wrong number of arguments for _mapwrapper\u001B[39;00m\n\u001B[0;32m   1122\u001B[0m     \u001B[38;5;66;03m# or wrong length returned from the mapper\u001B[39;00m\n",
      "File \u001B[1;32m~\\miniconda3\\envs\\devmicro\\lib\\site-packages\\scipy\\_lib\\_util.py:477\u001B[0m, in \u001B[0;36mMapWrapper.__call__\u001B[1;34m(self, func, iterable)\u001B[0m\n\u001B[0;32m    474\u001B[0m \u001B[38;5;28;01mdef\u001B[39;00m \u001B[38;5;21m__call__\u001B[39m(\u001B[38;5;28mself\u001B[39m, func, iterable):\n\u001B[0;32m    475\u001B[0m     \u001B[38;5;66;03m# only accept one iterable because that's all Pool.map accepts\u001B[39;00m\n\u001B[0;32m    476\u001B[0m     \u001B[38;5;28;01mtry\u001B[39;00m:\n\u001B[1;32m--> 477\u001B[0m         \u001B[38;5;28;01mreturn\u001B[39;00m \u001B[38;5;28;43mself\u001B[39;49m\u001B[38;5;241;43m.\u001B[39;49m\u001B[43m_mapfunc\u001B[49m\u001B[43m(\u001B[49m\u001B[43mfunc\u001B[49m\u001B[43m,\u001B[49m\u001B[43m \u001B[49m\u001B[43miterable\u001B[49m\u001B[43m)\u001B[49m\n\u001B[0;32m    478\u001B[0m     \u001B[38;5;28;01mexcept\u001B[39;00m \u001B[38;5;167;01mTypeError\u001B[39;00m \u001B[38;5;28;01mas\u001B[39;00m e:\n\u001B[0;32m    479\u001B[0m         \u001B[38;5;66;03m# wrong number of arguments\u001B[39;00m\n\u001B[0;32m    480\u001B[0m         \u001B[38;5;28;01mraise\u001B[39;00m \u001B[38;5;167;01mTypeError\u001B[39;00m(\u001B[38;5;124m\"\u001B[39m\u001B[38;5;124mThe map-like callable must be of the\u001B[39m\u001B[38;5;124m\"\u001B[39m\n\u001B[0;32m    481\u001B[0m                         \u001B[38;5;124m\"\u001B[39m\u001B[38;5;124m form f(func, iterable)\u001B[39m\u001B[38;5;124m\"\u001B[39m) \u001B[38;5;28;01mfrom\u001B[39;00m \u001B[38;5;21;01me\u001B[39;00m\n",
      "File \u001B[1;32m~\\miniconda3\\envs\\devmicro\\lib\\multiprocessing\\pool.py:364\u001B[0m, in \u001B[0;36mPool.map\u001B[1;34m(self, func, iterable, chunksize)\u001B[0m\n\u001B[0;32m    359\u001B[0m \u001B[38;5;28;01mdef\u001B[39;00m \u001B[38;5;21mmap\u001B[39m(\u001B[38;5;28mself\u001B[39m, func, iterable, chunksize\u001B[38;5;241m=\u001B[39m\u001B[38;5;28;01mNone\u001B[39;00m):\n\u001B[0;32m    360\u001B[0m     \u001B[38;5;124;03m'''\u001B[39;00m\n\u001B[0;32m    361\u001B[0m \u001B[38;5;124;03m    Apply `func` to each element in `iterable`, collecting the results\u001B[39;00m\n\u001B[0;32m    362\u001B[0m \u001B[38;5;124;03m    in a list that is returned.\u001B[39;00m\n\u001B[0;32m    363\u001B[0m \u001B[38;5;124;03m    '''\u001B[39;00m\n\u001B[1;32m--> 364\u001B[0m     \u001B[38;5;28;01mreturn\u001B[39;00m \u001B[38;5;28;43mself\u001B[39;49m\u001B[38;5;241;43m.\u001B[39;49m\u001B[43m_map_async\u001B[49m\u001B[43m(\u001B[49m\u001B[43mfunc\u001B[49m\u001B[43m,\u001B[49m\u001B[43m \u001B[49m\u001B[43miterable\u001B[49m\u001B[43m,\u001B[49m\u001B[43m \u001B[49m\u001B[43mmapstar\u001B[49m\u001B[43m,\u001B[49m\u001B[43m \u001B[49m\u001B[43mchunksize\u001B[49m\u001B[43m)\u001B[49m\u001B[38;5;241;43m.\u001B[39;49m\u001B[43mget\u001B[49m\u001B[43m(\u001B[49m\u001B[43m)\u001B[49m\n",
      "File \u001B[1;32m~\\miniconda3\\envs\\devmicro\\lib\\multiprocessing\\pool.py:765\u001B[0m, in \u001B[0;36mApplyResult.get\u001B[1;34m(self, timeout)\u001B[0m\n\u001B[0;32m    764\u001B[0m \u001B[38;5;28;01mdef\u001B[39;00m \u001B[38;5;21mget\u001B[39m(\u001B[38;5;28mself\u001B[39m, timeout\u001B[38;5;241m=\u001B[39m\u001B[38;5;28;01mNone\u001B[39;00m):\n\u001B[1;32m--> 765\u001B[0m     \u001B[38;5;28;43mself\u001B[39;49m\u001B[38;5;241;43m.\u001B[39;49m\u001B[43mwait\u001B[49m\u001B[43m(\u001B[49m\u001B[43mtimeout\u001B[49m\u001B[43m)\u001B[49m\n\u001B[0;32m    766\u001B[0m     \u001B[38;5;28;01mif\u001B[39;00m \u001B[38;5;129;01mnot\u001B[39;00m \u001B[38;5;28mself\u001B[39m\u001B[38;5;241m.\u001B[39mready():\n\u001B[0;32m    767\u001B[0m         \u001B[38;5;28;01mraise\u001B[39;00m \u001B[38;5;167;01mTimeoutError\u001B[39;00m\n",
      "File \u001B[1;32m~\\miniconda3\\envs\\devmicro\\lib\\multiprocessing\\pool.py:762\u001B[0m, in \u001B[0;36mApplyResult.wait\u001B[1;34m(self, timeout)\u001B[0m\n\u001B[0;32m    761\u001B[0m \u001B[38;5;28;01mdef\u001B[39;00m \u001B[38;5;21mwait\u001B[39m(\u001B[38;5;28mself\u001B[39m, timeout\u001B[38;5;241m=\u001B[39m\u001B[38;5;28;01mNone\u001B[39;00m):\n\u001B[1;32m--> 762\u001B[0m     \u001B[38;5;28;43mself\u001B[39;49m\u001B[38;5;241;43m.\u001B[39;49m\u001B[43m_event\u001B[49m\u001B[38;5;241;43m.\u001B[39;49m\u001B[43mwait\u001B[49m\u001B[43m(\u001B[49m\u001B[43mtimeout\u001B[49m\u001B[43m)\u001B[49m\n",
      "File \u001B[1;32m~\\miniconda3\\envs\\devmicro\\lib\\threading.py:558\u001B[0m, in \u001B[0;36mEvent.wait\u001B[1;34m(self, timeout)\u001B[0m\n\u001B[0;32m    556\u001B[0m signaled \u001B[38;5;241m=\u001B[39m \u001B[38;5;28mself\u001B[39m\u001B[38;5;241m.\u001B[39m_flag\n\u001B[0;32m    557\u001B[0m \u001B[38;5;28;01mif\u001B[39;00m \u001B[38;5;129;01mnot\u001B[39;00m signaled:\n\u001B[1;32m--> 558\u001B[0m     signaled \u001B[38;5;241m=\u001B[39m \u001B[38;5;28;43mself\u001B[39;49m\u001B[38;5;241;43m.\u001B[39;49m\u001B[43m_cond\u001B[49m\u001B[38;5;241;43m.\u001B[39;49m\u001B[43mwait\u001B[49m\u001B[43m(\u001B[49m\u001B[43mtimeout\u001B[49m\u001B[43m)\u001B[49m\n\u001B[0;32m    559\u001B[0m \u001B[38;5;28;01mreturn\u001B[39;00m signaled\n",
      "File \u001B[1;32m~\\miniconda3\\envs\\devmicro\\lib\\threading.py:302\u001B[0m, in \u001B[0;36mCondition.wait\u001B[1;34m(self, timeout)\u001B[0m\n\u001B[0;32m    300\u001B[0m \u001B[38;5;28;01mtry\u001B[39;00m:    \u001B[38;5;66;03m# restore state no matter what (e.g., KeyboardInterrupt)\u001B[39;00m\n\u001B[0;32m    301\u001B[0m     \u001B[38;5;28;01mif\u001B[39;00m timeout \u001B[38;5;129;01mis\u001B[39;00m \u001B[38;5;28;01mNone\u001B[39;00m:\n\u001B[1;32m--> 302\u001B[0m         \u001B[43mwaiter\u001B[49m\u001B[38;5;241;43m.\u001B[39;49m\u001B[43macquire\u001B[49m\u001B[43m(\u001B[49m\u001B[43m)\u001B[49m\n\u001B[0;32m    303\u001B[0m         gotit \u001B[38;5;241m=\u001B[39m \u001B[38;5;28;01mTrue\u001B[39;00m\n\u001B[0;32m    304\u001B[0m     \u001B[38;5;28;01melse\u001B[39;00m:\n",
      "\u001B[1;31mKeyboardInterrupt\u001B[0m: "
     ]
    }
   ],
   "source": [
    "scheme, _ = optimize_scheme(scheme, verdict_model, .02)\n",
    "print(scheme)\n",
    "IO.save_pickle(scheme, 'schemes/optimized_scheme.pkl')"
   ],
   "metadata": {
    "collapsed": false
   }
  }
 ],
 "metadata": {
  "kernelspec": {
   "display_name": "Python 3",
   "language": "python",
   "name": "python3"
  },
  "language_info": {
   "codemirror_mode": {
    "name": "ipython",
    "version": 2
   },
   "file_extension": ".py",
   "mimetype": "text/x-python",
   "name": "python",
   "nbconvert_exporter": "python",
   "pygments_lexer": "ipython2",
   "version": "2.7.6"
  }
 },
 "nbformat": 4,
 "nbformat_minor": 0
}
