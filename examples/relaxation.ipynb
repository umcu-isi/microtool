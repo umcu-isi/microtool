{
 "cells": [
  {
   "cell_type": "markdown",
   "source": [
    "# Including $ T_2 $ relaxation effects\n",
    "\n",
    "In this notebook we demonstrate how to include $ T_2 $ relaxation to the tissue models. We recommend first familiarizing yourself with the basic functionality of MICROtool before using this functionality.\n",
    "\n",
    "\n",
    "## Setting up the dmipy model\n"
   ],
   "metadata": {
    "collapsed": false
   }
  },
  {
   "cell_type": "code",
   "execution_count": 3,
   "metadata": {
    "collapsed": true,
    "ExecuteTime": {
     "end_time": "2023-09-29T12:56:38.831171400Z",
     "start_time": "2023-09-29T12:56:38.819485600Z"
    }
   },
   "outputs": [],
   "source": [
    "from dmipy.signal_models.gaussian_models import G1Ball\n",
    "\n",
    "from microtool.dmipy import make_microtool_tissue_model\n",
    "from microtool.tissue_model import RelaxedMultiTissueModel\n",
    "\n",
    "# setting up a simple model in dmipy, where lambda iso represents the diffusivity\n",
    "simple_ball_dmipy = G1Ball(lambda_iso=1.7e-9)\n",
    "\n",
    "# converting it to a microtool compatible model\n",
    "simple_ball_microtool = make_microtool_tissue_model(simple_ball_dmipy)\n",
    "\n",
    "# adding relaxation\n",
    "ball_with_relaxation = RelaxedMultiTissueModel(models=[simple_ball_microtool],volume_fractions= [1.0], relaxation_times=[0.020])"
   ]
  },
  {
   "cell_type": "markdown",
   "source": [
    "## Setting up the acquisition scheme"
   ],
   "metadata": {
    "collapsed": false
   }
  },
  {
   "cell_type": "code",
   "execution_count": 4,
   "outputs": [
    {
     "name": "stdout",
     "output_type": "stream",
     "text": [
      "Acquisition scheme with 30 measurements and 6 scalar parameters. \n",
      "total number of optimized parameters is 60:\n",
      "  DiffusionPulseMagnitude [mT/mm] in (0.0, 5000.0)    DiffusionGradientAnglePhi [rad] (fixed)    DiffusionGradientAngleTheta [rad] (fixed)    DiffusionPulseWidth [s] in (0.001, 0.1)    DiffusionPulseInterval [s] in (0.001, 0.1)    EchoTime [s] (fixed)\n",
      "--------------------------------------------------  -----------------------------------------  -------------------------------------------  -----------------------------------------  --------------------------------------------  ----------------------\n",
      "                                         0                                         -0.262465                                      1.5708                                        0.019                                         0.03                0.0349629\n",
      "                                         0                                          0.610784                                      1.02575                                       0.019                                         0.03                0.0349629\n",
      "                                         0                                         -2.33774                                       1.5708                                        0.019                                         0.03                0.0349629\n",
      "                                         0                                         -0.678872                                      1.5708                                        0.019                                         0.03                0.0349629\n",
      "                                         0                                         -0.649724                                      1.02601                                       0.019                                         0.03                0.0349629\n",
      "                                         0                                          2.68561                                       1.5708                                        0.019                                         0.03                0.0349629\n",
      "                                         0                                         -1.92302                                       1.5708                                        0.019                                         0.03                0.0349629\n",
      "                                         0                                          3.10053                                       1.5708                                        0.019                                         0.03                0.0349629\n",
      "                                         0                                         -1.283                                         1.07139                                       0.019                                         0.03                0.0349629\n",
      "                                         0                                          1.84066                                       1.5708                                        0.019                                         0.03                0.0349629\n",
      "                                         0.0501919                                 -1.90794                                       1.02155                                       0.016                                         0.027               0.0387992\n",
      "                                         0.0501919                                 -2.48969                                       0.483997                                      0.016                                         0.027               0.0387992\n",
      "                                         0.0501919                                 -0.0214467                                     1.08915                                       0.016                                         0.027               0.0387992\n",
      "                                         0.0501919                                  3.12463                                       1.02973                                       0.016                                         0.027               0.0387992\n",
      "                                         0.0501919                                  0.168358                                      1.5708                                        0.016                                         0.027               0.0387992\n",
      "                                         0.0501919                                  2.257                                         1.5708                                        0.016                                         0.027               0.0387992\n",
      "                                         0.0501919                                 -1.51067                                       1.5708                                        0.016                                         0.027               0.0387992\n",
      "                                         0.0501919                                 -2.536                                         1.08576                                       0.016                                         0.027               0.0387992\n",
      "                                         0.0501919                                  0.998917                                      1.5708                                        0.016                                         0.027               0.0387992\n",
      "                                         0.0501919                                  1.86713                                       1.02892                                       0.016                                         0.027               0.0387992\n",
      "                                         0.220066                                   1.42522                                       1.5708                                        0.007                                         0.02                0.0417196\n",
      "                                         0.220066                                   1.29547                                       0.47021                                       0.007                                         0.02                0.0417196\n",
      "                                         0.220066                                  -2.76635                                       1.5708                                        0.007                                         0.02                0.0417196\n",
      "                                         0.220066                                   2.54906                                       0.482763                                      0.007                                         0.02                0.0417196\n",
      "                                         0.220066                                   2.48996                                       1.08258                                       0.007                                         0.02                0.0417196\n",
      "                                         0.220066                                  -1.0874                                        1.5708                                        0.007                                         0.02                0.0417196\n",
      "                                         0.220066                                   1.23687                                       1.07645                                       0.007                                         0.02                0.0417196\n",
      "                                         0.220066                                   0.584437                                      1.5708                                        0.007                                         0.02                0.0417196\n",
      "                                         0.220066                                   0.035199                                      0.495181                                      0.007                                         0.02                0.0417196\n",
      "                                         0.220066                                  -1.21763                                       0.466898                                      0.007                                         0.02                0.0417196\n"
     ]
    }
   ],
   "source": [
    "import numpy as np\n",
    "from microtool.acquisition_scheme import DiffusionAcquisitionScheme\n",
    "from microtool.gradient_sampling import sample_uniform_half_sphere\n",
    "\n",
    "M = 10\n",
    "N = 30\n",
    "\n",
    "b_vals = np.concatenate([np.repeat(0, M), np.repeat(1000, M), np.repeat(3000, M)])\n",
    "pulse_widths = np.concatenate([np.repeat(0.019, M), np.repeat(0.016, M), np.repeat(0.007, M)])\n",
    "pulse_intervals = np.concatenate([np.repeat(0.030, M), np.repeat(0.027, M), np.repeat(0.020, M)])\n",
    "\n",
    "directions = sample_uniform_half_sphere(N)\n",
    "initial_scheme = DiffusionAcquisitionScheme.from_bvals(b_values=b_vals, b_vectors=directions, pulse_widths=pulse_widths,\n",
    "                                                       pulse_intervals=pulse_intervals)\n",
    "\n",
    "initial_scheme.fix_b0_measurements()\n",
    "initial_scheme[\"EchoTime\"].fixed = True\n",
    "print(initial_scheme)"
   ],
   "metadata": {
    "collapsed": false,
    "ExecuteTime": {
     "end_time": "2023-09-29T12:58:09.332144Z",
     "start_time": "2023-09-29T12:58:09.269176Z"
    }
   }
  },
  {
   "cell_type": "markdown",
   "source": [
    "Now that we have the acquisition scheme and tissue model defined we test the generation of signal. As we can see we get reduced signal because of $T_2$ decay with respect to the model presented in the basic_functionality notebook"
   ],
   "metadata": {
    "collapsed": false
   }
  },
  {
   "cell_type": "code",
   "execution_count": 5,
   "outputs": [
    {
     "data": {
      "text/plain": "array([0.17409669, 0.17409669, 0.17409669, 0.17409669, 0.17409669,\n       0.17409669, 0.17409669, 0.17409669, 0.17409669, 0.17409669,\n       0.02625138, 0.02625138, 0.02625138, 0.02625138, 0.02625138,\n       0.02625138, 0.02625138, 0.02625138, 0.02625138, 0.02625138,\n       0.00075664, 0.00075664, 0.00075664, 0.00075664, 0.00075664,\n       0.00075664, 0.00075664, 0.00075664, 0.00075664, 0.00075664])"
     },
     "execution_count": 5,
     "metadata": {},
     "output_type": "execute_result"
    }
   ],
   "source": [
    "ball_with_relaxation(initial_scheme)"
   ],
   "metadata": {
    "collapsed": false,
    "ExecuteTime": {
     "end_time": "2023-09-29T12:58:19.014740800Z",
     "start_time": "2023-09-29T12:58:18.952784900Z"
    }
   }
  }
 ],
 "metadata": {
  "kernelspec": {
   "display_name": "Python 3",
   "language": "python",
   "name": "python3"
  },
  "language_info": {
   "codemirror_mode": {
    "name": "ipython",
    "version": 2
   },
   "file_extension": ".py",
   "mimetype": "text/x-python",
   "name": "python",
   "nbconvert_exporter": "python",
   "pygments_lexer": "ipython2",
   "version": "2.7.6"
  }
 },
 "nbformat": 4,
 "nbformat_minor": 0
}
