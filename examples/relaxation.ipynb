{
 "cells": [
  {
   "cell_type": "markdown",
   "source": [
    "# Including $ T_2 $ relaxation effects\n",
    "\n",
    "In this notebook we demonstrate how to include $ T_2 $ relaxation to the tissue models. We recommend first familiarizing yourself with the basic functionality of MICROtool before using this functionality.\n",
    "\n",
    "\n",
    "## Setting up the dmipy model\n"
   ],
   "metadata": {
    "collapsed": false
   }
  },
  {
   "cell_type": "code",
   "execution_count": 1,
   "metadata": {
    "collapsed": true,
    "ExecuteTime": {
     "end_time": "2023-05-22T18:15:01.685943900Z",
     "start_time": "2023-05-22T18:14:53.827922800Z"
    }
   },
   "outputs": [],
   "source": [
    "from dmipy.core.modeling_framework import MultiCompartmentModel\n",
    "from dmipy.signal_models.gaussian_models import G1Ball\n",
    "from pathlib import Path\n",
    "from microtool.dmipy import DmipyTissueModel\n",
    "from microtool.tissue_model import RelaxedMultiTissueModel\n",
    "from microtool.monte_carlo.IO import make_expirement_directories\n",
    "from microtool.utils.IO import save_pickle\n",
    "\n",
    "plotdir,modeldir,simdir,schemedir = make_expirement_directories(Path.cwd(),\"relaxation_output\")\n",
    "\n",
    "# setting up a simple model\n",
    "simple_ball = G1Ball(lambda_iso=1.7e-9)\n",
    "\n",
    "# This step is unnecessary\n",
    "dmipy_model = MultiCompartmentModel([simple_ball])\n",
    "\n",
    "microtool_model = DmipyTissueModel(dmipy_model)\n",
    "\n",
    "model = RelaxedMultiTissueModel([microtool_model], volume_fractions=[1.0], relaxation_times=[10.0])\n",
    "\n",
    "save_pickle(model, modeldir / \"model.pkl\")"
   ]
  },
  {
   "cell_type": "markdown",
   "source": [
    "## Setting up the acquisition scheme"
   ],
   "metadata": {
    "collapsed": false
   }
  },
  {
   "cell_type": "code",
   "execution_count": 2,
   "outputs": [
    {
     "name": "stdout",
     "output_type": "stream",
     "text": [
      "Acquisition scheme with 44 measurements and 6 scalar parameters:\n",
      "  DiffusionBValue [s/mm²] in (0.0, 20000.0)    DiffusionGradientAnglePhi [rad] (fixed)    DiffusionGradientAngleTheta [rad] (fixed)    DiffusionPulseWidth [ms] in (1.0, 100.0)    DiffusionPulseInterval [ms] in (1.0, 1000.0)    EchoTime [ms] in (0.1, 1000.0)\n",
      "-------------------------------------------  -----------------------------------------  -------------------------------------------  ------------------------------------------  ----------------------------------------------  --------------------------------\n",
      "                                          0                                 -1.96142                                       1.98074                                            7                                              12                           36.2367\n",
      "                                          0                                  2.96645                                       0.952638                                           7                                              12                           36.2367\n",
      "                                          0                                  2.07307                                       1.23008                                            7                                              12                           36.2367\n",
      "                                          0                                  1.62697                                       2.54232                                            7                                              12                           36.2367\n",
      "                                          0                                 -1.27481                                       1.10667                                            7                                              12                           36.2367\n",
      "                                          0                                 -0.270954                                      1.62352                                            7                                              12                           36.2367\n",
      "                                          0                                  2.48994                                       1.95269                                            7                                              12                           36.2367\n",
      "                                          0                                  1.34847                                       0.60227                                            7                                              12                           36.2367\n",
      "                                          0                                  1.37824                                       1.69944                                            7                                              12                           36.2367\n",
      "                                          0                                 -2.81808                                       2.61018                                            7                                              12                           36.2367\n",
      "                                          0                                 -2.91948                                       1.73266                                            7                                              12                           36.2367\n",
      "                                          0                                 -0.636474                                      2.68892                                            7                                              12                           36.2367\n",
      "                                          0                                  0.618152                                      1.26883                                            7                                              12                           36.2367\n",
      "                                          0                                 -0.25727                                       0.757764                                           7                                              12                           36.2367\n",
      "                                          0                                 -2.23691                                       1.15731                                            7                                              12                           36.2367\n",
      "                                          0                                 -2.16437                                       0.277348                                           7                                              12                           36.2367\n",
      "                                          0                                 -1.06813                                       1.91179                                            7                                              12                           36.2367\n",
      "                                          0                                  0.472403                                      2.13875                                            7                                              12                           36.2367\n",
      "                                       1216                                  2.60908                                       1.00502                                            7                                              12                           43.2734\n",
      "                                       1216                                 -0.533535                                      2.13766                                            7                                              12                           43.2734\n",
      "                                       3580                                 -2.10549                                       1.03826                                           16                                              27                           49.036\n",
      "                                       3580                                 -2.54479                                       2.37961                                           16                                              27                           49.036\n",
      "                                       3580                                  0.511081                                      2.65099                                           16                                              27                           49.036\n",
      "                                       3580                                 -1.03372                                       1.75195                                           16                                              27                           49.036\n",
      "                                       3580                                  1.53964                                       0.239709                                          16                                              27                           49.036\n",
      "                                       3580                                  2.75287                                       1.47983                                           16                                              27                           49.036\n",
      "                                       3580                                  1.51025                                       1.63866                                           16                                              27                           49.036\n",
      "                                       3580                                  0.139495                                      1.2833                                            16                                              27                           49.036\n",
      "                                      17370                                  2.05158                                       2.70866                                           19                                              24                           63.7645\n",
      "                                      17370                                 -2.13112                                       2.51041                                           19                                              24                           63.7645\n",
      "                                      17370                                  3.06409                                       2.03861                                           19                                              24                           63.7645\n",
      "                                      17370                                  2.17196                                       0.682145                                          19                                              24                           63.7645\n",
      "                                      17370                                 -3.1171                                        1.18985                                           19                                              24                           63.7645\n",
      "                                      17370                                 -0.448586                                      1.44898                                           19                                              24                           63.7645\n",
      "                                      17370                                  1.24852                                       2.0204                                            19                                              24                           63.7645\n",
      "                                      17370                                 -0.0898814                                     2.48214                                           19                                              24                           63.7645\n",
      "                                      17370                                 -1.34349                                       1.09407                                           19                                              24                           63.7645\n",
      "                                      17370                                  1.18142                                       1.10581                                           19                                              24                           63.7645\n",
      "                                      17370                                  0.390882                                      1.61653                                           19                                              24                           63.7645\n",
      "                                      17370                                 -2.21389                                       1.55764                                           19                                              24                           63.7645\n",
      "                                      17370                                  0.0424964                                     0.575475                                          19                                              24                           63.7645\n",
      "                                      17370                                 -1.19984                                       2.00115                                           19                                              24                           63.7645\n",
      "                                      17370                                  2.15893                                       1.63407                                           19                                              24                           63.7645\n",
      "                                      17370                                 -2.25679                                       0.476705                                          19                                              24                           63.7645\n"
     ]
    }
   ],
   "source": [
    "from microtool.dmipy import convert_dmipy_scheme2diffusion_scheme\n",
    "\n",
    "from microtool.utils.saved_schemes import alexander2008_optimized_directions\n",
    "\n",
    "# We use an acquisition scheme defined in dmipy\n",
    "dmipy_scheme = alexander2008_optimized_directions([2, 8, 16])\n",
    "initial_scheme = convert_dmipy_scheme2diffusion_scheme(dmipy_scheme)\n",
    "\n",
    "# In order to use this acquisition scheme we need to fix the b0 measurements for dmipy to be able to generate signal\n",
    "initial_scheme.fix_b0_measurements()\n",
    "save_pickle(initial_scheme, schemedir / \"initial.pkl\")\n",
    "print(initial_scheme)"
   ],
   "metadata": {
    "collapsed": false,
    "ExecuteTime": {
     "end_time": "2023-05-22T18:15:36.270875Z",
     "start_time": "2023-05-22T18:15:35.998547Z"
    }
   }
  },
  {
   "cell_type": "markdown",
   "source": [
    "Now that we have the acquisition scheme and tissue model defined we test the generation of signal."
   ],
   "metadata": {
    "collapsed": false
   }
  },
  {
   "cell_type": "code",
   "execution_count": 3,
   "outputs": [
    {
     "data": {
      "text/plain": "array([1.00000000e+00, 1.00000000e+00, 1.00000000e+00, 1.00000000e+00,\n       1.00000000e+00, 1.00000000e+00, 1.00000000e+00, 1.00000000e+00,\n       1.00000000e+00, 1.00000000e+00, 1.00000000e+00, 1.00000000e+00,\n       1.00000000e+00, 1.00000000e+00, 1.00000000e+00, 1.00000000e+00,\n       1.00000000e+00, 1.00000000e+00, 1.26539597e-01, 1.26539597e-01,\n       2.27448870e-03, 2.27448870e-03, 2.27448870e-03, 2.27448870e-03,\n       2.27448870e-03, 2.27448870e-03, 2.27448870e-03, 2.27448870e-03,\n       1.49871220e-13, 1.49871220e-13, 1.49871220e-13, 1.49871220e-13,\n       1.49871220e-13, 1.49871220e-13, 1.49871220e-13, 1.49871220e-13,\n       1.49871220e-13, 1.49871220e-13, 1.49871220e-13, 1.49871220e-13,\n       1.49871220e-13, 1.49871220e-13, 1.49871220e-13, 1.49871220e-13])"
     },
     "execution_count": 3,
     "metadata": {},
     "output_type": "execute_result"
    }
   ],
   "source": [
    "microtool_model(initial_scheme)"
   ],
   "metadata": {
    "collapsed": false,
    "ExecuteTime": {
     "end_time": "2023-05-22T18:15:48.207733600Z",
     "start_time": "2023-05-22T18:15:48.116295400Z"
    }
   }
  },
  {
   "cell_type": "markdown",
   "source": [
    "## Optimizing the scheme with respect to the diffusivity."
   ],
   "metadata": {
    "collapsed": false
   }
  },
  {
   "cell_type": "code",
   "execution_count": 7,
   "outputs": [
    {
     "name": "stderr",
     "output_type": "stream",
     "text": [
      "C:\\Users\\Frank\\miniconda3\\envs\\devmicro\\lib\\site-packages\\scipy\\optimize\\_constraints.py:446: OptimizeWarning: Constraint options `finite_diff_jac_sparsity`, `finite_diff_rel_step`, `keep_feasible`, and `hess`are ignored by this method.\n",
      "  warn(\"Constraint options `finite_diff_jac_sparsity`, \"\n",
      "C:\\Users\\Frank\\miniconda3\\envs\\devmicro\\lib\\site-packages\\dmipy\\core\\acquisition_scheme.py:179: UserWarning: No b0 measurements were detected. Check if the b0_threshold option is high enough, or if there is a mistake in the acquisition design.\n",
      "  warn(msg)\n"
     ]
    }
   ],
   "source": [
    "from microtool.optimize import optimize_scheme\n",
    "\n",
    "scheme, _ = optimize_scheme(initial_scheme, microtool_model, noise_variance=0.02, method=None)\n",
    "save_pickle(scheme, schemedir / \"optimal.pkl\")"
   ],
   "metadata": {
    "collapsed": false,
    "ExecuteTime": {
     "end_time": "2023-05-22T12:36:13.761765100Z",
     "start_time": "2023-05-22T12:33:19.437977900Z"
    }
   }
  },
  {
   "cell_type": "markdown",
   "source": [
    "## Fitting the model"
   ],
   "metadata": {
    "collapsed": false
   }
  },
  {
   "cell_type": "code",
   "execution_count": 8,
   "outputs": [
    {
     "ename": "ValueError",
     "evalue": "acquisition scheme must have b0-measurements for signal-attenuation-based model fitting.",
     "output_type": "error",
     "traceback": [
      "\u001B[1;31m---------------------------------------------------------------------------\u001B[0m",
      "\u001B[1;31mValueError\u001B[0m                                Traceback (most recent call last)",
      "Input \u001B[1;32mIn [8]\u001B[0m, in \u001B[0;36m<cell line: 4>\u001B[1;34m()\u001B[0m\n\u001B[0;32m      1\u001B[0m \u001B[38;5;66;03m# Generating basic signal on the new scheme\u001B[39;00m\n\u001B[0;32m      2\u001B[0m signal \u001B[38;5;241m=\u001B[39m microtool_model(scheme)\n\u001B[1;32m----> 4\u001B[0m fitted_model \u001B[38;5;241m=\u001B[39m \u001B[43mmicrotool_model\u001B[49m\u001B[38;5;241;43m.\u001B[39;49m\u001B[43mfit\u001B[49m\u001B[43m(\u001B[49m\u001B[43mscheme\u001B[49m\u001B[43m,\u001B[49m\u001B[43m \u001B[49m\u001B[43msignal\u001B[49m\u001B[43m)\u001B[49m\n\u001B[0;32m      5\u001B[0m fitted_model\u001B[38;5;241m.\u001B[39mfitted_parameters\n",
      "File \u001B[1;32m~\\OneDrive - Universiteit Utrecht\\Documents\\Major Research\\Software\\microtool\\microtool\\dmipy.py:210\u001B[0m, in \u001B[0;36mDmipyTissueModel.fit\u001B[1;34m(self, scheme, signal, **fit_options)\u001B[0m\n\u001B[0;32m    207\u001B[0m \u001B[38;5;28;01mdef\u001B[39;00m \u001B[38;5;21mfit\u001B[39m(\u001B[38;5;28mself\u001B[39m, scheme: DiffusionAcquisitionScheme, signal: np\u001B[38;5;241m.\u001B[39mndarray, \u001B[38;5;241m*\u001B[39m\u001B[38;5;241m*\u001B[39mfit_options) \u001B[38;5;241m-\u001B[39m\u001B[38;5;241m>\u001B[39m FittedDmipyModel:\n\u001B[0;32m    208\u001B[0m     dmipy_scheme \u001B[38;5;241m=\u001B[39m convert_diffusion_scheme2dmipy_scheme(scheme)\n\u001B[1;32m--> 210\u001B[0m     result \u001B[38;5;241m=\u001B[39m \u001B[38;5;28;43mself\u001B[39;49m\u001B[38;5;241;43m.\u001B[39;49m\u001B[43m_model\u001B[49m\u001B[38;5;241;43m.\u001B[39;49m\u001B[43mfit\u001B[49m\u001B[43m(\u001B[49m\u001B[43mdmipy_scheme\u001B[49m\u001B[43m,\u001B[49m\u001B[43m \u001B[49m\u001B[43msignal\u001B[49m\u001B[43m,\u001B[49m\u001B[43m \u001B[49m\u001B[38;5;241;43m*\u001B[39;49m\u001B[38;5;241;43m*\u001B[39;49m\u001B[43mfit_options\u001B[49m\u001B[43m)\u001B[49m\n\u001B[0;32m    212\u001B[0m     \u001B[38;5;28;01mreturn\u001B[39;00m FittedDmipyModel(\u001B[38;5;28mself\u001B[39m, result)\n",
      "File \u001B[1;32m~\\miniconda3\\envs\\devmicro\\lib\\site-packages\\dmipy\\core\\modeling_framework.py:1149\u001B[0m, in \u001B[0;36mMultiCompartmentModel.fit\u001B[1;34m(self, acquisition_scheme, data, mask, solver, Ns, maxiter, N_sphere_samples, use_parallel_processing, number_of_processors)\u001B[0m\n\u001B[0;32m   1147\u001B[0m \u001B[38;5;28mself\u001B[39m\u001B[38;5;241m.\u001B[39m_check_tissue_model_acquisition_scheme(acquisition_scheme)\n\u001B[0;32m   1148\u001B[0m \u001B[38;5;28mself\u001B[39m\u001B[38;5;241m.\u001B[39m_check_model_params_with_acquisition_params(acquisition_scheme)\n\u001B[1;32m-> 1149\u001B[0m \u001B[38;5;28;43mself\u001B[39;49m\u001B[38;5;241;43m.\u001B[39;49m\u001B[43m_check_acquisition_scheme_has_b0s\u001B[49m\u001B[43m(\u001B[49m\u001B[43macquisition_scheme\u001B[49m\u001B[43m)\u001B[49m\n\u001B[0;32m   1150\u001B[0m \u001B[38;5;28mself\u001B[39m\u001B[38;5;241m.\u001B[39m_check_if_volume_fractions_are_fixed()\n\u001B[0;32m   1151\u001B[0m \u001B[38;5;28mself\u001B[39m\u001B[38;5;241m.\u001B[39m_check_if_sh_coeff_fixed_if_present()\n",
      "File \u001B[1;32m~\\miniconda3\\envs\\devmicro\\lib\\site-packages\\dmipy\\core\\modeling_framework.py:884\u001B[0m, in \u001B[0;36mMultiCompartmentModelProperties._check_acquisition_scheme_has_b0s\u001B[1;34m(self, acquisition_scheme)\u001B[0m\n\u001B[0;32m    874\u001B[0m \u001B[38;5;250m\u001B[39m\u001B[38;5;124;03m\"\"\"\u001B[39;00m\n\u001B[0;32m    875\u001B[0m \u001B[38;5;124;03mChecks if acquisition scheme has any b0-measurements. This for the\u001B[39;00m\n\u001B[0;32m    876\u001B[0m \u001B[38;5;124;03mmoment is a prerequisite for signal-attenuation-based model fitting.\u001B[39;00m\n\u001B[1;32m   (...)\u001B[0m\n\u001B[0;32m    881\u001B[0m \u001B[38;5;124;03m    An acquisition scheme that has been instantiated using Dmipy.\u001B[39;00m\n\u001B[0;32m    882\u001B[0m \u001B[38;5;124;03m\"\"\"\u001B[39;00m\n\u001B[0;32m    883\u001B[0m \u001B[38;5;28;01mif\u001B[39;00m \u001B[38;5;129;01mnot\u001B[39;00m np\u001B[38;5;241m.\u001B[39many(acquisition_scheme\u001B[38;5;241m.\u001B[39mb0_mask):\n\u001B[1;32m--> 884\u001B[0m     \u001B[38;5;28;01mraise\u001B[39;00m \u001B[38;5;167;01mValueError\u001B[39;00m(\u001B[38;5;124m'\u001B[39m\u001B[38;5;124macquisition scheme must have b0-measurements \u001B[39m\u001B[38;5;124m'\u001B[39m\n\u001B[0;32m    885\u001B[0m                      \u001B[38;5;124m'\u001B[39m\u001B[38;5;124mfor signal-attenuation-based model fitting.\u001B[39m\u001B[38;5;124m'\u001B[39m)\n",
      "\u001B[1;31mValueError\u001B[0m: acquisition scheme must have b0-measurements for signal-attenuation-based model fitting."
     ]
    }
   ],
   "source": [
    "# Generating basic signal on the new scheme\n",
    "signal = microtool_model(scheme)\n",
    "\n",
    "fitted_model = microtool_model.fit(scheme, signal)\n",
    "fitted_model.fitted_parameters"
   ],
   "metadata": {
    "collapsed": false,
    "ExecuteTime": {
     "end_time": "2023-05-22T12:43:13.040702300Z",
     "start_time": "2023-05-22T12:43:12.057059400Z"
    }
   }
  },
  {
   "cell_type": "markdown",
   "source": [
    "## Validation of scheme optimization through Monte Carlo simulations"
   ],
   "metadata": {
    "collapsed": false
   }
  },
  {
   "cell_type": "code",
   "execution_count": null,
   "outputs": [],
   "source": [
    "from microtool.monte_carlo.simulation import MonteCarloSimulation\n",
    "from scipy import stats\n",
    "\n",
    "# loc is mean and scale is standard deviation\n",
    "noise_distribution = stats.norm(loc=0, scale=0.02)\n",
    "\n",
    "simulation = MonteCarloSimulation(scheme,microtool_model,noise_distribution,n_sim=100)\n",
    "\n",
    "simulation.run()\n",
    "simulation.save(simdir / \"optimal.pkl\")\n",
    "\n",
    "simulation.set_scheme(initial_scheme)\n",
    "simulation.run()\n",
    "simulation.save(simdir / \"non_optimal.pkl\")\n",
    "\n"
   ],
   "metadata": {
    "collapsed": false,
    "is_executing": true
   }
  }
 ],
 "metadata": {
  "kernelspec": {
   "display_name": "Python 3",
   "language": "python",
   "name": "python3"
  },
  "language_info": {
   "codemirror_mode": {
    "name": "ipython",
    "version": 2
   },
   "file_extension": ".py",
   "mimetype": "text/x-python",
   "name": "python",
   "nbconvert_exporter": "python",
   "pygments_lexer": "ipython2",
   "version": "2.7.6"
  }
 },
 "nbformat": 4,
 "nbformat_minor": 0
}
