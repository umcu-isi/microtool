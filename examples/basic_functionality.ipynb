{
 "cells": [
  {
   "cell_type": "markdown",
   "metadata": {
    "collapsed": false,
    "jupyter": {
     "outputs_hidden": false
    }
   },
   "source": [
    "# Basic functionality\n",
    "\n",
    "In this notebook we demonstrate the basic usage of the MICROtool package. The main usage of MICROtool is to optimize a diffusion imaging acquisition scheme based on a microstructural model. In order to do so the steps to follow are\n",
    "1. Setup a tissue model\n",
    "2. Setup an acquisition scheme (it is recommended to choose an initial scheme that already is a sensible choice for your problem)\n",
    "3. Optimize the scheme using cramer rao lower bound based optimization.\n",
    "4. (optional) Verify the resulting scheme using monte carlo simulations.\n",
    "\n",
    "\n",
    "## Setting up the dmipy model\n",
    "\n",
    "We demonstrate this using a simple model from dmipy"
   ]
  },
  {
   "cell_type": "code",
   "execution_count": 1,
   "metadata": {
    "ExecuteTime": {
     "end_time": "2024-09-10T11:26:26.451334Z",
     "start_time": "2024-09-10T11:26:21.372995Z"
    }
   },
   "outputs": [],
   "source": [
    "import numpy as np\n",
    "from dmipy.signal_models.gaussian_models import G1Ball\n",
    "from microtool.dmipy import DmipyMultiTissueModel\n",
    "\n",
    "# Setup up a simple model in dmipy, where lambda_iso represents the diffusivity.\n",
    "simple_ball_dmipy = G1Ball(lambda_iso=1.7e-9)\n",
    "\n",
    "# Convert it to a microtool compatible model.\n",
    "simple_ball_microtool = DmipyMultiTissueModel(simple_ball_dmipy)"
   ]
  },
  {
   "cell_type": "markdown",
   "metadata": {
    "collapsed": false,
    "jupyter": {
     "outputs_hidden": false
    }
   },
   "source": [
    "## Setting up the acquisition scheme"
   ]
  },
  {
   "cell_type": "code",
   "execution_count": 2,
   "metadata": {
    "ExecuteTime": {
     "end_time": "2024-09-10T11:26:26.482336Z",
     "start_time": "2024-09-10T11:26:26.451334Z"
    },
    "collapsed": false,
    "jupyter": {
     "outputs_hidden": false
    }
   },
   "outputs": [
    {
     "name": "stdout",
     "output_type": "stream",
     "text": [
      "Acquisition scheme with 18 measurements and 6 scalar parameters. \n",
      "total number of optimized parameters is 36:\n",
      "  DiffusionPulseMagnitude [mT/mm] in (0.0, 5000.0)    DiffusionGradientAnglePhi [rad] (fixed)    DiffusionGradientAngleTheta [rad] (fixed)    DiffusionPulseWidth [s] in (0.001, 0.1)    DiffusionPulseInterval [s] in (0.001, 0.1)    EchoTime [s] (fixed)\n",
      "--------------------------------------------------  -----------------------------------------  -------------------------------------------  -----------------------------------------  --------------------------------------------  ----------------------\n",
      "                                         0                                          -1.27224                                     1.5708                                         0.019                                         0.03                0.035086\n",
      "                                         0                                          -2.41504                                     1.5708                                         0.019                                         0.03                0.035086\n",
      "                                         0                                          -3.00876                                     0.0030705                                      0.019                                         0.03                0.035086\n",
      "                                         0                                          -0.114169                                    0.844538                                       0.019                                         0.03                0.035086\n",
      "                                         0                                          -0.697825                                    1.5708                                         0.019                                         0.03                0.035086\n",
      "                                         0                                           3.02798                                     0.847161                                       0.019                                         0.03                0.035086\n",
      "                                         0.0501919                                   2.72569                                     1.5708                                         0.016                                         0.027               0.0388137\n",
      "                                         0.0501919                                  -0.127099                                    1.5708                                         0.016                                         0.027               0.0388137\n",
      "                                         0.0501919                                   1.97609                                     0.84571                                        0.016                                         0.027               0.0388137\n",
      "                                         0.0501919                                   1.58661                                     1.5708                                         0.016                                         0.027               0.0388137\n",
      "                                         0.0501919                                  -2.98084                                     1.5708                                         0.016                                         0.027               0.0388137\n",
      "                                         0.0501919                                   0.444429                                    1.5708                                         0.016                                         0.027               0.0388137\n",
      "                                         0.220066                                    0.928745                                    0.845563                                       0.007                                         0.02                0.0417283\n",
      "                                         0.220066                                   -1.15794                                     0.84466                                        0.007                                         0.02                0.0417283\n",
      "                                         0.220066                                    2.16287                                     1.5708                                         0.007                                         0.02                0.0417283\n",
      "                                         0.220066                                    1.01845                                     1.5708                                         0.007                                         0.02                0.0417283\n",
      "                                         0.220066                                   -1.84025                                     1.5708                                         0.007                                         0.02                0.0417283\n",
      "                                         0.220066                                   -2.20517                                     0.847512                                       0.007                                         0.02                0.0417283\n"
     ]
    }
   ],
   "source": [
    "from microtool.acquisition_scheme import DiffusionAcquisitionScheme\n",
    "from microtool.gradient_sampling import sample_uniform_half_sphere\n",
    "\n",
    "\n",
    "n_directions = 6  # Number of b-vectors per shell\n",
    "n_shells = 3  # Number of shells\n",
    "\n",
    "b_vals = np.concatenate([np.repeat(0, n_directions), np.repeat(1000, n_directions), np.repeat(3000, n_directions)])\n",
    "pulse_widths = np.concatenate([np.repeat(0.019, n_directions), np.repeat(0.016, n_directions), np.repeat(0.007, n_directions)])\n",
    "pulse_intervals = np.concatenate([np.repeat(0.030, n_directions), np.repeat(0.027, n_directions), np.repeat(0.020, n_directions)])\n",
    "\n",
    "directions = sample_uniform_half_sphere(n_directions * n_shells)\n",
    "initial_scheme = DiffusionAcquisitionScheme.from_bvals(b_values=b_vals,\n",
    "                                                       b_vectors=directions,\n",
    "                                                       pulse_widths=pulse_widths,\n",
    "                                                       pulse_intervals=pulse_intervals)\n",
    "\n",
    "initial_scheme.fix_b0_measurements()\n",
    "initial_scheme[\"EchoTime\"].fixed = True  # Don't optimize the echo time, but keep it fixed to the given value.\n",
    "print(initial_scheme)"
   ]
  },
  {
   "cell_type": "markdown",
   "metadata": {
    "collapsed": false,
    "jupyter": {
     "outputs_hidden": false
    }
   },
   "source": [
    "Now that we have the acquisition scheme and tissue model defined we test the generation of signal."
   ]
  },
  {
   "cell_type": "code",
   "execution_count": 3,
   "metadata": {
    "ExecuteTime": {
     "end_time": "2024-09-10T11:26:26.513868Z",
     "start_time": "2024-09-10T11:26:26.482336Z"
    },
    "collapsed": false,
    "jupyter": {
     "outputs_hidden": false
    }
   },
   "outputs": [
    {
     "data": {
      "text/plain": [
       "array([1.        , 1.        , 1.        , 1.        , 1.        ,\n",
       "       1.        , 0.18266944, 0.18266944, 0.18266944, 0.18266944,\n",
       "       0.18266944, 0.18266944, 0.00609281, 0.00609281, 0.00609281,\n",
       "       0.00609281, 0.00609281, 0.00609281])"
      ]
     },
     "execution_count": 3,
     "metadata": {},
     "output_type": "execute_result"
    }
   ],
   "source": [
    "simple_ball_microtool(initial_scheme)"
   ]
  },
  {
   "cell_type": "markdown",
   "metadata": {
    "collapsed": false,
    "jupyter": {
     "outputs_hidden": false
    }
   },
   "source": [
    "## Optimizing the scheme with respect to the diffusivity"
   ]
  },
  {
   "cell_type": "code",
   "execution_count": 4,
   "metadata": {
    "ExecuteTime": {
     "end_time": "2024-09-10T11:30:07.432979Z",
     "start_time": "2024-09-10T11:26:26.513868Z"
    },
    "collapsed": false,
    "jupyter": {
     "outputs_hidden": false
    }
   },
   "outputs": [
    {
     "name": "stdout",
     "output_type": "stream",
     "text": [
      "| niter |f evals|CG iter|  obj func   |tr radius |   opt    |  c viol  |\n",
      "|-------|-------|-------|-------------|----------|----------|----------|\n",
      "|   1   |  37   |   0   | +9.8896e-02 | 1.00e+00 | 5.60e-02 | 0.00e+00 |\n",
      "|   2   |  37   |   0   | +9.8896e-02 | 5.00e+00 | 1.12e-02 | 0.00e+00 |\n"
     ]
    },
    {
     "name": "stderr",
     "output_type": "stream",
     "text": [
      "C:\\develop\\microtool\\venv\\lib\\site-packages\\scipy\\optimize\\_hessian_update_strategy.py:182: UserWarning: delta_grad == 0.0. Check if the approximated function is linear. If the function is linear better results can be obtained by defining the Hessian as zero instead of using quasi-Newton approximations.\n",
      "  warn('delta_grad == 0.0. Check if the approximated '\n"
     ]
    },
    {
     "name": "stdout",
     "output_type": "stream",
     "text": [
      "|   3   |  74   |   4   | +9.8756e-02 | 3.50e+01 | 1.12e-02 | 0.00e+00 |\n",
      "|   4   |  111  |   9   | +9.7874e-02 | 7.00e+01 | 1.01e-02 | 0.00e+00 |\n",
      "|   5   |  148  |  16   | +5.1608e-02 | 7.00e+01 | 1.29e-02 | 0.00e+00 |\n",
      "|   6   |  148  |  16   | +5.1608e-02 | 3.50e+02 | 4.08e-03 | 0.00e+00 |\n",
      "|   7   |  185  |  22   | +5.4604e-02 | 3.50e+02 | 1.48e-03 | 0.00e+00 |\n",
      "|   8   |  222  |  36   | +4.0678e-02 | 3.50e+02 | 1.91e-03 | 0.00e+00 |\n",
      "|   9   |  259  |  47   | +3.9012e-02 | 3.50e+02 | 2.07e-03 | 0.00e+00 |\n",
      "|  10   |  296  |  59   | +3.7086e-02 | 3.50e+02 | 1.85e-03 | 0.00e+00 |\n",
      "|  11   |  333  |  85   | +3.7086e-02 | 3.50e+01 | 1.85e-03 | 0.00e+00 |\n",
      "|  12   |  370  |  115  | +3.7086e-02 | 7.80e+00 | 1.85e-03 | 0.00e+00 |\n",
      "|  13   |  407  |  135  | +4.8824e-02 | 7.80e+00 | 2.59e-03 | 0.00e+00 |\n",
      "|  14   |  444  |  154  | +4.9843e-02 | 7.80e+00 | 3.02e-03 | 0.00e+00 |\n",
      "|  15   |  481  |  173  | +4.0514e-02 | 1.26e+01 | 1.93e-03 | 0.00e+00 |\n",
      "|  16   |  518  |  189  | +3.8084e-02 | 1.26e+01 | 2.30e-03 | 0.00e+00 |\n",
      "|  17   |  518  |  189  | +3.8084e-02 | 6.29e+01 | 7.22e-04 | 0.00e+00 |\n",
      "|  18   |  555  |  208  | +3.8084e-02 | 6.29e+00 | 7.22e-04 | 0.00e+00 |\n",
      "|  19   |  592  |  226  | +3.6371e-02 | 6.29e+00 | 6.13e-04 | 0.00e+00 |\n",
      "|  20   |  629  |  236  | +3.6234e-02 | 6.29e+00 | 5.98e-04 | 0.00e+00 |\n",
      "|  21   |  666  |  260  | +3.5949e-02 | 6.29e+00 | 4.88e-04 | 0.00e+00 |\n",
      "|  22   |  703  |  280  | +3.5949e-02 | 6.29e-01 | 4.88e-04 | 0.00e+00 |\n",
      "|  23   |  740  |  300  | +3.5903e-02 | 2.87e+00 | 6.72e-04 | 0.00e+00 |\n",
      "|  24   |  777  |  306  | +3.5882e-02 | 2.87e+00 | 6.20e-04 | 0.00e+00 |\n",
      "|  25   |  814  |  320  | +3.6036e-02 | 3.96e+00 | 6.72e-04 | 0.00e+00 |\n",
      "|  26   |  851  |  338  | +3.6378e-02 | 4.22e+00 | 8.84e-04 | 0.00e+00 |\n",
      "|  27   |  888  |  358  | +3.6799e-02 | 5.90e+00 | 1.02e-03 | 0.00e+00 |\n",
      "|  28   |  925  |  365  | +3.6329e-02 | 5.90e+00 | 8.68e-04 | 0.00e+00 |\n",
      "|  29   |  962  |  374  | +3.5877e-02 | 5.90e+00 | 5.01e-04 | 0.00e+00 |\n",
      "|  30   |  962  |  374  | +3.5877e-02 | 2.95e+01 | 1.68e-04 | 0.00e+00 |\n",
      "\n",
      "The maximum number of function evaluations is exceeded.\n",
      "Number of iterations: 30, function evaluations: 962, CG iterations: 374, optimality: 1.68e-04, constraint violation: 0.00e+00, execution time: 2.6e+01 s.\n",
      "           message: The maximum number of function evaluations is exceeded.\n",
      "           success: False\n",
      "            status: 0\n",
      "               fun: 0.035876992212160314\n",
      "                 x: [ 3.705e-02  3.513e-02 ...  1.919e+00  2.268e+00]\n",
      "               nit: 30\n",
      "              nfev: 962\n",
      "              njev: 26\n",
      "              nhev: 0\n",
      "          cg_niter: 374\n",
      "      cg_stop_cond: 0\n",
      "              grad: [-3.394e-02 -3.869e-02 ... -9.075e-05 -1.580e-04]\n",
      "   lagrangian_grad: [-3.826e-06 -4.225e-06 ... -1.229e-04 -1.685e-04]\n",
      "            constr: [array([ 4.692e-03,  4.692e-03, ...,  6.551e-03,\n",
      "                            1.029e-02]), array([ 4.000e-01,  4.000e-01, ...,  2.919e-01,\n",
      "                            2.990e-01]), array([ 1.000e-06,  1.000e-06, ...,  3.915e-03,\n",
      "                            3.961e-03]), array([ 3.705e-02,  3.513e-02, ...,  1.919e+00,\n",
      "                            2.268e+00])]\n",
      "               jac: [array([[ 0.000e+00,  0.000e+00, ...,  0.000e+00,\n",
      "                             0.000e+00],\n",
      "                           [ 0.000e+00,  0.000e+00, ...,  0.000e+00,\n",
      "                             0.000e+00],\n",
      "                           ...,\n",
      "                           [ 0.000e+00,  0.000e+00, ...,  1.000e-02,\n",
      "                             0.000e+00],\n",
      "                           [ 0.000e+00,  0.000e+00, ...,  0.000e+00,\n",
      "                             1.000e-02]]), array([[ 0.000e+00,  0.000e+00, ...,  0.000e+00,\n",
      "                             0.000e+00],\n",
      "                           [ 0.000e+00,  0.000e+00, ...,  0.000e+00,\n",
      "                             0.000e+00],\n",
      "                           ...,\n",
      "                           [ 0.000e+00,  0.000e+00, ...,  0.000e+00,\n",
      "                             0.000e+00],\n",
      "                           [ 0.000e+00,  0.000e+00, ...,  0.000e+00,\n",
      "                             0.000e+00]]), array([[ 0.000e+00,  0.000e+00, ...,  0.000e+00,\n",
      "                             0.000e+00],\n",
      "                           [ 0.000e+00,  0.000e+00, ...,  0.000e+00,\n",
      "                             0.000e+00],\n",
      "                           ...,\n",
      "                           [ 0.000e+00,  0.000e+00, ..., -9.198e-04,\n",
      "                             0.000e+00],\n",
      "                           [ 0.000e+00,  0.000e+00, ...,  0.000e+00,\n",
      "                            -7.502e-04]]), array([[ 1.000e+00,  0.000e+00, ...,  0.000e+00,\n",
      "                             0.000e+00],\n",
      "                           [ 0.000e+00,  1.000e+00, ...,  0.000e+00,\n",
      "                             0.000e+00],\n",
      "                           ...,\n",
      "                           [ 0.000e+00,  0.000e+00, ...,  1.000e+00,\n",
      "                             0.000e+00],\n",
      "                           [ 0.000e+00,  0.000e+00, ...,  0.000e+00,\n",
      "                             1.000e+00]])]\n",
      "       constr_nfev: [963, 963, 963, 0]\n",
      "       constr_njev: [0, 0, 0, 0]\n",
      "       constr_nhev: [0, 0, 0, 0]\n",
      "                 v: [array([-3.410e-02, -3.410e-02, ..., -8.443e-03,\n",
      "                           -1.008e-02]), array([-4.000e-04, -4.000e-04, ..., -6.949e-04,\n",
      "                           -8.620e-04]), array([-1.600e+02, -1.600e+02, ..., -8.846e-02,\n",
      "                           -1.398e-01]), array([-1.531e-03, -1.131e-03, ..., -2.912e-05,\n",
      "                           -1.445e-05])]\n",
      "            method: tr_interior_point\n",
      "        optimality: 0.0001684534149879061\n",
      "  constr_violation: 0.0\n",
      "    execution_time: 26.436331510543823\n",
      "         tr_radius: 29.51038467986674\n",
      "    constr_penalty: 1.0\n",
      " barrier_parameter: 0.00016000000000000007\n",
      " barrier_tolerance: 0.00016000000000000007\n",
      "             niter: 30\n"
     ]
    },
    {
     "name": "stderr",
     "output_type": "stream",
     "text": [
      "c:\\develop\\microtool\\microtool\\optimize\\optimize.py:237: UserWarning: Optimization procedure was unsuccessful. Possible solutions include but are not limited to: Changing the optimizer settings, changing the optimization method or changing the initial scheme to a more suitable one. If you are using a scipy optimizer its settings can be changed by passing options to this function. If you are using a MICROtool optimization method please consult the optimization_methods module for more details.\n",
      "  warnings.warn(\n"
     ]
    }
   ],
   "source": [
    "from microtool.optimize import optimize_scheme\n",
    "\n",
    "optimal_scheme, _ = optimize_scheme(initial_scheme, simple_ball_microtool, noise_variance=0.02, method=\"trust-constr\", solver_options={\"verbose\":2, \"maxiter\": 30})"
   ]
  },
  {
   "cell_type": "markdown",
   "metadata": {
    "collapsed": false,
    "jupyter": {
     "outputs_hidden": false
    }
   },
   "source": [
    "## Fitting the model"
   ]
  },
  {
   "cell_type": "code",
   "execution_count": 5,
   "metadata": {
    "ExecuteTime": {
     "end_time": "2024-09-10T11:30:44.406828Z",
     "start_time": "2024-09-10T11:30:43.807449Z"
    },
    "collapsed": false,
    "jupyter": {
     "outputs_hidden": false
    }
   },
   "outputs": [
    {
     "name": "stdout",
     "output_type": "stream",
     "text": [
      "Setup brute2fine optimizer in 0.00040221214294433594 seconds\n",
      "Fitting of 1 voxels complete in 0.46185803413391113 seconds.\n",
      "Average of 0.46185803413391113 seconds per voxel.\n"
     ]
    },
    {
     "data": {
      "text/plain": [
       "{'G1Ball_1_lambda_iso': array([1.69997924e-09])}"
      ]
     },
     "execution_count": 5,
     "metadata": {},
     "output_type": "execute_result"
    }
   ],
   "source": [
    "# Generating basic signal on the new scheme\n",
    "signal = simple_ball_microtool(optimal_scheme)\n",
    "\n",
    "fitted_model = simple_ball_microtool.fit(optimal_scheme, signal, use_parallel_processing=False)\n",
    "fitted_model.fitted_parameters"
   ]
  },
  {
   "cell_type": "markdown",
   "metadata": {
    "collapsed": false,
    "jupyter": {
     "outputs_hidden": false
    }
   },
   "source": [
    "## Starting an experiment\n",
    "\n",
    "This is an optional step to initiate some directories"
   ]
  },
  {
   "cell_type": "code",
   "execution_count": 6,
   "metadata": {
    "ExecuteTime": {
     "end_time": "2024-09-10T11:30:48.260615Z",
     "start_time": "2024-09-10T11:30:48.198063Z"
    },
    "collapsed": false,
    "jupyter": {
     "outputs_hidden": false
    }
   },
   "outputs": [
    {
     "name": "stderr",
     "output_type": "stream",
     "text": [
      "c:\\develop\\microtool\\microtool\\monte_carlo\\IO.py:38: UserWarning: There is already a folder with the name of the experiment. No new folders have been created.\n",
      "  warnings.warn(\"There is already a folder with the name of the experiment. No new folders have been created.\")\n"
     ]
    }
   ],
   "source": [
    "from microtool.monte_carlo.IO import make_expirement_directories\n",
    "from pathlib import Path\n",
    "\n",
    "# make an expirement directory in the current execution directory\n",
    "_, _, simdir, _ = make_expirement_directories(Path.cwd(), \"basic_output\")"
   ]
  },
  {
   "cell_type": "markdown",
   "metadata": {
    "collapsed": false,
    "jupyter": {
     "outputs_hidden": false
    }
   },
   "source": [
    "## Validation of scheme optimization through Monte Carlo simulations\n",
    "\n",
    "What we want to do now is verify that our scheme increase the accuracy with which we can fit the parameters of our tissue model. To do so we run monte carlo simulations both with the scheme we started out with and the scheme resulting from the optimization."
   ]
  },
  {
   "cell_type": "code",
   "execution_count": 7,
   "metadata": {
    "ExecuteTime": {
     "end_time": "2024-09-10T11:31:30.494648Z",
     "start_time": "2024-09-10T11:31:01.050185Z"
    },
    "collapsed": false,
    "jupyter": {
     "outputs_hidden": false
    }
   },
   "outputs": [
    {
     "name": "stderr",
     "output_type": "stream",
     "text": [
      "Starting Monte Carlo with 100 simulations: 100%|█████████████████████████████████████| 100/100 [07:47<00:00,  4.68s/it]\n",
      "Starting Monte Carlo with 100 simulations: 100%|█████████████████████████████████████| 100/100 [07:52<00:00,  4.73s/it]\n"
     ]
    }
   ],
   "source": [
    "from microtool.monte_carlo.simulation import MonteCarloSimulation\n",
    "from scipy import stats\n",
    "\n",
    "# loc is mean and scale is standard deviation\n",
    "noise_distribution = stats.norm(loc=0, scale=0.02)\n",
    "\n",
    "# Perform a Monte Carlo simulation using the initial scheme.\n",
    "simulation = MonteCarloSimulation(initial_scheme, simple_ball_microtool, noise_distribution, n_sim=100)\n",
    "simulation.run()\n",
    "simulation.save(simdir / \"initial.pkl\")\n",
    "\n",
    "# Repeat the simulation using the optimized scheme.\n",
    "simulation.set_scheme(optimal_scheme)\n",
    "simulation.run()\n",
    "simulation.save(simdir / \"optimal.pkl\")"
   ]
  },
  {
   "cell_type": "code",
   "execution_count": 8,
   "metadata": {},
   "outputs": [
    {
     "data": {
      "image/png": "[encoded data removed]",
      "text/plain": [
       "<Figure size 640x480 with 1 Axes>"
      ]
     },
     "metadata": {},
     "output_type": "display_data"
    }
   ],
   "source": [
    "from matplotlib import pyplot as plt\n",
    "from microtool.utils.IO import get_pickle\n",
    "\n",
    "\n",
    "initial_result = get_pickle(simdir / \"initial.pkl\")\n",
    "optimal_result = get_pickle(simdir / \"optimal.pkl\")\n",
    "\n",
    "for name, parameter in simple_ball_microtool.items():\n",
    "    if parameter.optimize:\n",
    "        bins = np.linspace(0.9 * parameter.value, 1.1 * parameter.value, 25)\n",
    "        plt.figure()\n",
    "        plt.axvline(x=parameter.value, color=\"black\")\n",
    "        plt.hist(initial_result[name], bins=bins, alpha = 0.5)\n",
    "        plt.hist(optimal_result[name], bins=bins, alpha = 0.5)\n",
    "        plt.xlabel(name)\n",
    "        plt.ylabel(\"Count\")\n",
    "        plt.legend([\"Ground truth\", \"Initial\", \"Optimized\"])"
   ]
  }
 ],
 "metadata": {
  "kernelspec": {
   "display_name": "Python 3 (ipykernel)",
   "language": "python",
   "name": "python3"
  },
  "language_info": {
   "codemirror_mode": {
    "name": "ipython",
    "version": 3
   },
   "file_extension": ".py",
   "mimetype": "text/x-python",
   "name": "python",
   "nbconvert_exporter": "python",
   "pygments_lexer": "ipython3",
   "version": "3.8.10"
  }
 },
 "nbformat": 4,
 "nbformat_minor": 4
}
