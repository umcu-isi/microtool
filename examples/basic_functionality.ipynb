{
 "cells": [
  {
   "cell_type": "markdown",
   "source": [
    "# Basic functionality\n",
    "\n",
    "In this notebook we demonstrate the basic usage of the MICROtool package. The main usage of MICROtool is to optimize a diffusion imaging acquisition scheme based on a microstructural model. In order to do so the steps to follow are\n",
    "1. Setup a tissue model\n",
    "2. Setup an acquisition scheme (it is recommended to choose an initial scheme that already is a sensible choice for your problem)\n",
    "3. Optimize the scheme using cramer rao lower bound based optimization.\n",
    "4. (optional) Verify the resulting scheme using monte carlo simulations.\n",
    "\n",
    "\n",
    "## Setting up the dmipy model\n",
    "\n",
    "We demonstrate this using a simple model from dmipy"
   ],
   "metadata": {
    "collapsed": false
   }
  },
  {
   "cell_type": "code",
   "execution_count": 3,
   "metadata": {
    "collapsed": true,
    "ExecuteTime": {
     "end_time": "2023-09-29T11:06:38.178430100Z",
     "start_time": "2023-09-29T11:06:38.158851300Z"
    }
   },
   "outputs": [],
   "source": [
    "import numpy as np\n",
    "from dmipy.signal_models.gaussian_models import G1Ball\n",
    "from microtool.dmipy import make_microtool_tissue_model\n",
    "\n",
    "# setting up a simple model in dmipy, where lambda iso represents the diffusivity\n",
    "simple_ball_dmipy = G1Ball(lambda_iso=1.7e-9)\n",
    "\n",
    "# converting it to a microtool compatible model\n",
    "simple_ball_microtool = make_microtool_tissue_model(simple_ball_dmipy)"
   ]
  },
  {
   "cell_type": "markdown",
   "source": [
    "## Setting up the acquisition scheme"
   ],
   "metadata": {
    "collapsed": false
   }
  },
  {
   "cell_type": "code",
   "execution_count": 17,
   "outputs": [
    {
     "name": "stdout",
     "output_type": "stream",
     "text": [
      "Acquisition scheme with 30 measurements and 6 scalar parameters. \n",
      "total number of optimized parameters is 60:\n",
      "  DiffusionPulseMagnitude [mT/mm] in (0.0, 5000.0)    DiffusionGradientAnglePhi [rad] (fixed)    DiffusionGradientAngleTheta [rad] (fixed)    DiffusionPulseWidth [s] in (0.001, 0.1)    DiffusionPulseInterval [s] in (0.001, 0.1)    EchoTime [s] (fixed)\n",
      "--------------------------------------------------  -----------------------------------------  -------------------------------------------  -----------------------------------------  --------------------------------------------  ----------------------\n",
      "                                         0                                         -0.262465                                      1.5708                                        0.019                                         0.03                0.0349629\n",
      "                                         0                                          0.610784                                      1.02575                                       0.019                                         0.03                0.0349629\n",
      "                                         0                                         -2.33774                                       1.5708                                        0.019                                         0.03                0.0349629\n",
      "                                         0                                         -0.678872                                      1.5708                                        0.019                                         0.03                0.0349629\n",
      "                                         0                                         -0.649724                                      1.02601                                       0.019                                         0.03                0.0349629\n",
      "                                         0                                          2.68561                                       1.5708                                        0.019                                         0.03                0.0349629\n",
      "                                         0                                         -1.92302                                       1.5708                                        0.019                                         0.03                0.0349629\n",
      "                                         0                                          3.10053                                       1.5708                                        0.019                                         0.03                0.0349629\n",
      "                                         0                                         -1.283                                         1.07139                                       0.019                                         0.03                0.0349629\n",
      "                                         0                                          1.84066                                       1.5708                                        0.019                                         0.03                0.0349629\n",
      "                                         0.0501919                                 -1.90794                                       1.02155                                       0.016                                         0.027               0.0387992\n",
      "                                         0.0501919                                 -2.48969                                       0.483997                                      0.016                                         0.027               0.0387992\n",
      "                                         0.0501919                                 -0.0214467                                     1.08915                                       0.016                                         0.027               0.0387992\n",
      "                                         0.0501919                                  3.12463                                       1.02973                                       0.016                                         0.027               0.0387992\n",
      "                                         0.0501919                                  0.168358                                      1.5708                                        0.016                                         0.027               0.0387992\n",
      "                                         0.0501919                                  2.257                                         1.5708                                        0.016                                         0.027               0.0387992\n",
      "                                         0.0501919                                 -1.51067                                       1.5708                                        0.016                                         0.027               0.0387992\n",
      "                                         0.0501919                                 -2.536                                         1.08576                                       0.016                                         0.027               0.0387992\n",
      "                                         0.0501919                                  0.998917                                      1.5708                                        0.016                                         0.027               0.0387992\n",
      "                                         0.0501919                                  1.86713                                       1.02892                                       0.016                                         0.027               0.0387992\n",
      "                                         0.220066                                   1.42522                                       1.5708                                        0.007                                         0.02                0.0417196\n",
      "                                         0.220066                                   1.29547                                       0.47021                                       0.007                                         0.02                0.0417196\n",
      "                                         0.220066                                  -2.76635                                       1.5708                                        0.007                                         0.02                0.0417196\n",
      "                                         0.220066                                   2.54906                                       0.482763                                      0.007                                         0.02                0.0417196\n",
      "                                         0.220066                                   2.48996                                       1.08258                                       0.007                                         0.02                0.0417196\n",
      "                                         0.220066                                  -1.0874                                        1.5708                                        0.007                                         0.02                0.0417196\n",
      "                                         0.220066                                   1.23687                                       1.07645                                       0.007                                         0.02                0.0417196\n",
      "                                         0.220066                                   0.584437                                      1.5708                                        0.007                                         0.02                0.0417196\n",
      "                                         0.220066                                   0.035199                                      0.495181                                      0.007                                         0.02                0.0417196\n",
      "                                         0.220066                                  -1.21763                                       0.466898                                      0.007                                         0.02                0.0417196\n"
     ]
    }
   ],
   "source": [
    "from microtool.acquisition_scheme import DiffusionAcquisitionScheme\n",
    "from microtool.gradient_sampling import sample_uniform_half_sphere\n",
    "\n",
    "M = 10\n",
    "N = 30\n",
    "\n",
    "b_vals = np.concatenate([np.repeat(0, M), np.repeat(1000, M), np.repeat(3000, M)])\n",
    "pulse_widths = np.concatenate([np.repeat(0.019, M), np.repeat(0.016, M), np.repeat(0.007, M)])\n",
    "pulse_intervals = np.concatenate([np.repeat(0.030, M), np.repeat(0.027, M), np.repeat(0.020, M)])\n",
    "\n",
    "directions = sample_uniform_half_sphere(N)\n",
    "initial_scheme = DiffusionAcquisitionScheme.from_bvals(b_values=b_vals, b_vectors=directions, pulse_widths=pulse_widths,\n",
    "                                                       pulse_intervals=pulse_intervals)\n",
    "\n",
    "initial_scheme.fix_b0_measurements()\n",
    "initial_scheme[\"EchoTime\"].fixed = True\n",
    "print(initial_scheme)"
   ],
   "metadata": {
    "collapsed": false,
    "ExecuteTime": {
     "end_time": "2023-09-29T11:55:34.373770Z",
     "start_time": "2023-09-29T11:55:34.342544900Z"
    }
   }
  },
  {
   "cell_type": "markdown",
   "source": [
    "Now that we have the acquisition scheme and tissue model defined we test the generation of signal."
   ],
   "metadata": {
    "collapsed": false
   }
  },
  {
   "cell_type": "code",
   "execution_count": 19,
   "outputs": [
    {
     "data": {
      "text/plain": "array([1.        , 1.        , 1.        , 1.        , 1.        ,\n       1.        , 1.        , 1.        , 1.        , 1.        ,\n       0.18266944, 0.18266944, 0.18266944, 0.18266944, 0.18266944,\n       0.18266944, 0.18266944, 0.18266944, 0.18266944, 0.18266944,\n       0.00609281, 0.00609281, 0.00609281, 0.00609281, 0.00609281,\n       0.00609281, 0.00609281, 0.00609281, 0.00609281, 0.00609281])"
     },
     "execution_count": 19,
     "metadata": {},
     "output_type": "execute_result"
    }
   ],
   "source": [
    "simple_ball_microtool(initial_scheme)"
   ],
   "metadata": {
    "collapsed": false,
    "ExecuteTime": {
     "end_time": "2023-09-29T11:55:44.639953800Z",
     "start_time": "2023-09-29T11:55:44.620570400Z"
    }
   }
  },
  {
   "cell_type": "markdown",
   "source": [
    "## Optimizing the scheme with respect to the diffusivity."
   ],
   "metadata": {
    "collapsed": false
   }
  },
  {
   "cell_type": "code",
   "execution_count": 20,
   "outputs": [
    {
     "name": "stdout",
     "output_type": "stream",
     "text": [
      "| niter |f evals|CG iter|  obj func   |tr radius |   opt    |  c viol  |\n",
      "|-------|-------|-------|-------------|----------|----------|----------|\n",
      "|   1   |  61   |   0   | +5.9338e-02 | 1.00e+00 | 5.60e-02 | 0.00e+00 |\n",
      "|   2   |  61   |   0   | +5.9338e-02 | 5.00e+00 | 1.12e-02 | 0.00e+00 |\n",
      "|   3   |  61   |   0   | +5.9338e-02 | 2.50e+01 | 2.24e-03 | 0.00e+00 |\n"
     ]
    },
    {
     "name": "stderr",
     "output_type": "stream",
     "text": [
      "C:\\Users\\Frank\\miniconda3\\envs\\devmicro\\lib\\site-packages\\scipy\\optimize\\_hessian_update_strategy.py:182: UserWarning: delta_grad == 0.0. Check if the approximated function is linear. If the function is linear better results can be obtained by defining the Hessian as zero instead of using quasi-Newton approximations.\n",
      "  warn('delta_grad == 0.0. Check if the approximated '\n"
     ]
    },
    {
     "name": "stdout",
     "output_type": "stream",
     "text": [
      "|   4   |  122  |   6   | +5.9215e-02 | 5.00e+01 | 2.28e-03 | 0.00e+00 |\n",
      "|   5   |  183  |  11   | +5.7815e-02 | 5.00e+01 | 2.21e-03 | 0.00e+00 |\n",
      "|   6   |  244  |  18   | +5.6936e-02 | 1.00e+02 | 2.79e-03 | 0.00e+00 |\n",
      "|   7   |  305  |  28   | +2.7175e-02 | 1.00e+02 | 1.81e-03 | 0.00e+00 |\n",
      "|   8   |  305  |  28   | +2.7175e-02 | 5.00e+02 | 2.54e-04 | 0.00e+00 |\n",
      "|   9   |  366  |  39   | +2.8971e-02 | 5.00e+02 | 9.13e-04 | 0.00e+00 |\n",
      "|  10   |  427  |  50   | +2.2821e-02 | 5.00e+02 | 5.14e-04 | 0.00e+00 |\n",
      "|  11   |  488  |  70   | +2.2821e-02 | 5.00e+01 | 5.14e-04 | 0.00e+00 |\n",
      "|  12   |  549  |  92   | +2.2821e-02 | 7.52e+00 | 5.14e-04 | 0.00e+00 |\n",
      "|  13   |  610  |  112  | +2.2821e-02 | 3.76e+00 | 5.14e-04 | 0.00e+00 |\n",
      "|  14   |  671  |  123  | +2.2187e-02 | 2.63e+01 | 4.29e-04 | 0.00e+00 |\n",
      "|  15   |  732  |  138  | +2.2527e-02 | 2.63e+01 | 5.07e-04 | 0.00e+00 |\n",
      "|  16   |  732  |  138  | +2.2527e-02 | 1.32e+02 | 1.68e-04 | 0.00e+00 |\n",
      "|  17   |  793  |  157  | +2.2527e-02 | 1.32e+01 | 1.68e-04 | 0.00e+00 |\n",
      "|  18   |  854  |  172  | +2.1621e-02 | 1.32e+01 | 1.01e-04 | 0.00e+00 |\n",
      "|  19   |  915  |  197  | +2.1621e-02 | 1.32e+00 | 1.01e-04 | 0.00e+00 |\n",
      "|  20   |  976  |  210  | +2.1453e-02 | 3.90e+00 | 9.63e-05 | 0.00e+00 |\n",
      "|  21   | 1037  |  219  | +2.1443e-02 | 3.90e+00 | 8.64e-05 | 0.00e+00 |\n",
      "|  22   | 1098  |  223  | +2.1433e-02 | 3.90e+00 | 8.82e-05 | 0.00e+00 |\n",
      "|  23   | 1098  |  223  | +2.1433e-02 | 1.95e+01 | 2.32e-05 | 0.00e+00 |\n",
      "|  24   | 1159  |  247  | +2.1433e-02 | 1.95e+00 | 2.32e-05 | 0.00e+00 |\n",
      "|  25   | 1220  |  276  | +2.1433e-02 | 3.98e-01 | 2.32e-05 | 0.00e+00 |\n",
      "|  26   | 1281  |  285  | +2.1366e-02 | 7.95e-01 | 4.16e-05 | 0.00e+00 |\n",
      "|  27   | 1342  |  306  | +2.1366e-02 | 9.54e-02 | 4.16e-05 | 0.00e+00 |\n",
      "|  28   | 1403  |  313  | +2.1358e-02 | 4.26e-01 | 2.77e-05 | 0.00e+00 |\n",
      "|  29   | 1464  |  320  | +2.1357e-02 | 4.26e-01 | 2.48e-05 | 0.00e+00 |\n",
      "|  30   | 1525  |  329  | +2.1358e-02 | 4.26e-01 | 2.31e-05 | 0.00e+00 |\n",
      "|  31   | 1525  |  329  | +2.1358e-02 | 2.13e+00 | 9.34e-06 | 0.00e+00 |\n",
      "|  32   | 1586  |  345  | +2.1355e-02 | 2.13e+00 | 3.03e-06 | 0.00e+00 |\n",
      "|  33   | 1586  |  345  | +2.1355e-02 | 1.07e+01 | 1.03e-06 | 0.00e+00 |\n",
      "|  34   | 1647  |  362  | +2.1354e-02 | 1.07e+01 | 1.19e-06 | 0.00e+00 |\n",
      "|  35   | 1708  |  367  | +2.1354e-02 | 1.07e+01 | 1.01e-06 | 0.00e+00 |\n",
      "|  36   | 1769  |  380  | +2.1354e-02 | 1.07e+01 | 8.40e-07 | 0.00e+00 |\n",
      "|  37   | 1769  |  380  | +2.1354e-02 | 5.33e+01 | 2.89e-07 | 0.00e+00 |\n",
      "|  38   | 1830  |  397  | +2.1354e-02 | 5.33e+01 | 2.50e-07 | 0.00e+00 |\n",
      "|  39   | 1891  |  415  | +2.1354e-02 | 5.33e+01 | 2.89e-07 | 0.00e+00 |\n",
      "|  40   | 1952  |  444  | +2.1354e-02 | 5.33e+00 | 2.89e-07 | 0.00e+00 |\n",
      "|  41   | 2013  |  477  | +2.1354e-02 | 5.33e+00 | 5.80e-07 | 0.00e+00 |\n",
      "|  42   | 2074  |  490  | +2.1354e-02 | 5.33e+00 | 3.45e-07 | 0.00e+00 |\n",
      "|  43   | 2135  |  519  | +2.1354e-02 | 5.33e+00 | 2.48e-07 | 0.00e+00 |\n",
      "|  44   | 2196  |  572  | +2.1354e-02 | 5.33e-01 | 2.48e-07 | 0.00e+00 |\n",
      "|  45   | 2257  |  615  | +2.1354e-02 | 1.53e+00 | 4.13e-07 | 0.00e+00 |\n",
      "|  46   | 2318  |  645  | +2.1354e-02 | 1.53e-01 | 4.13e-07 | 0.00e+00 |\n",
      "|  47   | 2379  |  658  | +2.1354e-02 | 1.53e-01 | 3.27e-07 | 0.00e+00 |\n",
      "|  48   | 2440  |  687  | +2.1354e-02 | 1.07e+00 | 3.91e-07 | 0.00e+00 |\n",
      "|  49   | 2501  |  716  | +2.1354e-02 | 1.07e-01 | 3.91e-07 | 0.00e+00 |\n",
      "|  50   | 2562  |  738  | +2.1354e-02 | 1.07e-01 | 2.63e-07 | 0.00e+00 |\n",
      "|  51   | 2623  |  767  | +2.1354e-02 | 7.48e-01 | 1.09e-06 | 0.00e+00 |\n",
      "|  52   | 2684  |  786  | +2.1354e-02 | 7.48e-01 | 3.19e-07 | 0.00e+00 |\n",
      "|  53   | 2745  |  819  | +2.1354e-02 | 2.27e-01 | 3.19e-07 | 0.00e+00 |\n",
      "|  54   | 2806  |  859  | +2.1354e-02 | 1.59e+00 | 5.91e-07 | 0.00e+00 |\n",
      "|  55   | 2867  |  885  | +2.1354e-02 | 1.59e-01 | 5.91e-07 | 0.00e+00 |\n",
      "|  56   | 2928  |  900  | +2.1354e-02 | 1.59e-01 | 3.71e-07 | 0.00e+00 |\n",
      "|  57   | 2989  |  929  | +2.1354e-02 | 3.18e-01 | 1.69e-06 | 0.00e+00 |\n",
      "|  58   | 3050  |  950  | +2.1354e-02 | 3.18e-01 | 4.40e-07 | 0.00e+00 |\n",
      "|  59   | 3111  |  992  | +2.1354e-02 | 1.59e-01 | 4.40e-07 | 0.00e+00 |\n",
      "|  60   | 3172  | 1031  | +2.1354e-02 | 1.11e+00 | 1.32e-06 | 0.00e+00 |\n",
      "|  61   | 3233  | 1047  | +2.1354e-02 | 1.11e+00 | 3.69e-07 | 0.00e+00 |\n",
      "|  62   | 3294  | 1094  | +2.1354e-02 | 3.72e-01 | 3.69e-07 | 0.00e+00 |\n",
      "|  63   | 3355  | 1140  | +2.1354e-02 | 1.92e+00 | 4.80e-07 | 0.00e+00 |\n",
      "|  64   | 3416  | 1155  | +2.1354e-02 | 1.92e+00 | 3.21e-07 | 0.00e+00 |\n",
      "|  65   | 3477  | 1196  | +2.1354e-02 | 1.92e+00 | 4.32e-07 | 0.00e+00 |\n",
      "|  66   | 3538  | 1241  | +2.1354e-02 | 1.92e-01 | 4.32e-07 | 0.00e+00 |\n",
      "|  67   | 3599  | 1282  | +2.1354e-02 | 3.80e-01 | 2.01e-07 | 0.00e+00 |\n",
      "|  68   | 3660  | 1321  | +2.1354e-02 | 3.80e-01 | 1.39e-07 | 0.00e+00 |\n",
      "|  69   | 3721  | 1355  | +2.1354e-02 | 2.66e+00 | 2.24e-06 | 0.00e+00 |\n",
      "|  70   | 3782  | 1363  | +2.1354e-02 | 2.66e+00 | 3.76e-07 | 0.00e+00 |\n",
      "|  71   | 3843  | 1378  | +2.1354e-02 | 2.66e+00 | 2.19e-07 | 0.00e+00 |\n",
      "|  72   | 3904  | 1425  | +2.1354e-02 | 2.66e-01 | 2.19e-07 | 0.00e+00 |\n",
      "|  73   | 3965  | 1466  | +2.1354e-02 | 5.16e-01 | 2.51e-07 | 0.00e+00 |\n",
      "|  74   | 4026  | 1510  | +2.1354e-02 | 5.16e-01 | 2.30e-07 | 0.00e+00 |\n",
      "|  75   | 4087  | 1548  | +2.1355e-02 | 1.03e+00 | 2.07e-06 | 0.00e+00 |\n",
      "|  76   | 4148  | 1579  | +2.1355e-02 | 1.03e-01 | 2.07e-06 | 0.00e+00 |\n",
      "|  77   | 4209  | 1598  | +2.1354e-02 | 1.03e-01 | 6.82e-07 | 0.00e+00 |\n",
      "|  78   | 4270  | 1612  | +2.1354e-02 | 1.03e-01 | 7.25e-07 | 0.00e+00 |\n",
      "|  79   | 4331  | 1627  | +2.1354e-02 | 1.03e-01 | 1.30e-06 | 0.00e+00 |\n",
      "|  80   | 4392  | 1628  | +2.1354e-02 | 1.03e-01 | 1.28e-06 | 0.00e+00 |\n",
      "|  81   | 4453  | 1634  | +2.1354e-02 | 1.03e-01 | 7.20e-07 | 0.00e+00 |\n",
      "|  82   | 4514  | 1648  | +2.1354e-02 | 1.03e-01 | 6.55e-07 | 0.00e+00 |\n",
      "|  83   | 4575  | 1661  | +2.1354e-02 | 1.03e-01 | 2.46e-07 | 0.00e+00 |\n",
      "|  84   | 4636  | 1685  | +2.1354e-02 | 7.23e-01 | 1.07e-06 | 0.00e+00 |\n",
      "|  85   | 4697  | 1705  | +2.1354e-02 | 7.23e-01 | 1.10e-06 | 0.00e+00 |\n",
      "|  86   | 4758  | 1720  | +2.1354e-02 | 7.23e-01 | 3.40e-07 | 0.00e+00 |\n",
      "|  87   | 4819  | 1761  | +2.1354e-02 | 8.44e-02 | 3.40e-07 | 0.00e+00 |\n",
      "|  88   | 4880  | 1798  | +2.1354e-02 | 8.44e-02 | 1.83e-06 | 0.00e+00 |\n",
      "|  89   | 4941  | 1823  | +2.1354e-02 | 8.44e-03 | 1.83e-06 | 0.00e+00 |\n",
      "|  90   | 5002  | 1842  | +2.1354e-02 | 5.33e-02 | 1.80e-07 | 0.00e+00 |\n",
      "|  91   | 5063  | 1868  | +2.1354e-02 | 1.07e-01 | 5.59e-07 | 0.00e+00 |\n",
      "|  92   | 5124  | 1887  | +2.1354e-02 | 1.07e-01 | 2.41e-07 | 0.00e+00 |\n",
      "|  93   | 5185  | 1919  | +2.1354e-02 | 7.46e-01 | 1.12e-06 | 0.00e+00 |\n",
      "|  94   | 5246  | 1933  | +2.1354e-02 | 7.46e-01 | 2.81e-07 | 0.00e+00 |\n",
      "|  95   | 5307  | 1975  | +2.1354e-02 | 1.41e-01 | 2.81e-07 | 0.00e+00 |\n",
      "|  96   | 5368  | 2027  | +2.1354e-02 | 5.56e-01 | 3.60e-07 | 0.00e+00 |\n",
      "|  97   | 5429  | 2067  | +2.1354e-02 | 5.56e-02 | 3.60e-07 | 0.00e+00 |\n",
      "|  98   | 5490  | 2107  | +2.1354e-02 | 3.89e-01 | 4.09e-07 | 0.00e+00 |\n",
      "|  99   | 5551  | 2152  | +2.1354e-02 | 5.22e-01 | 2.50e-07 | 0.00e+00 |\n",
      "|  100  | 5612  | 2201  | +2.1355e-02 | 5.22e-01 | 1.41e-06 | 0.00e+00 |\n",
      "\n",
      "The maximum number of function evaluations is exceeded.\n",
      "Number of iterations: 100, function evaluations: 5612, CG iterations: 2201, optimality: 1.41e-06, constraint violation: 0.00e+00, execution time: 3.6e+02 s.\n",
      " barrier_parameter: 2.560000000000001e-07\n",
      " barrier_tolerance: 2.560000000000001e-07\n",
      "          cg_niter: 2201\n",
      "      cg_stop_cond: 4\n",
      "            constr: [array([0.00469231, 0.00469231, 0.00469231, 0.00469231, 0.00469231,\n",
      "       0.00469231, 0.00469231, 0.00469231, 0.00469231, 0.00469231,\n",
      "       0.01322245, 0.01317237, 0.01582922, 0.01506905, 0.01353487,\n",
      "       0.01353899, 0.01404576, 0.01348116, 0.01410463, 0.01057385,\n",
      "       0.01300737, 0.01296741, 0.01296721, 0.0129673 , 0.01223373,\n",
      "       0.01224812, 0.01313615, 0.01312385, 0.01301334, 0.01304488]), array([0.4       , 0.4       , 0.4       , 0.4       , 0.4       ,\n",
      "       0.4       , 0.4       , 0.4       , 0.4       , 0.4       ,\n",
      "       0.35203836, 0.35212268, 0.35651216, 0.35664502, 0.35205486,\n",
      "       0.35214261, 0.34846288, 0.34243687, 0.3559581 , 0.36002134,\n",
      "       0.24796191, 0.2471763 , 0.24875278, 0.24822818, 0.27246171,\n",
      "       0.27241717, 0.24681386, 0.24553317, 0.2438008 , 0.2447617 ]), array([1.00000000e-06, 1.00000000e-06, 1.00000000e-06, 1.00000000e-06,\n",
      "       1.00000000e-06, 1.00000000e-06, 1.00000000e-06, 1.00000000e-06,\n",
      "       1.00000000e-06, 1.00000000e-06, 9.71730091e-04, 9.67920968e-04,\n",
      "       9.71311497e-04, 9.69402930e-04, 9.69855164e-04, 9.65305123e-04,\n",
      "       9.69336946e-04, 9.74375396e-04, 9.70518738e-04, 9.68408955e-04,\n",
      "       3.88624414e-03, 3.88499320e-03, 3.88809610e-03, 3.88456551e-03,\n",
      "       3.88432923e-03, 3.88236982e-03, 3.88680471e-03, 3.88836460e-03,\n",
      "       3.88608377e-03, 3.88720724e-03]), array([0.04796164, 0.04787732, 0.04348784, 0.04335498, 0.04794514,\n",
      "       0.04785739, 0.05153712, 0.05756313, 0.0440419 , 0.03997866,\n",
      "       0.15203809, 0.1528237 , 0.15124722, 0.15177182, 0.12753829,\n",
      "       0.12758283, 0.15318614, 0.15446683, 0.1561992 , 0.1552383 ,\n",
      "       1.14404832, 1.14794141, 1.19814458, 1.21559529, 1.13924784,\n",
      "       1.14243533, 1.06031396, 0.96879494, 1.21619257, 1.39863785,\n",
      "       0.40177386, 0.40031719, 0.40388052, 0.40298344, 0.48187304,\n",
      "       0.48184286, 0.39777072, 0.39458009, 0.39163912, 0.39352898,\n",
      "       3.0970625 , 3.09594754, 3.41183566, 3.35326936, 3.12350454,\n",
      "       3.12710398, 3.09565962, 2.94768021, 3.25742443, 3.08679169,\n",
      "       2.33327976, 2.32782752, 2.33137109, 2.3304825 , 2.33601536,\n",
      "       2.3374243 , 2.34215446, 2.33773401, 2.32374206, 2.32878598])]\n",
      "       constr_nfev: [5613, 5613, 5613, 0]\n",
      "       constr_nhev: [0, 0, 0, 0]\n",
      "       constr_njev: [0, 0, 0, 0]\n",
      "    constr_penalty: 1.0\n",
      "  constr_violation: 0.0\n",
      "    execution_time: 355.3424005508423\n",
      "               fun: 0.02135459879591249\n",
      "              grad: array([-4.64298530e-04, -2.53179343e-04, -4.86466335e-04, -3.70742753e-04,\n",
      "       -3.60375503e-04, -1.07455766e-04, -3.08431685e-04, -5.09252539e-04,\n",
      "       -4.32427740e-04, -3.35709658e-04, -4.31588851e-05, -2.11016741e-05,\n",
      "       -7.60974362e-05, -1.37125608e-05, -1.13598071e-05,  2.96300277e-05,\n",
      "       -5.26064541e-05, -7.91118946e-05, -3.92619986e-05, -5.88560943e-05,\n",
      "       -1.80910317e-05, -9.79966859e-06, -1.64765128e-05, -1.23387695e-05,\n",
      "       -1.41337717e-05, -4.21564508e-06, -1.40416789e-05, -2.84165144e-05,\n",
      "       -1.45092167e-05, -8.72650143e-06, -1.58078037e-05, -7.79377297e-06,\n",
      "       -2.76083592e-05, -5.03659248e-06, -2.90432945e-06,  7.57258385e-06,\n",
      "       -1.96676701e-05, -3.00714746e-05, -1.52196735e-05, -2.25719996e-05,\n",
      "       -4.09516555e-06, -2.23238435e-06, -3.51262279e-06, -2.72979464e-06,\n",
      "       -3.15422261e-06, -9.28760113e-07, -2.89769139e-06, -5.58711991e-06,\n",
      "       -3.32932316e-06, -2.56063106e-06, -1.48103647e-06, -7.42252678e-07,\n",
      "       -2.61755461e-06, -4.89142838e-07, -3.14857518e-07,  8.64912918e-07,\n",
      "       -1.82087004e-06, -2.78342958e-06, -1.39222930e-06, -2.08377082e-06])\n",
      "               jac: [array([[0.  , 0.  , 0.  , ..., 0.  , 0.  , 0.  ],\n",
      "       [0.  , 0.  , 0.  , ..., 0.  , 0.  , 0.  ],\n",
      "       [0.  , 0.  , 0.  , ..., 0.  , 0.  , 0.  ],\n",
      "       ...,\n",
      "       [0.  , 0.  , 0.  , ..., 0.01, 0.  , 0.  ],\n",
      "       [0.  , 0.  , 0.  , ..., 0.  , 0.01, 0.  ],\n",
      "       [0.  , 0.  , 0.  , ..., 0.  , 0.  , 0.01]]), array([[0., 0., 0., ..., 0., 0., 0.],\n",
      "       [0., 0., 0., ..., 0., 0., 0.],\n",
      "       [0., 0., 0., ..., 0., 0., 0.],\n",
      "       ...,\n",
      "       [0., 0., 0., ..., 0., 0., 0.],\n",
      "       [0., 0., 0., ..., 0., 0., 0.],\n",
      "       [0., 0., 0., ..., 0., 0., 0.]]), array([[ 0.        ,  0.        ,  0.        , ...,  0.        ,\n",
      "         0.        ,  0.        ],\n",
      "       [ 0.        ,  0.        ,  0.        , ...,  0.        ,\n",
      "         0.        ,  0.        ],\n",
      "       [ 0.        ,  0.        ,  0.        , ...,  0.        ,\n",
      "         0.        ,  0.        ],\n",
      "       ...,\n",
      "       [ 0.        ,  0.        ,  0.        , ..., -0.00072391,\n",
      "         0.        ,  0.        ],\n",
      "       [ 0.        ,  0.        ,  0.        , ...,  0.        ,\n",
      "        -0.00072869,  0.        ],\n",
      "       [ 0.        ,  0.        ,  0.        , ...,  0.        ,\n",
      "         0.        , -0.00072699]]), array([[1., 0., 0., ..., 0., 0., 0.],\n",
      "       [0., 1., 0., ..., 0., 0., 0.],\n",
      "       [0., 0., 1., ..., 0., 0., 0.],\n",
      "       ...,\n",
      "       [0., 0., 0., ..., 1., 0., 0.],\n",
      "       [0., 0., 0., ..., 0., 1., 0.],\n",
      "       [0., 0., 0., ..., 0., 0., 1.]])]\n",
      "   lagrangian_grad: array([-6.68090843e-08, -3.54494367e-08, -5.82762123e-08, -4.34428616e-08,\n",
      "       -5.08305425e-08, -1.37089580e-08, -4.89608497e-08, -1.01032331e-07,\n",
      "       -5.35408137e-08, -3.49495485e-08, -3.76085544e-07, -1.78945909e-07,\n",
      "       -6.67377445e-07, -1.10720227e-07, -7.04433352e-08,  2.10363710e-07,\n",
      "       -4.65519306e-07, -7.14514625e-07, -3.53173623e-07, -5.31415639e-07,\n",
      "       -4.95853320e-07, -2.40048637e-07, -4.78497111e-07, -3.57275299e-07,\n",
      "       -3.80958093e-07, -8.28587236e-08, -3.48163629e-07, -6.72854735e-07,\n",
      "       -4.05054339e-07, -2.47943958e-07, -7.30246994e-07, -3.65715945e-07,\n",
      "       -1.27878785e-06, -2.46122513e-07, -2.01872349e-07,  4.81809080e-07,\n",
      "       -8.87156313e-07, -1.32679962e-06, -6.69459711e-07, -9.95093649e-07,\n",
      "       -4.35296480e-07, -2.79874759e-07, -3.84110201e-07, -3.24695008e-07,\n",
      "       -3.62104321e-07, -1.71289048e-07, -3.31960128e-07, -5.43767112e-07,\n",
      "       -3.66876354e-07, -3.14754786e-07, -8.09042088e-07, -4.72471410e-07,\n",
      "       -1.33121505e-06, -3.58503887e-07, -2.82528088e-07,  2.79805127e-07,\n",
      "       -9.65637580e-07, -1.40600937e-06, -7.66196716e-07, -1.08369903e-06])\n",
      "           message: 'The maximum number of function evaluations is exceeded.'\n",
      "            method: 'tr_interior_point'\n",
      "              nfev: 5612\n",
      "              nhev: 0\n",
      "               nit: 100\n",
      "             niter: 100\n",
      "              njev: 92\n",
      "        optimality: 1.4060093735450418e-06\n",
      "            status: 0\n",
      "           success: False\n",
      "         tr_radius: 0.5218726809339199\n",
      "                 v: [array([-5.45573770e-05, -5.45573770e-05, -5.45573770e-05, -5.45573770e-05,\n",
      "       -5.45573770e-05, -5.45573770e-05, -5.45573770e-05, -5.45573770e-05,\n",
      "       -5.45573770e-05, -5.45573770e-05, -2.28247045e-05, -1.71393168e-05,\n",
      "       -1.99395999e-05, -1.84232383e-05, -1.99432783e-05, -1.40841124e-05,\n",
      "       -1.90474660e-05, -2.60922706e-05, -2.00691393e-05, -1.82350888e-05,\n",
      "       -1.50240028e-05, -1.33931154e-05, -1.66241901e-05, -1.30586015e-05,\n",
      "       -1.55366358e-05, -7.43571371e-06, -1.49401125e-05, -1.49075506e-05,\n",
      "       -1.39597696e-05, -1.44176506e-05]), array([-6.40000000e-07, -6.40000000e-07, -6.40000000e-07, -6.40000000e-07,\n",
      "       -6.40000000e-07, -6.40000000e-07, -6.40000000e-07, -6.40000000e-07,\n",
      "       -6.40000000e-07, -6.40000000e-07, -1.26627635e-06, -1.01292408e-06,\n",
      "       -1.17657154e-06, -1.05934413e-06, -1.13727287e-06, -8.37530378e-07,\n",
      "       -1.13786931e-06, -1.60917045e-06, -1.14174461e-06, -9.80709436e-07,\n",
      "       -7.14910994e-06, -3.96462218e-06, -1.18145188e-05, -2.82821287e-06,\n",
      "       -1.88850018e-06,  1.89493057e-06, -8.67907058e-06, -1.28946053e-05,\n",
      "       -6.99183712e-06, -9.91640135e-06]), array([-0.256     , -0.256     , -0.256     , -0.256     , -0.256     ,\n",
      "       -0.256     , -0.256     , -0.256     , -0.256     , -0.256     ,\n",
      "       -0.00660285, -0.00362746, -0.00627301, -0.0047856 , -0.00514252,\n",
      "       -0.00158645, -0.00474191, -0.00869343, -0.00564965, -0.00399603,\n",
      "       -0.00100121, -0.00052439, -0.00171084, -0.00036326, -0.00028225,\n",
      "        0.00050218, -0.00121254, -0.00179961, -0.00093243, -0.00136063]), array([ 2.37058547e-05,  1.01180423e-05,  2.49278844e-05,  1.72074632e-05,\n",
      "        1.67730026e-05,  6.36407414e-07,  1.34662909e-05,  2.60437528e-05,\n",
      "        2.17901912e-05,  1.54634279e-05,  1.45860477e-05,  5.98688652e-06,\n",
      "        2.74815084e-05,  3.11998270e-06,  2.32351702e-06, -1.49301740e-05,\n",
      "        1.81669215e-05,  2.82888646e-05,  1.28365214e-05,  2.04023937e-05,\n",
      "        2.44926053e-07,  6.28226832e-09,  1.98930217e-07,  9.13698430e-08,\n",
      "        1.40138815e-07, -1.39370797e-07,  1.43948113e-07,  6.33363673e-07,\n",
      "        1.30156815e-07, -1.69952207e-08,  7.20502864e-06,  3.23313534e-06,\n",
      "        1.30463106e-05,  1.86551993e-06,  7.43071945e-07, -3.95335415e-06,\n",
      "        9.18200001e-06,  1.44616846e-05,  7.02715144e-06,  1.07147540e-05,\n",
      "        9.26500573e-09, -1.13161200e-08,  5.42888090e-09, -2.14676588e-09,\n",
      "       -1.73278683e-10, -2.50025061e-08, -4.42370335e-09,  2.43905166e-08,\n",
      "        1.75935004e-09, -6.81151193e-09,  9.47383847e-08,  2.16785424e-08,\n",
      "        2.08656812e-07, -3.23937715e-09, -1.97680271e-08, -1.41666820e-07,\n",
      "        1.27800779e-07,  2.23740599e-07,  8.61740688e-08,  1.55084551e-07])]\n",
      "                 x: array([0.04796164, 0.04787732, 0.04348784, 0.04335498, 0.04794514,\n",
      "       0.04785739, 0.05153712, 0.05756313, 0.0440419 , 0.03997866,\n",
      "       0.15203809, 0.1528237 , 0.15124722, 0.15177182, 0.12753829,\n",
      "       0.12758283, 0.15318614, 0.15446683, 0.1561992 , 0.1552383 ,\n",
      "       1.14404832, 1.14794141, 1.19814458, 1.21559529, 1.13924784,\n",
      "       1.14243533, 1.06031396, 0.96879494, 1.21619257, 1.39863785,\n",
      "       0.40177386, 0.40031719, 0.40388052, 0.40298344, 0.48187304,\n",
      "       0.48184286, 0.39777072, 0.39458009, 0.39163912, 0.39352898,\n",
      "       3.0970625 , 3.09594754, 3.41183566, 3.35326936, 3.12350454,\n",
      "       3.12710398, 3.09565962, 2.94768021, 3.25742443, 3.08679169,\n",
      "       2.33327976, 2.32782752, 2.33137109, 2.3304825 , 2.33601536,\n",
      "       2.3374243 , 2.34215446, 2.33773401, 2.32374206, 2.32878598])\n"
     ]
    },
    {
     "name": "stderr",
     "output_type": "stream",
     "text": [
      "C:\\Users\\Frank\\OneDrive - Universiteit Utrecht\\Documents\\Major Research\\Software\\microtool\\microtool\\optimize\\optimize.py:189: UserWarning: Optimization procedure was unsuccessful. Possible solutions include but are not limited to: Changing the optimizer setings, changing the optimization method or changing the initial scheme to a more suitable one.If you are using a scipy optimizer its settings can be changed by passing options to this function. If you are using a microtool optimization method please consult the optimization_methods module for more details.\n",
      "  warnings.warn(\n"
     ]
    }
   ],
   "source": [
    "from microtool.optimize import optimize_scheme\n",
    "\n",
    "optimal_scheme, _ = optimize_scheme(initial_scheme, simple_ball_microtool, noise_variance=0.02, method=\"trust-constr\", solver_options={\"verbose\":2, \"maxiter\": 100})"
   ],
   "metadata": {
    "collapsed": false,
    "ExecuteTime": {
     "end_time": "2023-09-29T12:01:44.360803100Z",
     "start_time": "2023-09-29T11:55:47.167115500Z"
    }
   }
  },
  {
   "cell_type": "markdown",
   "source": [
    "## Fitting the model"
   ],
   "metadata": {
    "collapsed": false
   }
  },
  {
   "cell_type": "code",
   "execution_count": 22,
   "outputs": [
    {
     "name": "stdout",
     "output_type": "stream",
     "text": [
      "Setup brute2fine optimizer in 0.007110595703125 seconds\n",
      "Fitting of 1 voxels complete in 0.5221741199493408 seconds.\n",
      "Average of 0.5221741199493408 seconds per voxel.\n"
     ]
    },
    {
     "data": {
      "text/plain": "{'G1Ball_1_lambda_iso': array([1.69997307e-09])}"
     },
     "execution_count": 22,
     "metadata": {},
     "output_type": "execute_result"
    }
   ],
   "source": [
    "# Generating basic signal on the new scheme\n",
    "signal = simple_ball_microtool(optimal_scheme)\n",
    "\n",
    "fitted_model = simple_ball_microtool.fit(optimal_scheme, signal, use_parallel_processing=False)\n",
    "fitted_model.fitted_parameters"
   ],
   "metadata": {
    "collapsed": false,
    "ExecuteTime": {
     "end_time": "2023-09-29T12:17:05.003333200Z",
     "start_time": "2023-09-29T12:17:04.439657100Z"
    }
   }
  },
  {
   "cell_type": "markdown",
   "source": [
    "## Starting an experiment\n",
    "\n",
    "This is an optional step to initiate some directories"
   ],
   "metadata": {
    "collapsed": false
   }
  },
  {
   "cell_type": "code",
   "execution_count": 23,
   "outputs": [
    {
     "name": "stderr",
     "output_type": "stream",
     "text": [
      "C:\\Users\\Frank\\OneDrive - Universiteit Utrecht\\Documents\\Major Research\\Software\\microtool\\microtool\\monte_carlo\\IO.py:38: UserWarning: There is already a folder with the name of the experiment. No new folders have been created.\n",
      "  warnings.warn(\"There is already a folder with the name of the experiment. No new folders have been created.\")\n"
     ]
    }
   ],
   "source": [
    "from microtool.monte_carlo.IO import make_expirement_directories\n",
    "from pathlib import Path\n",
    "\n",
    "# make an expirement directory in the current execution directory\n",
    "_, _, simdir, _ = make_expirement_directories(Path.cwd(), \"basic_output\")"
   ],
   "metadata": {
    "collapsed": false,
    "ExecuteTime": {
     "end_time": "2023-09-29T12:17:22.909467600Z",
     "start_time": "2023-09-29T12:17:22.224342Z"
    }
   }
  },
  {
   "cell_type": "markdown",
   "source": [
    "## Validation of scheme optimization through Monte Carlo simulations\n",
    "\n",
    "What we want to do now is verify that our scheme increase the accuracy with which we can fit the parameters of our tissue model. To do so we run monte carlo simulations both with the scheme we started out with and the scheme resulting from the optimization."
   ],
   "metadata": {
    "collapsed": false
   }
  },
  {
   "cell_type": "code",
   "execution_count": 24,
   "outputs": [
    {
     "name": "stderr",
     "output_type": "stream",
     "text": [
      "Starting Monte Carlo with 100 simulations: 100%|██████████| 100/100 [05:29<00:00,  3.29s/it]\n",
      "Starting Monte Carlo with 100 simulations: 100%|██████████| 100/100 [05:09<00:00,  3.09s/it]\n"
     ]
    }
   ],
   "source": [
    "from microtool.monte_carlo.simulation import MonteCarloSimulation\n",
    "from microtool.monte_carlo.parameter_distributions import plot_parameter_distributions\n",
    "from scipy import stats\n",
    "\n",
    "# loc is mean and scale is standard deviation\n",
    "noise_distribution = stats.norm(loc=0, scale=0.02)\n",
    "\n",
    "simulation = MonteCarloSimulation(initial_scheme, simple_ball_microtool, noise_distribution, n_sim=100)\n",
    "simulation.run()\n",
    "\n",
    "# Saving the simulation of the optimal scheme\n",
    "simulation.save(simdir / \"optimal.pkl\")\n",
    "\n",
    "# Doing the same for a simulation with the initial scheme\n",
    "simulation.set_scheme(initial_scheme)\n",
    "simulation.run()\n",
    "simulation.save(simdir / \"non_optimal.pkl\")"
   ],
   "metadata": {
    "collapsed": false,
    "ExecuteTime": {
     "end_time": "2023-09-29T12:28:13.443931900Z",
     "start_time": "2023-09-29T12:17:34.908110200Z"
    }
   }
  },
  {
   "cell_type": "code",
   "execution_count": 25,
   "outputs": [
    {
     "data": {
      "text/plain": "<Figure size 432x288 with 1 Axes>",
      "image/png": "[encoded data removed]"
     },
     "metadata": {
      "needs_background": "light"
     },
     "output_type": "display_data"
    }
   ],
   "source": [
    "from microtool.utils.IO import get_pickle\n",
    "\n",
    "result = get_pickle(simdir / \"non_optimal.pkl\")\n",
    "fig = plot_parameter_distributions(result, simple_ball_microtool)"
   ],
   "metadata": {
    "collapsed": false,
    "ExecuteTime": {
     "end_time": "2023-09-29T12:30:33.927557500Z",
     "start_time": "2023-09-29T12:30:33.398877Z"
    }
   }
  },
  {
   "cell_type": "code",
   "execution_count": 26,
   "outputs": [
    {
     "data": {
      "text/plain": "<Figure size 432x288 with 1 Axes>",
      "image/png": "[encoded data removed]"
     },
     "metadata": {
      "needs_background": "light"
     },
     "output_type": "display_data"
    }
   ],
   "source": [
    "result = get_pickle(simdir / \"optimal.pkl\")\n",
    "fig = plot_parameter_distributions(result, simple_ball_microtool)"
   ],
   "metadata": {
    "collapsed": false,
    "ExecuteTime": {
     "end_time": "2023-09-29T12:30:42.596060100Z",
     "start_time": "2023-09-29T12:30:42.437777100Z"
    }
   }
  }
 ],
 "metadata": {
  "kernelspec": {
   "display_name": "Python 3",
   "language": "python",
   "name": "python3"
  },
  "language_info": {
   "codemirror_mode": {
    "name": "ipython",
    "version": 2
   },
   "file_extension": ".py",
   "mimetype": "text/x-python",
   "name": "python",
   "nbconvert_exporter": "python",
   "pygments_lexer": "ipython2",
   "version": "2.7.6"
  }
 },
 "nbformat": 4,
 "nbformat_minor": 0
}
