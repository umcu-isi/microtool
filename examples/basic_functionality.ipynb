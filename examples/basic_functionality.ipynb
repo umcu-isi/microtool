{
 "cells": [
  {
   "cell_type": "markdown",
   "metadata": {
    "collapsed": false,
    "jupyter": {
     "outputs_hidden": false
    }
   },
   "source": [
    "# Basic functionality\n",
    "\n",
    "In this notebook we demonstrate the basic usage of the MICROtool package. The main usage of MICROtool is to optimize a diffusion imaging acquisition scheme based on a microstructural model. In order to do so the steps to follow are\n",
    "1. Setup a tissue model\n",
    "2. Setup an acquisition scheme (it is recommended to choose an initial scheme that already is a sensible choice for your problem)\n",
    "3. Optimize the scheme using cramer rao lower bound based optimization.\n",
    "4. (optional) Verify the resulting scheme using monte carlo simulations.\n",
    "\n",
    "\n",
    "## Setting up the dmipy model\n",
    "\n",
    "We demonstrate this using a simple model from dmipy"
   ]
  },
  {
   "cell_type": "code",
   "metadata": {
    "ExecuteTime": {
     "end_time": "2024-12-05T15:09:52.689587Z",
     "start_time": "2024-12-05T15:09:47.442525Z"
    }
   },
   "source": [
    "import numpy as np\n",
    "from dmipy.signal_models.gaussian_models import G1Ball\n",
    "from microtool.dmipy import DmipyMultiTissueModel\n",
    "\n",
    "# Setup up a simple model in dmipy, where lambda_iso represents the diffusivity.\n",
    "simple_ball_dmipy = G1Ball(lambda_iso=1.7e-9)\n",
    "\n",
    "# Convert it to a MICROtool compatible model.\n",
    "simple_ball_microtool = DmipyMultiTissueModel(simple_ball_dmipy)"
   ],
   "outputs": [],
   "execution_count": 1
  },
  {
   "cell_type": "markdown",
   "metadata": {
    "collapsed": false,
    "jupyter": {
     "outputs_hidden": false
    }
   },
   "source": [
    "## Setting up the acquisition scheme"
   ]
  },
  {
   "cell_type": "code",
   "metadata": {
    "collapsed": false,
    "jupyter": {
     "outputs_hidden": false
    },
    "ExecuteTime": {
     "end_time": "2024-12-05T15:09:52.721124Z",
     "start_time": "2024-12-05T15:09:52.693590Z"
    }
   },
   "source": [
    "from microtool.acquisition_scheme import DiffusionAcquisitionScheme\n",
    "from microtool.gradient_sampling import sample_uniform_half_sphere\n",
    "\n",
    "\n",
    "n_directions = 6  # Number of b-vectors per shell\n",
    "n_shells = 3  # Number of shells\n",
    "\n",
    "b_vals = np.concatenate([np.repeat(0, n_directions), np.repeat(1000, n_directions), np.repeat(3000, n_directions)])\n",
    "pulse_durations = np.concatenate([np.repeat(0.019, n_directions), np.repeat(0.016, n_directions), np.repeat(0.007, n_directions)])\n",
    "pulse_intervals = np.concatenate([np.repeat(0.030, n_directions), np.repeat(0.027, n_directions), np.repeat(0.020, n_directions)])\n",
    "\n",
    "directions = sample_uniform_half_sphere(n_directions * n_shells)\n",
    "initial_scheme = DiffusionAcquisitionScheme.from_bvals(b_values=b_vals,\n",
    "                                                       b_vectors=directions,\n",
    "                                                       pulse_durations=pulse_durations,\n",
    "                                                       pulse_intervals=pulse_intervals)\n",
    "\n",
    "initial_scheme.fix_b0_measurements()\n",
    "initial_scheme[\"EchoTime\"].fixed = True  # Don't optimize the echo time, but keep it fixed to the given value.\n",
    "print(initial_scheme)"
   ],
   "outputs": [
    {
     "name": "stdout",
     "output_type": "stream",
     "text": [
      "Acquisition scheme with 18 measurements and 6 scalar parameters. \n",
      "total number of optimized parameters is 36:\n",
      "  DiffusionPulseMagnitude [mT/mm] in (0.0, 5000.0)    DiffusionGradientAnglePhi [rad] (fixed)    DiffusionGradientAngleTheta [rad] (fixed)    DiffusionPulseDuration [s] in (0.001, 0.1)    DiffusionPulseInterval [s] in (0.001, 0.1)    EchoTime [s] (fixed)\n",
      "--------------------------------------------------  -----------------------------------------  -------------------------------------------  --------------------------------------------  --------------------------------------------  ----------------------\n",
      "                                        -0                                          -1.27224                                     1.5708                                            0.019                                         0.03                0.0349249\n",
      "                                        -0                                          -2.41504                                     1.5708                                            0.019                                         0.03                0.0349249\n",
      "                                        -0                                          -3.00876                                     0.0030705                                         0.019                                         0.03                0.0349249\n",
      "                                        -0                                          -0.114169                                    0.844538                                          0.019                                         0.03                0.0349249\n",
      "                                        -0                                          -0.697825                                    1.5708                                            0.019                                         0.03                0.0349249\n",
      "                                        -0                                           3.02798                                     0.847161                                          0.019                                         0.03                0.0349249\n",
      "                                         0.0501765                                   2.72569                                     1.5708                                            0.016                                         0.027               0.0388257\n",
      "                                         0.0501765                                  -0.127099                                    1.5708                                            0.016                                         0.027               0.0388257\n",
      "                                         0.0501765                                   1.97609                                     0.84571                                           0.016                                         0.027               0.0388257\n",
      "                                         0.0501765                                   1.58661                                     1.5708                                            0.016                                         0.027               0.0388257\n",
      "                                         0.0501765                                  -2.98084                                     1.5708                                            0.016                                         0.027               0.0388257\n",
      "                                         0.0501765                                   0.444429                                    1.5708                                            0.016                                         0.027               0.0388257\n",
      "                                         0.219993                                    0.928745                                    0.845563                                          0.007                                         0.02                0.0417337\n",
      "                                         0.219993                                   -1.15794                                     0.84466                                           0.007                                         0.02                0.0417337\n",
      "                                         0.219993                                    2.16287                                     1.5708                                            0.007                                         0.02                0.0417337\n",
      "                                         0.219993                                    1.01845                                     1.5708                                            0.007                                         0.02                0.0417337\n",
      "                                         0.219993                                   -1.84025                                     1.5708                                            0.007                                         0.02                0.0417337\n",
      "                                         0.219993                                   -2.20517                                     0.847512                                          0.007                                         0.02                0.0417337\n"
     ]
    }
   ],
   "execution_count": 2
  },
  {
   "cell_type": "markdown",
   "metadata": {
    "collapsed": false,
    "jupyter": {
     "outputs_hidden": false
    }
   },
   "source": [
    "Now that we have the acquisition scheme and tissue model defined we test the generation of signal."
   ]
  },
  {
   "cell_type": "code",
   "metadata": {
    "collapsed": false,
    "jupyter": {
     "outputs_hidden": false
    },
    "ExecuteTime": {
     "end_time": "2024-12-05T15:09:52.752654Z",
     "start_time": "2024-12-05T15:09:52.724651Z"
    }
   },
   "source": [
    "simple_ball_microtool(initial_scheme)"
   ],
   "outputs": [
    {
     "data": {
      "text/plain": [
       "array([1.        , 1.        , 1.        , 1.        , 1.        ,\n",
       "       1.        , 0.18268352, 0.18268352, 0.18268352, 0.18268352,\n",
       "       0.18268352, 0.18268352, 0.00609675, 0.00609675, 0.00609675,\n",
       "       0.00609675, 0.00609675, 0.00609675])"
      ]
     },
     "execution_count": 3,
     "metadata": {},
     "output_type": "execute_result"
    }
   ],
   "execution_count": 3
  },
  {
   "cell_type": "markdown",
   "metadata": {
    "collapsed": false,
    "jupyter": {
     "outputs_hidden": false
    }
   },
   "source": [
    "## Optimizing the scheme with respect to the diffusivity"
   ]
  },
  {
   "cell_type": "code",
   "metadata": {
    "collapsed": false,
    "jupyter": {
     "outputs_hidden": false
    },
    "ExecuteTime": {
     "end_time": "2024-12-05T15:10:19.161867Z",
     "start_time": "2024-12-05T15:09:58.289054Z"
    }
   },
   "source": [
    "from microtool.optimize import optimize_scheme\n",
    "\n",
    "optimal_scheme, _ = optimize_scheme(initial_scheme, simple_ball_microtool, noise_variance=0.02, method=\"trust-constr\", solver_options={\"verbose\":2, \"maxiter\": 30})"
   ],
   "outputs": [
    {
     "name": "stdout",
     "output_type": "stream",
     "text": [
      "| niter |f evals|CG iter|  obj func   |tr radius |   opt    |  c viol  |\n",
      "|-------|-------|-------|-------------|----------|----------|----------|\n",
      "|   1   |  37   |   0   | +9.8889e-02 | 1.00e+00 | 5.60e-02 | 0.00e+00 |\n",
      "|   2   |  37   |   0   | +9.8889e-02 | 5.00e+00 | 1.12e-02 | 0.00e+00 |\n"
     ]
    },
    {
     "name": "stderr",
     "output_type": "stream",
     "text": [
      "C:\\develop\\microtool\\venv\\lib\\site-packages\\scipy\\optimize\\_hessian_update_strategy.py:182: UserWarning: delta_grad == 0.0. Check if the approximated function is linear. If the function is linear better results can be obtained by defining the Hessian as zero instead of using quasi-Newton approximations.\n",
      "  warn('delta_grad == 0.0. Check if the approximated '\n"
     ]
    },
    {
     "name": "stdout",
     "output_type": "stream",
     "text": [
      "|   3   |  74   |   4   | +9.8748e-02 | 3.50e+01 | 1.12e-02 | 0.00e+00 |\n",
      "|   4   |  111  |   9   | +9.7851e-02 | 7.00e+01 | 1.01e-02 | 0.00e+00 |\n",
      "|   5   |  148  |  15   | +5.4384e-02 | 7.00e+01 | 1.30e-02 | 0.00e+00 |\n",
      "|   6   |  148  |  15   | +5.4384e-02 | 3.50e+02 | 4.32e-03 | 0.00e+00 |\n",
      "|   7   |  185  |  22   | +5.5778e-02 | 3.50e+02 | 1.48e-03 | 0.00e+00 |\n",
      "|   8   |  222  |  32   | +4.0704e-02 | 3.50e+02 | 1.87e-03 | 0.00e+00 |\n",
      "|   9   |  259  |  43   | +3.9145e-02 | 3.50e+02 | 2.19e-03 | 0.00e+00 |\n",
      "|  10   |  296  |  54   | +3.7646e-02 | 3.50e+02 | 1.89e-03 | 0.00e+00 |\n",
      "|  11   |  333  |  65   | +3.6947e-02 | 3.50e+02 | 2.30e-03 | 0.00e+00 |\n",
      "|  12   |  333  |  65   | +3.6947e-02 | 1.75e+03 | 8.04e-04 | 0.00e+00 |\n",
      "|  13   |  370  |  86   | +3.6898e-02 | 1.75e+03 | 5.03e-04 | 0.00e+00 |\n",
      "|  14   |  407  |  98   | +3.5884e-02 | 1.75e+03 | 5.47e-04 | 0.00e+00 |\n",
      "|  15   |  407  |  98   | +3.5884e-02 | 8.75e+03 | 2.56e-04 | 0.00e+00 |\n",
      "|  16   |  444  |  114  | +3.5611e-02 | 8.75e+03 | 6.58e-05 | 0.00e+00 |\n",
      "|  17   |  481  |  129  | +3.5609e-02 | 8.75e+03 | 8.95e-05 | 0.00e+00 |\n",
      "|  18   |  481  |  129  | +3.5609e-02 | 4.37e+04 | 3.25e-05 | 0.00e+00 |\n",
      "|  19   |  518  |  141  | +3.5591e-02 | 4.37e+04 | 2.15e-05 | 0.00e+00 |\n",
      "|  20   |  518  |  141  | +3.5591e-02 | 2.19e+05 | 1.01e-05 | 0.00e+00 |\n",
      "|  21   |  555  |  162  | +3.5591e-02 | 2.19e+04 | 1.01e-05 | 0.00e+00 |\n",
      "|  22   |  592  |  177  | +3.5591e-02 | 2.19e+04 | 3.35e-06 | 0.00e+00 |\n",
      "|  23   |  592  |  177  | +3.5591e-02 | 1.09e+05 | 1.07e-06 | 0.00e+00 |\n",
      "|  24   |  629  |  193  | +3.5591e-02 | 1.09e+05 | 8.59e-07 | 0.00e+00 |\n",
      "|  25   |  629  |  193  | +3.5591e-02 | 5.47e+05 | 4.04e-07 | 0.00e+00 |\n",
      "|  26   |  666  |  209  | +3.5591e-02 | 5.47e+05 | 1.57e-07 | 0.00e+00 |\n",
      "|  27   |  666  |  209  | +3.5591e-02 | 2.73e+06 | 6.68e-08 | 0.00e+00 |\n",
      "|  28   |  703  |  225  | +3.5591e-02 | 2.73e+06 | 6.35e-08 | 0.00e+00 |\n",
      "|  29   |  740  |  228  | +3.5591e-02 | 2.73e+06 | 5.09e-08 | 0.00e+00 |\n",
      "|  30   |  777  |  238  | +3.5591e-02 | 2.73e+06 | 6.63e-08 | 0.00e+00 |\n",
      "\n",
      "The maximum number of function evaluations is exceeded.\n",
      "Number of iterations: 30, function evaluations: 777, CG iterations: 238, optimality: 6.63e-08, constraint violation: 0.00e+00, execution time: 1.9e+01 s.\n",
      "           message: The maximum number of function evaluations is exceeded.\n",
      "           success: False\n",
      "            status: 0\n",
      "               fun: 0.035590619186352375\n",
      "                 x: [ 3.765e-02  3.920e-02 ...  1.992e+00  1.997e+00]\n",
      "               nit: 30\n",
      "              nfev: 777\n",
      "              njev: 21\n",
      "              nhev: 0\n",
      "          cg_niter: 238\n",
      "      cg_stop_cond: 4\n",
      "              grad: [-3.370e-06 -3.063e-06 ... -5.120e-08  0.000e+00]\n",
      "   lagrangian_grad: [-8.910e-10  1.551e-09 ... -6.154e-08 -7.653e-09]\n",
      "            constr: [array([ 4.692e-01,  4.692e-01, ...,  5.933e-01,\n",
      "                            5.963e-01]), array([ 4.000e-01,  4.000e-01, ...,  3.104e-01,\n",
      "                            3.108e-01]), array([ 1.000e-04,  1.000e-04, ...,  3.863e-01,\n",
      "                            3.863e-01]), array([ 3.765e-02,  3.920e-02, ...,  1.992e+00,\n",
      "                            1.997e+00])]\n",
      "               jac: [array([[ 0.000e+00,  0.000e+00, ...,  0.000e+00,\n",
      "                             0.000e+00],\n",
      "                           [ 0.000e+00,  0.000e+00, ...,  0.000e+00,\n",
      "                             0.000e+00],\n",
      "                           ...,\n",
      "                           [ 0.000e+00,  0.000e+00, ...,  1.000e+00,\n",
      "                             0.000e+00],\n",
      "                           [ 0.000e+00,  0.000e+00, ...,  0.000e+00,\n",
      "                             1.000e+00]]), array([[ 0.000e+00,  0.000e+00, ...,  0.000e+00,\n",
      "                             0.000e+00],\n",
      "                           [ 0.000e+00,  0.000e+00, ...,  0.000e+00,\n",
      "                             0.000e+00],\n",
      "                           ...,\n",
      "                           [ 0.000e+00,  0.000e+00, ...,  0.000e+00,\n",
      "                             0.000e+00],\n",
      "                           [ 0.000e+00,  0.000e+00, ...,  0.000e+00,\n",
      "                             0.000e+00]]), array([[ 0.000e+00,  0.000e+00, ...,  0.000e+00,\n",
      "                             0.000e+00],\n",
      "                           [ 0.000e+00,  0.000e+00, ...,  0.000e+00,\n",
      "                             0.000e+00],\n",
      "                           ...,\n",
      "                           [ 0.000e+00,  0.000e+00, ..., -9.118e-02,\n",
      "                             0.000e+00],\n",
      "                           [ 0.000e+00,  0.000e+00, ...,  0.000e+00,\n",
      "                            -9.095e-02]]), array([[ 1.000e+00,  0.000e+00, ...,  0.000e+00,\n",
      "                             0.000e+00],\n",
      "                           [ 0.000e+00,  1.000e+00, ...,  0.000e+00,\n",
      "                             0.000e+00],\n",
      "                           ...,\n",
      "                           [ 0.000e+00,  0.000e+00, ...,  1.000e+00,\n",
      "                             0.000e+00],\n",
      "                           [ 0.000e+00,  0.000e+00, ...,  0.000e+00,\n",
      "                             1.000e+00]])]\n",
      "       constr_nfev: [778, 778, 778, 0]\n",
      "       constr_njev: [0, 0, 0, 0]\n",
      "       constr_nhev: [0, 0, 0, 0]\n",
      "                 v: [array([-1.091e-07, -1.091e-07, ..., -3.260e-08,\n",
      "                            2.810e-10]), array([-1.280e-07, -1.280e-07, ..., -1.616e-07,\n",
      "                           -1.804e-07]), array([-5.120e-04, -5.120e-04, ..., -2.717e-07,\n",
      "                           -1.145e-07]), array([-7.313e-07, -2.315e-06, ..., -2.517e-09,\n",
      "                           -1.835e-08])]\n",
      "            method: tr_interior_point\n",
      "        optimality: 6.631268715385846e-08\n",
      "  constr_violation: 0.0\n",
      "    execution_time: 18.950523614883423\n",
      "         tr_radius: 2734375.0\n",
      "    constr_penalty: 1.0\n",
      " barrier_parameter: 5.120000000000003e-08\n",
      " barrier_tolerance: 5.120000000000003e-08\n",
      "             niter: 30\n"
     ]
    },
    {
     "name": "stderr",
     "output_type": "stream",
     "text": [
      "C:\\develop\\microtool\\microtool\\optimize\\optimize.py:246: UserWarning: Optimization procedure was unsuccessful. Possible solutions include but are not limited to: Changing the optimizer settings, changing the optimization method or changing the initial scheme to a more suitable one. If you are using a scipy optimizer its settings can be changed by passing options to this function. If you are using a MICROtool optimization method please consult the optimization_methods module for more details.\n",
      "  warnings.warn(\n"
     ]
    }
   ],
   "execution_count": 4
  },
  {
   "metadata": {
    "ExecuteTime": {
     "end_time": "2024-12-05T15:28:04.393643Z",
     "start_time": "2024-12-05T15:28:04.379644Z"
    }
   },
   "cell_type": "code",
   "source": "print(optimal_scheme)",
   "outputs": [
    {
     "name": "stdout",
     "output_type": "stream",
     "text": [
      "Acquisition scheme with 18 measurements and 6 scalar parameters. \n",
      "total number of optimized parameters is 36:\n",
      "  DiffusionPulseMagnitude [mT/mm] in (0.0, 5000.0)    DiffusionGradientAnglePhi [rad] (fixed)    DiffusionGradientAngleTheta [rad] (fixed)    DiffusionPulseDuration [s] in (0.001, 0.1)    DiffusionPulseInterval [s] in (0.001, 0.1)    EchoTime [s] (fixed)\n",
      "--------------------------------------------------  -----------------------------------------  -------------------------------------------  --------------------------------------------  --------------------------------------------  ----------------------\n",
      "                                        -0                                          -1.27224                                     1.5708                                       0.019                                          0.03                    0.0349249\n",
      "                                        -0                                          -2.41504                                     1.5708                                       0.019                                          0.03                    0.0349249\n",
      "                                        -0                                          -3.00876                                     0.0030705                                    0.019                                          0.03                    0.0349249\n",
      "                                        -0                                          -0.114169                                    0.844538                                     0.019                                          0.03                    0.0349249\n",
      "                                        -0                                          -0.697825                                    1.5708                                       0.019                                          0.03                    0.0349249\n",
      "                                        -0                                           3.02798                                     0.847161                                     0.019                                          0.03                    0.0349249\n",
      "                                         0.0376489                                   2.72569                                     1.5708                                       0.0159604                                      0.0280704               0.0388257\n",
      "                                         0.0392006                                  -0.127099                                    1.5708                                       0.0154589                                      0.0275214               0.0388257\n",
      "                                         0.0365892                                   1.97609                                     0.84571                                      0.0163206                                      0.0284758               0.0388257\n",
      "                                         0.0390173                                   1.58661                                     1.5708                                       0.0155178                                      0.0275806               0.0388257\n",
      "                                         0.0435062                                  -2.98084                                     1.5708                                       0.0142328                                      0.026168                0.0388257\n",
      "                                         0.0389985                                   0.444429                                    1.5708                                       0.0155237                                      0.027587                0.0388257\n",
      "                                         0.0877601                                   0.928745                                    0.845563                                     0.00779548                                     0.0201495               0.0417337\n",
      "                                         0.090402                                   -1.15794                                     0.84466                                      0.0076315                                      0.0198026               0.0417337\n",
      "                                         0.0882913                                   2.16287                                     1.5708                                       0.00775934                                     0.0200888               0.0417337\n",
      "                                         0.0896178                                   1.01845                                     1.5708                                       0.00767673                                     0.0199147               0.0417337\n",
      "                                         0.0895853                                  -1.84025                                     1.5708                                       0.00767865                                     0.0199192               0.0417337\n",
      "                                         0.0892214                                  -2.20517                                     0.847512                                     0.0077002                                      0.0199705               0.0417337\n"
     ]
    }
   ],
   "execution_count": 9
  },
  {
   "cell_type": "markdown",
   "metadata": {
    "collapsed": false,
    "jupyter": {
     "outputs_hidden": false
    }
   },
   "source": [
    "## Fitting the model"
   ]
  },
  {
   "cell_type": "code",
   "metadata": {
    "collapsed": false,
    "jupyter": {
     "outputs_hidden": false
    },
    "ExecuteTime": {
     "end_time": "2024-12-05T15:11:03.739604Z",
     "start_time": "2024-12-05T15:11:03.177481Z"
    }
   },
   "source": [
    "# Generating basic signal on the new scheme\n",
    "signal = simple_ball_microtool(optimal_scheme)\n",
    "\n",
    "fitted_model = simple_ball_microtool.fit(optimal_scheme, signal, use_parallel_processing=False)\n",
    "fitted_model.fitted_parameters"
   ],
   "outputs": [
    {
     "name": "stdout",
     "output_type": "stream",
     "text": [
      "Setup brute2fine optimizer in 0.0010113716125488281 seconds\n",
      "Fitting of 1 voxels complete in 0.5314667224884033 seconds.\n",
      "Average of 0.5314667224884033 seconds per voxel.\n"
     ]
    },
    {
     "data": {
      "text/plain": [
       "{'G1Ball_1_lambda_iso': array([1.69997281e-09])}"
      ]
     },
     "execution_count": 5,
     "metadata": {},
     "output_type": "execute_result"
    }
   ],
   "execution_count": 5
  },
  {
   "cell_type": "markdown",
   "metadata": {
    "collapsed": false,
    "jupyter": {
     "outputs_hidden": false
    }
   },
   "source": [
    "## Starting an experiment\n",
    "\n",
    "This is an optional step to initiate some directories"
   ]
  },
  {
   "cell_type": "code",
   "metadata": {
    "collapsed": false,
    "jupyter": {
     "outputs_hidden": false
    },
    "ExecuteTime": {
     "end_time": "2024-12-05T15:11:35.850450Z",
     "start_time": "2024-12-05T15:11:35.511051Z"
    }
   },
   "source": [
    "from microtool.monte_carlo.IO import make_expirement_directories\n",
    "from pathlib import Path\n",
    "\n",
    "# make an expirement directory in the current execution directory\n",
    "_, _, simdir, _ = make_expirement_directories(Path.cwd(), \"basic_output\")"
   ],
   "outputs": [
    {
     "name": "stderr",
     "output_type": "stream",
     "text": [
      "C:\\develop\\microtool\\microtool\\monte_carlo\\IO.py:38: UserWarning: There is already a folder with the name of the experiment. No new folders have been created.\n",
      "  warnings.warn(\"There is already a folder with the name of the experiment. No new folders have been created.\")\n"
     ]
    }
   ],
   "execution_count": 6
  },
  {
   "cell_type": "markdown",
   "metadata": {
    "collapsed": false,
    "jupyter": {
     "outputs_hidden": false
    }
   },
   "source": [
    "## Validation of scheme optimization through Monte Carlo simulations\n",
    "\n",
    "What we want to do now is verify that our scheme increase the accuracy with which we can fit the parameters of our tissue model. To do so we run monte carlo simulations both with the scheme we started out with and the scheme resulting from the optimization."
   ]
  },
  {
   "cell_type": "code",
   "metadata": {
    "collapsed": false,
    "jupyter": {
     "outputs_hidden": false
    },
    "ExecuteTime": {
     "end_time": "2024-12-05T15:27:45.682816Z",
     "start_time": "2024-12-05T15:11:40.525305Z"
    }
   },
   "source": [
    "from microtool.monte_carlo.simulation import MonteCarloSimulation\n",
    "from scipy import stats\n",
    "\n",
    "# loc is mean and scale is standard deviation\n",
    "noise_distribution = stats.norm(loc=0, scale=0.02)\n",
    "\n",
    "# Perform a Monte Carlo simulation using the initial scheme.\n",
    "simulation = MonteCarloSimulation(initial_scheme, simple_ball_microtool, noise_distribution, n_sim=100)\n",
    "simulation.run()\n",
    "simulation.save(simdir / \"initial.pkl\")\n",
    "\n",
    "# Repeat the simulation using the optimized scheme.\n",
    "simulation.set_scheme(optimal_scheme)\n",
    "simulation.run()\n",
    "simulation.save(simdir / \"optimal.pkl\")"
   ],
   "outputs": [
    {
     "name": "stderr",
     "output_type": "stream",
     "text": [
      "Starting Monte Carlo with 100 simulations: 100%|██████████| 100/100 [08:06<00:00,  4.86s/it]\n",
      "Starting Monte Carlo with 100 simulations: 100%|██████████| 100/100 [07:58<00:00,  4.79s/it]\n"
     ]
    }
   ],
   "execution_count": 7
  },
  {
   "cell_type": "code",
   "metadata": {
    "ExecuteTime": {
     "end_time": "2024-12-05T15:27:46.602930Z",
     "start_time": "2024-12-05T15:27:45.687816Z"
    }
   },
   "source": [
    "from matplotlib import pyplot as plt\n",
    "from microtool.utils.IO import get_pickle\n",
    "\n",
    "\n",
    "initial_result = get_pickle(simdir / \"initial.pkl\")\n",
    "optimal_result = get_pickle(simdir / \"optimal.pkl\")\n",
    "\n",
    "for name, parameter in simple_ball_microtool.items():\n",
    "    if parameter.optimize:\n",
    "        bins = np.linspace(0.9 * parameter.value, 1.1 * parameter.value, 25)\n",
    "        plt.figure()\n",
    "        plt.axvline(x=parameter.value, color=\"black\")\n",
    "        plt.hist(initial_result[name], bins=bins, alpha = 0.5)\n",
    "        plt.hist(optimal_result[name], bins=bins, alpha = 0.5)\n",
    "        plt.xlabel(name)\n",
    "        plt.ylabel(\"Count\")\n",
    "        plt.legend([\"Ground truth\", \"Initial\", \"Optimized\"])"
   ],
   "outputs": [
    {
     "data": {
      "text/plain": [
       "<Figure size 640x480 with 1 Axes>"
      ],
      "image/png": "[encoded data removed]"
     },
     "metadata": {},
     "output_type": "display_data"
    }
   ],
   "execution_count": 8
  },
  {
   "metadata": {},
   "cell_type": "code",
   "outputs": [],
   "execution_count": null,
   "source": ""
  }
 ],
 "metadata": {
  "kernelspec": {
   "display_name": "Python 3 (ipykernel)",
   "language": "python",
   "name": "python3"
  },
  "language_info": {
   "codemirror_mode": {
    "name": "ipython",
    "version": 3
   },
   "file_extension": ".py",
   "mimetype": "text/x-python",
   "name": "python",
   "nbconvert_exporter": "python",
   "pygments_lexer": "ipython3",
   "version": "3.8.10"
  }
 },
 "nbformat": 4,
 "nbformat_minor": 4
}
