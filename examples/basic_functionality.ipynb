{
 "cells": [
  {
   "cell_type": "markdown",
   "source": [
    "# Basic functionality\n",
    "\n",
    "In this notebook we demonstrate the basic usage of the MICROtool package. The main usage of MICROtool is to optimize a diffusion imaging acquisition scheme based on a microstructural model. In order to do so the steps to follow are\n",
    "1. Setup a tissue model\n",
    "2. Setup an acquisition scheme (it is recommended to choose a scheme to already is a sensible choice for your problem)\n",
    "3. Optimize the scheme using cramer rao lower bound based optimization\n",
    "4. (optional) Verify the resulting scheme using monte carlo simulations.\n",
    "\n",
    "\n",
    "## Setting up the dmipy model\n",
    "\n",
    "We demonstrate this using a simple model from dmipy"
   ],
   "metadata": {
    "collapsed": false
   }
  },
  {
   "cell_type": "code",
   "execution_count": 13,
   "metadata": {
    "collapsed": true,
    "ExecuteTime": {
     "end_time": "2023-05-22T13:04:36.480190400Z",
     "start_time": "2023-05-22T13:04:36.467615Z"
    }
   },
   "outputs": [],
   "source": [
    "from dmipy.core.modeling_framework import MultiCompartmentModel\n",
    "from dmipy.signal_models.gaussian_models import G1Ball\n",
    "\n",
    "from microtool.dmipy import DmipyTissueModel\n",
    "from microtool.tissue_model import RelaxedMultiTissueModel\n",
    "\n",
    "# setting up a simple model\n",
    "simple_ball = G1Ball(lambda_iso=1.7e-9)\n",
    "\n",
    "# This step is unnecessary\n",
    "dmipy_model = MultiCompartmentModel([simple_ball])\n",
    "\n",
    "microtool_model = DmipyTissueModel(dmipy_model)"
   ]
  },
  {
   "cell_type": "markdown",
   "source": [
    "## Setting up the acquisition scheme"
   ],
   "metadata": {
    "collapsed": false
   }
  },
  {
   "cell_type": "code",
   "execution_count": 2,
   "outputs": [
    {
     "name": "stdout",
     "output_type": "stream",
     "text": [
      "Acquisition scheme with 44 measurements and 6 scalar parameters:\n",
      "  DiffusionBValue [s/mm²] in (0.0, 20000.0)    DiffusionGradientAnglePhi [rad] (fixed)    DiffusionGradientAngleTheta [rad] (fixed)    DiffusionPulseWidth [ms] in (1.0, 100.0)    DiffusionPulseInterval [ms] in (1.0, 1000.0)    EchoTime [ms] in (0.1, 1000.0)\n",
      "-------------------------------------------  -----------------------------------------  -------------------------------------------  ------------------------------------------  ----------------------------------------------  --------------------------------\n",
      "                                          0                                 -1.96142                                       1.98074                                            7                                              12                           36.2367\n",
      "                                          0                                  2.96645                                       0.952638                                           7                                              12                           36.2367\n",
      "                                          0                                  2.07307                                       1.23008                                            7                                              12                           36.2367\n",
      "                                          0                                  1.62697                                       2.54232                                            7                                              12                           36.2367\n",
      "                                          0                                 -1.27481                                       1.10667                                            7                                              12                           36.2367\n",
      "                                          0                                 -0.270954                                      1.62352                                            7                                              12                           36.2367\n",
      "                                          0                                  2.48994                                       1.95269                                            7                                              12                           36.2367\n",
      "                                          0                                  1.34847                                       0.60227                                            7                                              12                           36.2367\n",
      "                                          0                                  1.37824                                       1.69944                                            7                                              12                           36.2367\n",
      "                                          0                                 -2.81808                                       2.61018                                            7                                              12                           36.2367\n",
      "                                          0                                 -2.91948                                       1.73266                                            7                                              12                           36.2367\n",
      "                                          0                                 -0.636474                                      2.68892                                            7                                              12                           36.2367\n",
      "                                          0                                  0.618152                                      1.26883                                            7                                              12                           36.2367\n",
      "                                          0                                 -0.25727                                       0.757764                                           7                                              12                           36.2367\n",
      "                                          0                                 -2.23691                                       1.15731                                            7                                              12                           36.2367\n",
      "                                          0                                 -2.16437                                       0.277348                                           7                                              12                           36.2367\n",
      "                                          0                                 -1.06813                                       1.91179                                            7                                              12                           36.2367\n",
      "                                          0                                  0.472403                                      2.13875                                            7                                              12                           36.2367\n",
      "                                       1216                                  2.60908                                       1.00502                                            7                                              12                           43.2734\n",
      "                                       1216                                 -0.533535                                      2.13766                                            7                                              12                           43.2734\n",
      "                                       3580                                 -1.81652                                       1.06162                                           16                                              27                           49.036\n",
      "                                       3580                                 -1.9319                                        2.45688                                           16                                              27                           49.036\n",
      "                                       3580                                  0.668726                                      2.52006                                           16                                              27                           49.036\n",
      "                                       3580                                 -0.620436                                      1.58204                                           16                                              27                           49.036\n",
      "                                       3580                                  2.43716                                       0.371137                                          16                                              27                           49.036\n",
      "                                       3580                                 -3.12704                                       1.67865                                           16                                              27                           49.036\n",
      "                                       3580                                  1.89356                                       1.71743                                           16                                              27                           49.036\n",
      "                                       3580                                  0.588547                                      1.1227                                            16                                              27                           49.036\n",
      "                                      17370                                  2.31913                                       2.61761                                           19                                              24                           63.7645\n",
      "                                      17370                                 -2.23522                                       2.43556                                           19                                              24                           63.7645\n",
      "                                      17370                                  3.1149                                        1.89504                                           19                                              24                           63.7645\n",
      "                                      17370                                  2.06584                                       0.59898                                           19                                              24                           63.7645\n",
      "                                      17370                                 -3.05697                                       1.04731                                           19                                              24                           63.7645\n",
      "                                      17370                                 -0.394178                                      1.58366                                           19                                              24                           63.7645\n",
      "                                      17370                                  1.37076                                       2.04823                                           19                                              24                           63.7645\n",
      "                                      17370                                 -0.0375755                                     2.62573                                           19                                              24                           63.7645\n",
      "                                      17370                                 -1.22627                                       1.14375                                           19                                              24                           63.7645\n",
      "                                      17370                                  1.16872                                       1.15231                                           19                                              24                           63.7645\n",
      "                                      17370                                  0.449946                                      1.74347                                           19                                              24                           63.7645\n",
      "                                      17370                                 -2.15599                                       1.48279                                           19                                              24                           63.7645\n",
      "                                      17370                                  0.0707618                                     0.717989                                          19                                              24                           63.7645\n",
      "                                      17370                                 -1.21298                                       2.06126                                           19                                              24                           63.7645\n",
      "                                      17370                                  2.21262                                       1.54351                                           19                                              24                           63.7645\n",
      "                                      17370                                 -1.93346                                       0.412575                                          19                                              24                           63.7645\n"
     ]
    }
   ],
   "source": [
    "from microtool.dmipy import convert_dmipy_scheme2diffusion_scheme\n",
    "\n",
    "from microtool.utils.saved_schemes import alexander2008_optimized_directions\n",
    "\n",
    "\n",
    "acq_scheme = alexander2008_optimized_directions([2,8,16])\n",
    "acq_wrapped = convert_dmipy_scheme2diffusion_scheme(acq_scheme)\n",
    "acq_wrapped.fix_b0_measurements()\n",
    "print(acq_wrapped)"
   ],
   "metadata": {
    "collapsed": false,
    "ExecuteTime": {
     "end_time": "2023-05-22T12:40:30.170461400Z",
     "start_time": "2023-05-22T12:40:30.097009400Z"
    }
   }
  },
  {
   "cell_type": "markdown",
   "source": [],
   "metadata": {
    "collapsed": false
   }
  },
  {
   "cell_type": "markdown",
   "source": [
    "Now that we have the acquisition scheme and tissue model defined we test the generation of signal."
   ],
   "metadata": {
    "collapsed": false
   }
  },
  {
   "cell_type": "code",
   "execution_count": 3,
   "outputs": [
    {
     "data": {
      "text/plain": "array([1.00000000e+00, 1.00000000e+00, 1.00000000e+00, 1.00000000e+00,\n       1.00000000e+00, 1.00000000e+00, 1.00000000e+00, 1.00000000e+00,\n       1.00000000e+00, 1.00000000e+00, 1.00000000e+00, 1.00000000e+00,\n       1.00000000e+00, 1.00000000e+00, 1.00000000e+00, 1.00000000e+00,\n       1.00000000e+00, 1.00000000e+00, 1.26539597e-01, 1.26539597e-01,\n       2.27448870e-03, 2.27448870e-03, 2.27448870e-03, 2.27448870e-03,\n       2.27448870e-03, 2.27448870e-03, 2.27448870e-03, 2.27448870e-03,\n       1.49871220e-13, 1.49871220e-13, 1.49871220e-13, 1.49871220e-13,\n       1.49871220e-13, 1.49871220e-13, 1.49871220e-13, 1.49871220e-13,\n       1.49871220e-13, 1.49871220e-13, 1.49871220e-13, 1.49871220e-13,\n       1.49871220e-13, 1.49871220e-13, 1.49871220e-13, 1.49871220e-13])"
     },
     "execution_count": 3,
     "metadata": {},
     "output_type": "execute_result"
    }
   ],
   "source": [
    "microtool_model(acq_wrapped)"
   ],
   "metadata": {
    "collapsed": false,
    "ExecuteTime": {
     "end_time": "2023-05-22T12:40:30.205375200Z",
     "start_time": "2023-05-22T12:40:30.176724Z"
    }
   }
  },
  {
   "cell_type": "markdown",
   "source": [
    "## Optimizing the scheme with respect to the diffusivity."
   ],
   "metadata": {
    "collapsed": false
   }
  },
  {
   "cell_type": "code",
   "execution_count": 4,
   "outputs": [
    {
     "name": "stderr",
     "output_type": "stream",
     "text": [
      "C:\\Users\\Frank\\miniconda3\\envs\\devmicro\\lib\\site-packages\\scipy\\optimize\\_constraints.py:446: OptimizeWarning: Constraint options `finite_diff_jac_sparsity`, `finite_diff_rel_step`, `keep_feasible`, and `hess`are ignored by this method.\n",
      "  warn(\"Constraint options `finite_diff_jac_sparsity`, \"\n"
     ]
    }
   ],
   "source": [
    "from microtool.optimize import optimize_scheme\n",
    "\n",
    "scheme, _ = optimize_scheme(acq_wrapped, microtool_model, noise_variance=0.02, method=None)"
   ],
   "metadata": {
    "collapsed": false,
    "ExecuteTime": {
     "end_time": "2023-05-22T12:42:23.262673800Z",
     "start_time": "2023-05-22T12:40:30.205375200Z"
    }
   }
  },
  {
   "cell_type": "markdown",
   "source": [
    "## Fitting the model"
   ],
   "metadata": {
    "collapsed": false
   }
  },
  {
   "cell_type": "code",
   "execution_count": 5,
   "outputs": [
    {
     "name": "stdout",
     "output_type": "stream",
     "text": [
      "Using parallel processing with 12 workers.\n",
      "Setup brute2fine optimizer in 0.0 seconds\n",
      "Fitting of 1 voxels complete in 3.5287551879882812 seconds.\n",
      "Average of 3.5287551879882812 seconds per voxel.\n"
     ]
    }
   ],
   "source": [
    "# Generating basic signal on the new scheme\n",
    "signal = microtool_model(scheme)\n",
    "\n",
    "fitted_model = microtool_model.fit(scheme, signal)\n",
    "fitted_model.fitted_parameters"
   ],
   "metadata": {
    "collapsed": false,
    "ExecuteTime": {
     "end_time": "2023-05-22T12:42:26.925301100Z",
     "start_time": "2023-05-22T12:42:23.262673800Z"
    }
   }
  },
  {
   "cell_type": "markdown",
   "source": [
    "## Validation of scheme optimization through Monte Carlo simulations"
   ],
   "metadata": {
    "collapsed": false
   }
  },
  {
   "cell_type": "code",
   "execution_count": null,
   "outputs": [],
   "source": [
    "from microtool.monte_carlo.simulation import MonteCarloSimulation\n",
    "from microtool.monte_carlo.parameter_distributions import plot_parameter_distributions\n",
    "from scipy import stats\n",
    "\n",
    "# loc is mean and scale is standard deviation\n",
    "noise_distribution = stats.norm(loc=0, scale=0.02)\n",
    "\n",
    "simulation = MonteCarloSimulation(scheme,microtool_model,noise_distribution,n_sim=100)\n",
    "\n",
    "simulation.run()\n",
    "\n",
    "# Its wise to save your simulations, always check before running a simulation that the path is valid! (write a string to it for example)\n",
    "path = \"simulations/basic_functionality.pkl\"\n",
    "simulation.save(path)\n",
    "\n",
    "# accesing the simulation result is as follows, convenience functions for plotting are also implemented\n",
    "result = simulation.result\n",
    "fig = plot_parameter_distributions(result, microtool_model)"
   ],
   "metadata": {
    "collapsed": false
   }
  },
  {
   "cell_type": "code",
   "execution_count": 18,
   "outputs": [
    {
     "data": {
      "text/plain": "<Figure size 432x288 with 1 Axes>",
      "image/png": "[encoded data removed]"
     },
     "metadata": {
      "needs_background": "light"
     },
     "output_type": "display_data"
    }
   ],
   "source": [
    "from microtool.utils.IO import get_pickle\n",
    "\n",
    "result = get_pickle(\"simulations/basic_functionality.pkl\")\n",
    "fig = plot_parameter_distributions(result, microtool_model)"
   ],
   "metadata": {
    "collapsed": false,
    "ExecuteTime": {
     "end_time": "2023-05-22T13:13:51.965667200Z",
     "start_time": "2023-05-22T13:13:51.780419300Z"
    }
   }
  }
 ],
 "metadata": {
  "kernelspec": {
   "display_name": "Python 3",
   "language": "python",
   "name": "python3"
  },
  "language_info": {
   "codemirror_mode": {
    "name": "ipython",
    "version": 2
   },
   "file_extension": ".py",
   "mimetype": "text/x-python",
   "name": "python",
   "nbconvert_exporter": "python",
   "pygments_lexer": "ipython2",
   "version": "2.7.6"
  }
 },
 "nbformat": 4,
 "nbformat_minor": 0
}
