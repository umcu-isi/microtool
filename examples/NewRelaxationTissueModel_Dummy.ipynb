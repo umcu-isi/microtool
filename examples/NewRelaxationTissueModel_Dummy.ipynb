{
 "cells": [
  {
   "cell_type": "markdown",
   "id": "62cc73fa-2dbc-43b8-9063-a19bf6351ceb",
   "metadata": {},
   "source": [
    "# Dummy Code for New RelaxationTissueModel Class\n",
    "\n",
    "Two cases of how it could be used:\n",
    "1. Single composite for compartment model with unique relaxation values\n",
    "2. Multiple composites that form a unique compartment model with their own unique relaxation values"
   ]
  },
  {
   "cell_type": "markdown",
   "id": "11d3426b-ebf3-4881-ba7e-15303a0a08b5",
   "metadata": {},
   "source": [
    "## 1. Single Composite with Relaxation\n",
    "1. Add a model from a tissue toolbox of choice (Dmipy as an example)\n",
    "2. Translate into microtool usable tissue\n",
    "3. Translate into RelaxationTissueModel: this can be either only T2 or T2+T1\n",
    "\n",
    "**RelaxationTissueModel is for composites, not compartments**\n",
    "Thus, it allows to introduce different relaxation values for different models."
   ]
  },
  {
   "cell_type": "code",
   "execution_count": null,
   "id": "8ce9f527-3987-43a6-944e-759243f79126",
   "metadata": {},
   "outputs": [],
   "source": [
    "from microtool.dmipy import DmipyTissueModel\n",
    "from microtool.tissue_model import RelaxationTissueModel\n",
    "from dmipy.signal_models.gaussian_models import G1Ball\n",
    "\n",
    "#Tissuemodel from dmipy\n",
    "ball =  G1Ball(lambda_iso=1.7e-9)\n",
    "\n",
    "#Translate into microtool\n",
    "ball_microtool = DmipyTissueModel(ball)\n",
    "\n",
    "#Translate into model that takes into account relaxations (RelaxationTissueModel)\n",
    "model_1 = RelaxationTissueModel(ball_microtool, T2 = 20)"
   ]
  },
  {
   "cell_type": "markdown",
   "id": "72998e5b-6b30-4aca-b5ff-5db45c7a2bb6",
   "metadata": {},
   "source": [
    "## 2. Create a MultiTissueModel from several composites with relaxations\n",
    "\n",
    "1. Add a new composite\n",
    "2. Translate again into microtool usable tissue\n",
    "3. Translate into RelaxationTissueModel\n",
    "4. Add the two RelaxationTissueModels into a unique MultiTissueModel that serves as a wrapper of the RelaxationTissueModel\n",
    "\n",
    "**The final MultiTissueModel will contain within each composite the unique characteristics among which the specific relaxations are contained.**"
   ]
  },
  {
   "cell_type": "code",
   "execution_count": null,
   "id": "75fafbdf-862e-4c82-a5e3-f05cd779f405",
   "metadata": {},
   "outputs": [],
   "source": [
    "from dmipy.signal_models import sphere_models\n",
    "\n",
    "#Create second model from dmipy\n",
    "sphere = sphere_models.S4SphereGaussianPhaseApproximation(diffusion_constant=2.0e-9, diameter=10e-6)\n",
    "\n",
    "#Translate into microtool\n",
    "sphere_microtool = DmipyTissueModel(sphere)\n",
    "sphere._dmipy_fix_parameters('S4SphereGaussianPhaseApproximation_1_diameter', 2.0e-9)\n",
    "\n",
    "#Translate into model that takes into account relaxations (RelaxationTissueModel)\n",
    "model_2 = RelaxationTissueModel(sphere_microtool, T2 = 10) #Allows for addition of a different T2 value specific to the composite\n",
    "\n",
    "from microtool.tissue_model import MultiTissueModel\n",
    "#Combine models into MultiCompartmentModel\n",
    "multitissuemodel_with_relaxations = MultiTissueModel(models = [model_1, model_2], volume_fractions = [0.3, 0.7])"
   ]
  },
  {
   "cell_type": "markdown",
   "id": "4e84ec33-78bf-4d32-a505-3a06dd4d31a0",
   "metadata": {},
   "source": [
    "# Proceed with acquisition protocol and optimization\n",
    "\n",
    "Regardless of whether a single composite (unique RelaxationTissueModel) or several composites are considered (MultiTissueModel), the optimization procedure continues equally. \n",
    "\n",
    "*The final model will be either model_1 or multitissuemodel_with_relaxations, let's assume now final_model = multittisuemodel_with_relaxations*"
   ]
  },
  {
   "cell_type": "code",
   "execution_count": null,
   "id": "a8aa0f92-9d5e-4825-92ce-27258011f1d4",
   "metadata": {},
   "outputs": [],
   "source": [
    "#Initial scheme protocol\n",
    "from microtool.acquisition_scheme import DiffusionAcquisitionScheme, InversionRecoveryAcquisitionScheme\n",
    "from microtool.gradient_sampling import sample_uniform_half_sphere\n",
    "\n",
    "M = 10\n",
    "N = 30\n",
    "\n",
    "b_vals = np.concatenate([np.repeat(0, M), np.repeat(1000, M), np.repeat(3000, M)])\n",
    "pulse_widths = np.concatenate([np.repeat(0.019, M), np.repeat(0.016, M), np.repeat(0.007, M)])\n",
    "pulse_intervals = np.concatenate([np.repeat(0.030, M), np.repeat(0.027, M), np.repeat(0.020, M)])\n",
    "\n",
    "directions = sample_uniform_half_sphere(N)\n",
    "initial_scheme = DiffusionAcquisitionScheme.from_bvals(b_values=b_vals, b_vectors=directions, pulse_widths=pulse_widths,\n",
    "                                                        pulse_intervals=pulse_intervals)\n",
    "\n",
    "\n",
    "#Optimization\n",
    "from microtool.optimize import optimize_scheme\n",
    "optimal_scheme, _ = optimize_scheme(initial_scheme, multittisuemodel_with_relaxations, noise_variance=0.02, method=\"trust-constr\", solver_options={\"verbose\":2, \"maxiter\": 10})\n",
    "\n",
    "signal = multittisuemodel_with_relaxations(optimal_scheme)\n",
    "\n",
    "#Fitting\n",
    "fitted_model = multittisuemodel_with_relaxations.fit(optimal_scheme, signal, use_parallel_processing=False)\n",
    "fitted_model.fitted_parameters"
   ]
  }
 ],
 "metadata": {
  "kernelspec": {
   "display_name": "Python 3 (ipykernel)",
   "language": "python",
   "name": "python3"
  },
  "language_info": {
   "codemirror_mode": {
    "name": "ipython",
    "version": 3
   },
   "file_extension": ".py",
   "mimetype": "text/x-python",
   "name": "python",
   "nbconvert_exporter": "python",
   "pygments_lexer": "ipython3",
   "version": "3.8.18"
  }
 },
 "nbformat": 4,
 "nbformat_minor": 5
}
