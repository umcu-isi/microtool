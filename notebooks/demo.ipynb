{
 "cells": [
  {
   "cell_type": "code",
   "execution_count": null,
   "id": "1c2bc0bd",
   "metadata": {},
   "outputs": [],
   "source": [
    "import matplotlib.pyplot as plt\n",
    "import numpy as np\n",
    "\n",
    "import microtool\n",
    "\n",
    "%matplotlib widget"
   ]
  },
  {
   "cell_type": "markdown",
   "id": "72826b4d",
   "metadata": {},
   "source": [
    "# Inversion recovery"
   ]
  },
  {
   "cell_type": "markdown",
   "id": "b48f7fc9",
   "metadata": {},
   "source": [
    "## 1. Create a tissue model specifying a T1 and T2"
   ]
  },
  {
   "cell_type": "code",
   "execution_count": null,
   "id": "beb2be87",
   "metadata": {},
   "outputs": [],
   "source": [
    "relaxation_model = microtool.tissue_model.RelaxationTissueModel(t1=900, t2=90)\n",
    "print(relaxation_model)"
   ]
  },
  {
   "cell_type": "markdown",
   "id": "3bacc011",
   "metadata": {},
   "source": [
    "## 2. Create an initial inversion-recovery acquisition scheme\n",
    "Initial TR = 500 ms, initial TE = 10 ms, initial TI = {50, ..., 400} ms"
   ]
  },
  {
   "cell_type": "code",
   "execution_count": null,
   "id": "8d957c5a",
   "metadata": {},
   "outputs": [],
   "source": [
    "tr = np.array([500, 500, 500, 500, 500, 500, 500, 500])\n",
    "te = np.array([10, 10, 10, 10, 20, 20, 20, 20])\n",
    "ti = np.array([50, 100, 150, 200, 250, 300, 350, 400])\n",
    "\n",
    "ir_scheme = microtool.acquisition_scheme.InversionRecoveryAcquisitionScheme(tr, te, ti)\n",
    "print(ir_scheme)"
   ]
  },
  {
   "cell_type": "code",
   "execution_count": null,
   "id": "8302dce3",
   "metadata": {},
   "outputs": [],
   "source": [
    "plt.figure(figsize=(6, 4))\n",
    "plt.plot(relaxation_model(ir_scheme), '.')\n",
    "plt.xlabel('Measurement')\n",
    "plt.ylabel('Signal attenuation');"
   ]
  },
  {
   "cell_type": "markdown",
   "id": "52002aa4",
   "metadata": {},
   "source": [
    "## 3. Optimize the acquisition scheme"
   ]
  },
  {
   "cell_type": "code",
   "execution_count": null,
   "id": "d62b12d4",
   "metadata": {},
   "outputs": [],
   "source": [
    "noise_variance = 0.1\n",
    "relaxation_model.optimize(ir_scheme, noise_variance,method=microtool.optimize.SOMA);"
   ]
  },
  {
   "cell_type": "code",
   "execution_count": null,
   "id": "7f16cf0e",
   "metadata": {},
   "outputs": [],
   "source": [
    "print(ir_scheme)\n",
    "plt.figure(figsize=(6, 4))\n",
    "plt.plot(relaxation_model(ir_scheme), '.')\n",
    "plt.xlabel('Measurement')\n",
    "plt.ylabel('Signal attenuation');"
   ]
  },
  {
   "cell_type": "markdown",
   "id": "011bc19a",
   "metadata": {},
   "source": [
    "# dmpyi diffusion model"
   ]
  },
  {
   "cell_type": "code",
   "execution_count": null,
   "id": "a2ae7230",
   "metadata": {},
   "outputs": [],
   "source": [
    "from dmipy.signal_models.cylinder_models import C1Stick\n",
    "from dmipy.signal_models.gaussian_models import G1Ball\n",
    "from dmipy.core.modeling_framework import MultiCompartmentModel\n",
    "\n",
    "import microtool.dmipy"
   ]
  },
  {
   "cell_type": "markdown",
   "id": "c61ae2e4",
   "metadata": {},
   "source": [
    "## 1. Create a 'stick' diffusion model"
   ]
  },
  {
   "cell_type": "code",
   "execution_count": null,
   "id": "cb11e8d3",
   "metadata": {},
   "outputs": [],
   "source": [
    "dmipy_model = MultiCompartmentModel(models=[\n",
    "    C1Stick(\n",
    "        mu=[1, 1],  # Orientation in angles.\n",
    "        lambda_par=0.001 * 1e-6  # Parallel diffusivity in m²/s.\n",
    "    )\n",
    "])"
   ]
  },
  {
   "cell_type": "markdown",
   "id": "4f829d26",
   "metadata": {},
   "source": [
    "## 2. Wrap the dmipy model in a DmipyTissueModel"
   ]
  },
  {
   "cell_type": "code",
   "execution_count": null,
   "id": "64c0954c",
   "metadata": {},
   "outputs": [],
   "source": [
    "diffusion_model = microtool.dmipy.DmipyTissueModel(dmipy_model)\n",
    "diffusion_model"
   ]
  },
  {
   "cell_type": "markdown",
   "id": "1c2ea17e",
   "metadata": {},
   "source": [
    "## 3. Create an initial diffusion acquisition scheme"
   ]
  },
  {
   "cell_type": "code",
   "execution_count": null,
   "id": "7da2ecbc",
   "metadata": {},
   "outputs": [],
   "source": [
    "b_values = np.array([0, 1000, 2000, 3000])  # s/mm²\n",
    "b_vectors = np.array([[0, 1, 0], [1, 0, 0], [0, 1, 0], [0, 0, 1]])\n",
    "pulse_widths = np.full(b_values.shape, 10)  # ms\n",
    "pulse_intervals = np.full(b_values.shape, 30)  # ms\n",
    "\n",
    "diffusion_scheme = microtool.acquisition_scheme.DiffusionAcquisitionScheme(b_values, b_vectors, pulse_widths, pulse_intervals)\n",
    "print(diffusion_scheme)"
   ]
  },
  {
   "cell_type": "code",
   "execution_count": null,
   "id": "1ef8baf6",
   "metadata": {},
   "outputs": [],
   "source": [
    "plt.figure(figsize=(6, 4))\n",
    "plt.plot(diffusion_model(diffusion_scheme), '.')\n",
    "plt.xlabel('Measurement')\n",
    "plt.ylabel('Signal attenuation');"
   ]
  },
  {
   "cell_type": "markdown",
   "id": "71b0b281",
   "metadata": {},
   "source": [
    "## 4. Calculate the Cramer-Rao lower bound loss"
   ]
  },
  {
   "cell_type": "code",
   "execution_count": null,
   "id": "a5226d77",
   "metadata": {},
   "outputs": [],
   "source": [
    "jacobian = diffusion_model.jacobian(diffusion_scheme)  # Jacobian of the signal with respect to the relevant tissue parameters.\n",
    "scales = [p.scale for p in diffusion_model.values()]  # Tissue parameter scales.\n",
    "include = [p.optimize for p in diffusion_model.values()]  # Include tissue parameter in optimization?\n",
    "noise_variance = 0.1\n",
    "microtool.optimize.crlb_loss(jacobian, scales, include, noise_variance)"
   ]
  },
  {
   "cell_type": "markdown",
   "id": "23ff7ea9",
   "metadata": {},
   "source": [
    "## 5. Optimize the acquisition scheme"
   ]
  },
  {
   "cell_type": "code",
   "execution_count": null,
   "id": "9140ff6d",
   "metadata": {},
   "outputs": [],
   "source": [
    "diffusion_model.optimize(diffusion_scheme, noise_variance);"
   ]
  },
  {
   "cell_type": "code",
   "execution_count": null,
   "id": "a3ea1f0b",
   "metadata": {},
   "outputs": [],
   "source": [
    "print(diffusion_scheme)\n",
    "plt.figure(figsize=(6, 4))\n",
    "plt.plot(diffusion_model(diffusion_scheme), '.')\n",
    "plt.xlabel('Measurement')\n",
    "plt.ylabel('Signal attenuation');"
   ]
  },
  {
   "cell_type": "markdown",
   "id": "fbe130fb",
   "metadata": {},
   "source": [
    "## 6. Calculate the Cramer-Rao lower bound loss again\n",
    "It should be lower after optimizing the acquisition."
   ]
  },
  {
   "cell_type": "code",
   "execution_count": null,
   "id": "3783aaac",
   "metadata": {},
   "outputs": [],
   "source": [
    "jacobian = diffusion_model.jacobian(diffusion_scheme)  # Jacobian of the signal with respect to the relevant tissue parameters.\n",
    "scales = [p.scale for p in diffusion_model.values()]  # Tissue parameter scales.\n",
    "include = [p.optimize for p in diffusion_model.values()]  # Include tissue parameter in optimization?\n",
    "noise_variance = 0.1\n",
    "microtool.optimize.crlb_loss(jacobian, scales, include, noise_variance)"
   ]
  },
  {
   "cell_type": "markdown",
   "id": "ae265fee",
   "metadata": {},
   "source": [
    "# MISST diffusion model"
   ]
  },
  {
   "cell_type": "markdown",
   "id": "73a9a160",
   "metadata": {},
   "source": [
    "## 1. Set the path to the MISST MATLAB package"
   ]
  },
  {
   "cell_type": "code",
   "execution_count": null,
   "id": "899ec42b",
   "metadata": {},
   "outputs": [],
   "source": [
    "import microtool.misst\n",
    "microtool.misst.set_misst_path(r'C:\\development\\MISST')"
   ]
  },
  {
   "cell_type": "markdown",
   "id": "5e18d14a",
   "metadata": {},
   "source": [
    "## 2. Create a 'Cylinder' diffusion model and wrap it in a MisstTissueModel"
   ]
  },
  {
   "cell_type": "code",
   "execution_count": null,
   "id": "2fd356be",
   "metadata": {},
   "outputs": [],
   "source": [
    "misst_model = {\n",
    "    'di': microtool.tissue_model.TissueParameter(value=2e-9, scale=1e-9),  # Intrinsic diffusivity in m²/s.\n",
    "    'rad': microtool.tissue_model.TissueParameter(value=5.2e-6, scale=1e-6, optimize=False),  # Cylinder radius in m.\n",
    "    'theta': microtool.tissue_model.TissueParameter(value=0.1, scale=1),  # Angle from z axis\n",
    "    'phi': microtool.tissue_model.TissueParameter(value=0.2, scale=1),  # Azimuthal angle\n",
    "}"
   ]
  },
  {
   "cell_type": "code",
   "execution_count": null,
   "id": "543ee09c",
   "metadata": {},
   "outputs": [],
   "source": [
    "diffusion_model = microtool.misst.MisstTissueModel('Cylinder', misst_model)\n",
    "print(diffusion_model)"
   ]
  },
  {
   "cell_type": "markdown",
   "id": "610c3cc3",
   "metadata": {},
   "source": [
    "## 3. Create an initial diffusion acquisition scheme"
   ]
  },
  {
   "cell_type": "code",
   "execution_count": null,
   "id": "e761366d",
   "metadata": {},
   "outputs": [],
   "source": [
    "b_values = np.array([0, 500, 1000, 1500, 2000, 2500, 3000])  # s/mm²\n",
    "b_vectors = np.array([[0, 1, 0], [1, 0, 0], [1, 0, 0], [0, 1, 0], [0, 1, 0], [0, 0, 1], [0, 0, 1]])\n",
    "pulse_widths = np.full(b_values.shape, 10)  # ms\n",
    "pulse_intervals = np.full(b_values.shape, 30)  # ms\n",
    "\n",
    "diffusion_scheme = microtool.acquisition_scheme.DiffusionAcquisitionScheme(b_values, b_vectors, pulse_widths, pulse_intervals)\n",
    "print(diffusion_scheme)"
   ]
  },
  {
   "cell_type": "markdown",
   "id": "69c34011",
   "metadata": {},
   "source": [
    "## 4. Optimize the acquisition scheme"
   ]
  },
  {
   "cell_type": "code",
   "execution_count": null,
   "id": "7b272ee6",
   "metadata": {},
   "outputs": [],
   "source": [
    "noise_variance = 0.1\n",
    "diffusion_model.optimize(diffusion_scheme, noise_variance);"
   ]
  },
  {
   "cell_type": "code",
   "execution_count": null,
   "id": "6d955334",
   "metadata": {},
   "outputs": [],
   "source": [
    "print(diffusion_scheme)\n",
    "plt.figure(figsize=(6, 4))\n",
    "plt.plot(diffusion_model(diffusion_scheme), '.')\n",
    "plt.xlabel('Measurement')\n",
    "plt.ylabel('Signal attenuation');"
   ]
  }
 ],
 "metadata": {
  "interpreter": {
   "hash": "e457c7df5673435eb302ab4372bdb3b590e7f8a7b5e82d7f6b7602aa0693998e"
  },
  "kernelspec": {
   "display_name": "Python 3.9.12 ('microdev')",
   "language": "python",
   "name": "python3"
  },
  "language_info": {
   "codemirror_mode": {
    "name": "ipython",
    "version": 3
   },
   "file_extension": ".py",
   "mimetype": "text/x-python",
   "name": "python",
   "nbconvert_exporter": "python",
   "pygments_lexer": "ipython3",
   "version": "3.9.12"
  }
 },
 "nbformat": 4,
 "nbformat_minor": 5
}
