{
 "cells": [
  {
   "cell_type": "markdown",
   "source": [
    "# Relaxation effects ($ T_2 $)\n",
    "\n",
    "In this notebook we demonstrate the use of additional $T_2$ relaxation effects applied on top of an existing TissueModel.\n",
    "\n",
    "## Setting up the dmipy model\n",
    "\n",
    "We demonstrate this using a simple model from dmipy"
   ],
   "metadata": {
    "collapsed": false
   }
  },
  {
   "cell_type": "code",
   "execution_count": 1,
   "metadata": {
    "collapsed": true
   },
   "outputs": [
    {
     "name": "stdout",
     "output_type": "stream",
     "text": [
      "Tissue model with 3 scalar parameters:\n",
      "Tissue-parameter                 Value    Scale  Optimize    Fit    Fit Bounds\n",
      "---------------------------  ---------  -------  ----------  -----  ------------------------------------------------\n",
      "model_0_G1Ball_1_lambda_iso    1.7e-09    1e-09  True        True   (1.0000000000000002e-10, 3.0000000000000004e-09)\n",
      "T2_relaxation_0              100          1      True        True   (0.1, 1000.0)\n",
      "S0                             1          1      False       False  (0.0, 2.0)\n"
     ]
    }
   ],
   "source": [
    "from dmipy.core.modeling_framework import MultiCompartmentModel\n",
    "from dmipy.signal_models.gaussian_models import G1Ball\n",
    "\n",
    "from microtool.dmipy import DmipyTissueModel\n",
    "from microtool.tissue_model import RelaxedMultiTissueModel\n",
    "\n",
    "# setting up a simple model\n",
    "simple_ball = G1Ball(lambda_iso=1.7e-9)\n",
    "\n",
    "# This step is unnecessary\n",
    "dmipy_model = MultiCompartmentModel([simple_ball])\n",
    "\n",
    "microtool_model = DmipyTissueModel(dmipy_model)\n",
    "\n",
    "relaxation_time = 100.0\n",
    "model = RelaxedMultiTissueModel([microtool_model],[1.0], [relaxation_time])\n",
    "print(model)"
   ]
  },
  {
   "cell_type": "markdown",
   "source": [
    "## Setting up the acquisition scheme"
   ],
   "metadata": {
    "collapsed": false
   }
  },
  {
   "cell_type": "code",
   "execution_count": 2,
   "outputs": [
    {
     "name": "stdout",
     "output_type": "stream",
     "text": [
      "Acquisition scheme with 44 measurements and 6 scalar parameters:\n",
      "  DiffusionBValue [s/mm²] in (0.0, 20000.0)    DiffusionGradientAnglePhi [rad] (fixed)    DiffusionGradientAngleTheta [rad] (fixed)    DiffusionPulseWidth [ms] in (1.0, 100.0)    DiffusionPulseInterval [ms] in (1.0, 1000.0)    EchoTime [ms] in (0.1, 1000.0)\n",
      "-------------------------------------------  -----------------------------------------  -------------------------------------------  ------------------------------------------  ----------------------------------------------  --------------------------------\n",
      "                                          0                                 -1.96142                                       1.98074                                            7                                              12                           36.2367\n",
      "                                          0                                  2.96645                                       0.952638                                           7                                              12                           36.2367\n",
      "                                          0                                  2.07307                                       1.23008                                            7                                              12                           36.2367\n",
      "                                          0                                  1.62697                                       2.54232                                            7                                              12                           36.2367\n",
      "                                          0                                 -1.27481                                       1.10667                                            7                                              12                           36.2367\n",
      "                                          0                                 -0.270954                                      1.62352                                            7                                              12                           36.2367\n",
      "                                          0                                  2.48994                                       1.95269                                            7                                              12                           36.2367\n",
      "                                          0                                  1.34847                                       0.60227                                            7                                              12                           36.2367\n",
      "                                          0                                  1.37824                                       1.69944                                            7                                              12                           36.2367\n",
      "                                          0                                 -2.81808                                       2.61018                                            7                                              12                           36.2367\n",
      "                                          0                                 -2.91948                                       1.73266                                            7                                              12                           36.2367\n",
      "                                          0                                 -0.636474                                      2.68892                                            7                                              12                           36.2367\n",
      "                                          0                                  0.618152                                      1.26883                                            7                                              12                           36.2367\n",
      "                                          0                                 -0.25727                                       0.757764                                           7                                              12                           36.2367\n",
      "                                          0                                 -2.23691                                       1.15731                                            7                                              12                           36.2367\n",
      "                                          0                                 -2.16437                                       0.277348                                           7                                              12                           36.2367\n",
      "                                          0                                 -1.06813                                       1.91179                                            7                                              12                           36.2367\n",
      "                                          0                                  0.472403                                      2.13875                                            7                                              12                           36.2367\n",
      "                                       1216                                  2.60908                                       1.00502                                            7                                              12                           43.2734\n",
      "                                       1216                                 -0.533535                                      2.13766                                            7                                              12                           43.2734\n",
      "                                       3580                                 -2.73709                                       1.07602                                           16                                              27                           49.036\n",
      "                                       3580                                  2.53124                                       2.08482                                           16                                              27                           49.036\n",
      "                                       3580                                  0.605217                                      2.69788                                           16                                              27                           49.036\n",
      "                                       3580                                 -2.04987                                       2.14398                                           16                                              27                           49.036\n",
      "                                       3580                                 -0.836366                                      0.427147                                          16                                              27                           49.036\n",
      "                                       3580                                  1.86302                                       1.00587                                           16                                              27                           49.036\n",
      "                                       3580                                  0.592368                                      1.44666                                           16                                              27                           49.036\n",
      "                                       3580                                 -0.790697                                      1.67797                                           16                                              27                           49.036\n",
      "                                      17370                                  2.11969                                       2.66546                                           19                                              24                           63.7645\n",
      "                                      17370                                 -2.26712                                       2.47483                                           19                                              24                           63.7645\n",
      "                                      17370                                  3.01145                                       1.96579                                           19                                              24                           63.7645\n",
      "                                      17370                                  2.04541                                       0.637657                                          19                                              24                           63.7645\n",
      "                                      17370                                  3.11776                                       1.11753                                           19                                              24                           63.7645\n",
      "                                      17370                                 -0.498507                                      1.51727                                           19                                              24                           63.7645\n",
      "                                      17370                                  1.23142                                       2.03576                                           19                                              24                           63.7645\n",
      "                                      17370                                 -0.141753                                      2.55497                                           19                                              24                           63.7645\n",
      "                                      17370                                 -1.36117                                       1.11816                                           19                                              24                           63.7645\n",
      "                                      17370                                  1.09547                                       1.1283                                            19                                              24                           63.7645\n",
      "                                      17370                                  0.341387                                      1.68097                                           19                                              24                           63.7645\n",
      "                                      17370                                 -2.26404                                       1.51958                                           19                                              24                           63.7645\n",
      "                                      17370                                 -0.0229437                                     0.647706                                          19                                              24                           63.7645\n",
      "                                      17370                                 -1.2834                                        2.03269                                           19                                              24                           63.7645\n",
      "                                      17370                                  2.10906                                       1.58816                                           19                                              24                           63.7645\n",
      "                                      17370                                 -2.18139                                       0.439816                                          19                                              24                           63.7645\n"
     ]
    }
   ],
   "source": [
    "from microtool.dmipy import convert_dmipy_scheme2diffusion_scheme\n",
    "\n",
    "from microtool.utils.saved_schemes import alexander2008_optimized_directions\n",
    "\n",
    "\n",
    "acq_scheme = alexander2008_optimized_directions([2,8,16])\n",
    "acq_wrapped = convert_dmipy_scheme2diffusion_scheme(acq_scheme)\n",
    "\n",
    "print(acq_wrapped)"
   ],
   "metadata": {
    "collapsed": false
   }
  },
  {
   "cell_type": "markdown",
   "source": [],
   "metadata": {
    "collapsed": false
   }
  },
  {
   "cell_type": "markdown",
   "source": [
    "## Generating signal"
   ],
   "metadata": {
    "collapsed": false
   }
  },
  {
   "cell_type": "code",
   "execution_count": 3,
   "outputs": [
    {
     "data": {
      "text/plain": "array([6.96027114e-01, 6.96027114e-01, 6.96027114e-01, 6.96027114e-01,\n       6.96027114e-01, 6.96027114e-01, 6.96027114e-01, 6.96027114e-01,\n       6.96027114e-01, 6.96027114e-01, 6.96027114e-01, 6.96027114e-01,\n       6.96027114e-01, 6.96027114e-01, 6.96027114e-01, 6.96027114e-01,\n       6.96027114e-01, 6.96027114e-01, 8.20903969e-02, 8.20903969e-02,\n       1.39291019e-03, 1.39291019e-03, 1.39291019e-03, 1.39291019e-03,\n       1.39291019e-03, 1.39291019e-03, 1.39291019e-03, 1.39291019e-03,\n       7.92122882e-14, 7.92122882e-14, 7.92122882e-14, 7.92122882e-14,\n       7.92122882e-14, 7.92122882e-14, 7.92122882e-14, 7.92122882e-14,\n       7.92122882e-14, 7.92122882e-14, 7.92122882e-14, 7.92122882e-14,\n       7.92122882e-14, 7.92122882e-14, 7.92122882e-14, 7.92122882e-14])"
     },
     "execution_count": 3,
     "metadata": {},
     "output_type": "execute_result"
    }
   ],
   "source": [
    "# relaxation signal\n",
    "model(acq_wrapped)"
   ],
   "metadata": {
    "collapsed": false
   }
  },
  {
   "cell_type": "markdown",
   "source": [
    "## Optimizing the scheme with respect to $ T_2 $."
   ],
   "metadata": {
    "collapsed": false
   }
  },
  {
   "cell_type": "code",
   "execution_count": null,
   "outputs": [
    {
     "name": "stdout",
     "output_type": "stream",
     "text": [
      "differential_evolution step 1: f(x)= 0.0738211\n",
      "differential_evolution step 2: f(x)= 0.0615543\n",
      "differential_evolution step 3: f(x)= 0.0615543\n",
      "differential_evolution step 4: f(x)= 0.0615543\n",
      "differential_evolution step 5: f(x)= 0.0478345\n",
      "differential_evolution step 6: f(x)= 0.0478345\n",
      "differential_evolution step 7: f(x)= 0.0478345\n",
      "differential_evolution step 8: f(x)= 0.0478345\n",
      "differential_evolution step 9: f(x)= 0.0478345\n",
      "differential_evolution step 10: f(x)= 0.0478345\n",
      "differential_evolution step 11: f(x)= 0.0478345\n",
      "differential_evolution step 12: f(x)= 0.0478345\n",
      "differential_evolution step 13: f(x)= 0.0332748\n",
      "differential_evolution step 14: f(x)= 0.0303993\n",
      "differential_evolution step 15: f(x)= 0.0303993\n",
      "differential_evolution step 16: f(x)= 0.0303993\n",
      "differential_evolution step 17: f(x)= 0.0303993\n",
      "differential_evolution step 18: f(x)= 0.0303993\n",
      "differential_evolution step 19: f(x)= 0.0303993\n",
      "differential_evolution step 20: f(x)= 0.0303993\n",
      "differential_evolution step 21: f(x)= 0.0303993\n",
      "differential_evolution step 22: f(x)= 0.0303993\n",
      "differential_evolution step 23: f(x)= 0.0303993\n",
      "differential_evolution step 24: f(x)= 0.0268357\n",
      "differential_evolution step 25: f(x)= 0.0268357\n",
      "differential_evolution step 26: f(x)= 0.0268357\n",
      "differential_evolution step 27: f(x)= 0.0268357\n",
      "differential_evolution step 28: f(x)= 0.0268357\n",
      "differential_evolution step 29: f(x)= 0.0241276\n",
      "differential_evolution step 30: f(x)= 0.0241276\n",
      "differential_evolution step 31: f(x)= 0.0241276\n",
      "differential_evolution step 32: f(x)= 0.0241276\n",
      "differential_evolution step 33: f(x)= 0.0241276\n",
      "differential_evolution step 34: f(x)= 0.0241276\n",
      "differential_evolution step 35: f(x)= 0.0241276\n",
      "differential_evolution step 36: f(x)= 0.0241276\n",
      "differential_evolution step 37: f(x)= 0.0241276\n",
      "differential_evolution step 38: f(x)= 0.0241276\n",
      "differential_evolution step 39: f(x)= 0.0241276\n",
      "differential_evolution step 40: f(x)= 0.0241276\n",
      "differential_evolution step 41: f(x)= 0.0241276\n",
      "differential_evolution step 42: f(x)= 0.0241276\n",
      "differential_evolution step 43: f(x)= 0.0241276\n",
      "differential_evolution step 44: f(x)= 0.0241276\n",
      "differential_evolution step 45: f(x)= 0.0241276\n",
      "differential_evolution step 46: f(x)= 0.0241276\n",
      "differential_evolution step 47: f(x)= 0.0241276\n",
      "differential_evolution step 48: f(x)= 0.0241276\n",
      "differential_evolution step 49: f(x)= 0.0241276\n",
      "differential_evolution step 50: f(x)= 0.0241276\n",
      "differential_evolution step 51: f(x)= 0.0241276\n",
      "differential_evolution step 52: f(x)= 0.0241276\n",
      "differential_evolution step 53: f(x)= 0.0241276\n",
      "differential_evolution step 54: f(x)= 0.0241276\n",
      "differential_evolution step 55: f(x)= 0.0241276\n"
     ]
    }
   ],
   "source": [
    "from microtool.optimize import optimize_scheme\n",
    "\n",
    "scheme, _ = optimize_scheme(acq_wrapped, model, noise_variance=0.02, method='differential_evolution')"
   ],
   "metadata": {
    "collapsed": false,
    "pycharm": {
     "is_executing": true
    }
   }
  },
  {
   "cell_type": "markdown",
   "source": [
    "## Fitting the model"
   ],
   "metadata": {
    "collapsed": false
   }
  },
  {
   "cell_type": "code",
   "execution_count": null,
   "outputs": [],
   "source": [],
   "metadata": {
    "collapsed": false
   }
  },
  {
   "cell_type": "markdown",
   "source": [
    "## Validation of scheme optimization through Monte Carlo simulations"
   ],
   "metadata": {
    "collapsed": false
   }
  },
  {
   "cell_type": "code",
   "execution_count": null,
   "outputs": [],
   "source": [
    "from microtool.monte_carlo.simulation import MonteCarloSimulation\n",
    "from scipy import stats\n",
    "\n",
    "# loc is mean and scale is standard deviation\n",
    "noise_distribution = stats.norm(loc=0, scale=0.02)\n",
    "\n",
    "simulation = MonteCarloSimulation(scheme,model,noise_distribution,n_sim=100)\n",
    "\n",
    "simulation.run()\n",
    "simulation.save"
   ],
   "metadata": {
    "collapsed": false,
    "pycharm": {
     "is_executing": true
    }
   }
  },
  {
   "cell_type": "code",
   "execution_count": null,
   "outputs": [],
   "source": [],
   "metadata": {
    "collapsed": false,
    "pycharm": {
     "is_executing": true
    }
   }
  }
 ],
 "metadata": {
  "kernelspec": {
   "display_name": "Python 3",
   "language": "python",
   "name": "python3"
  },
  "language_info": {
   "codemirror_mode": {
    "name": "ipython",
    "version": 2
   },
   "file_extension": ".py",
   "mimetype": "text/x-python",
   "name": "python",
   "nbconvert_exporter": "python",
   "pygments_lexer": "ipython2",
   "version": "2.7.6"
  }
 },
 "nbformat": 4,
 "nbformat_minor": 0
}
