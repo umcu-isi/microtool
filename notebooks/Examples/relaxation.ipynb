{
 "cells": [
  {
   "cell_type": "markdown",
   "source": [
    "# Relaxation effects ($ T_2 $)\n",
    "\n",
    "In this notebook we demonstrate the use of additional $T_2$ relaxation effects applied on top of an existing TissueModel.\n",
    "\n",
    "## Setting up the dmipy model\n",
    "\n",
    "We demonstrate this using a simple model from dmipy"
   ],
   "metadata": {
    "collapsed": false
   }
  },
  {
   "cell_type": "code",
   "execution_count": null,
   "metadata": {
    "collapsed": true
   },
   "outputs": [],
   "source": [
    "from dmipy.core.modeling_framework import MultiCompartmentModel\n",
    "from dmipy.signal_models.gaussian_models import G1Ball\n",
    "\n",
    "from microtool.dmipy import DmipyTissueModel\n",
    "from microtool.tissue_model import RelaxedMultiTissueModel\n",
    "\n",
    "# setting up a simple model\n",
    "simple_ball = G1Ball(lambda_iso=1.7e-9)\n",
    "\n",
    "# This step is unnecessary\n",
    "dmipy_model = MultiCompartmentModel([simple_ball])\n",
    "\n",
    "microtool_model = DmipyTissueModel(dmipy_model)\n",
    "\n",
    "relaxation_time = 100.0\n",
    "model = RelaxedMultiTissueModel([microtool_model],[1.0], [relaxation_time])\n",
    "print(model)"
   ]
  },
  {
   "cell_type": "markdown",
   "source": [
    "## Setting up the acquisition scheme"
   ],
   "metadata": {
    "collapsed": false
   }
  },
  {
   "cell_type": "code",
   "execution_count": null,
   "outputs": [],
   "source": [
    "from microtool.dmipy import convert_dmipy_scheme2diffusion_scheme\n",
    "\n",
    "from microtool.utils.saved_schemes import alexander2008_optimized_directions\n",
    "\n",
    "\n",
    "acq_scheme = alexander2008_optimized_directions([2,8,16])\n",
    "acq_wrapped = convert_dmipy_scheme2diffusion_scheme(acq_scheme)\n",
    "\n",
    "print(acq_wrapped)"
   ],
   "metadata": {
    "collapsed": false
   }
  },
  {
   "cell_type": "markdown",
   "source": [],
   "metadata": {
    "collapsed": false
   }
  },
  {
   "cell_type": "markdown",
   "source": [
    "## Generating signal"
   ],
   "metadata": {
    "collapsed": false
   }
  },
  {
   "cell_type": "code",
   "execution_count": null,
   "outputs": [],
   "source": [
    "# relaxation signal\n",
    "model(acq_wrapped)"
   ],
   "metadata": {
    "collapsed": false
   }
  },
  {
   "cell_type": "markdown",
   "source": [
    "## Optimizing the scheme with respect to $ T_2 $."
   ],
   "metadata": {
    "collapsed": false
   }
  },
  {
   "cell_type": "code",
   "execution_count": null,
   "outputs": [],
   "source": [
    "from microtool.optimize import optimize_scheme\n",
    "\n",
    "scheme, _ = optimize_scheme(acq_wrapped, model, noise_variance=0.02, method='differential_evolution')"
   ],
   "metadata": {
    "collapsed": false
   }
  },
  {
   "cell_type": "markdown",
   "source": [
    "## Fitting the model"
   ],
   "metadata": {
    "collapsed": false
   }
  },
  {
   "cell_type": "code",
   "execution_count": null,
   "outputs": [],
   "source": [],
   "metadata": {
    "collapsed": false
   }
  },
  {
   "cell_type": "markdown",
   "source": [
    "## Validation of scheme optimization through Monte Carlo simulations"
   ],
   "metadata": {
    "collapsed": false
   }
  },
  {
   "cell_type": "code",
   "execution_count": null,
   "outputs": [],
   "source": [
    "from microtool.monte_carlo.simulation import MonteCarloSimulation\n",
    "from scipy import stats\n",
    "\n",
    "# loc is mean and scale is standard deviation\n",
    "noise_distribution = stats.norm(loc=0, scale=0.02)\n",
    "\n",
    "simulation = MonteCarloSimulation(scheme,model,noise_distribution,n_sim=100)\n",
    "\n",
    "simulation.run()\n",
    "simulation.save"
   ],
   "metadata": {
    "collapsed": false
   }
  },
  {
   "cell_type": "code",
   "execution_count": null,
   "outputs": [],
   "source": [],
   "metadata": {
    "collapsed": false
   }
  }
 ],
 "metadata": {
  "kernelspec": {
   "display_name": "Python 3",
   "language": "python",
   "name": "python3"
  },
  "language_info": {
   "codemirror_mode": {
    "name": "ipython",
    "version": 2
   },
   "file_extension": ".py",
   "mimetype": "text/x-python",
   "name": "python",
   "nbconvert_exporter": "python",
   "pygments_lexer": "ipython2",
   "version": "2.7.6"
  }
 },
 "nbformat": 4,
 "nbformat_minor": 0
}
