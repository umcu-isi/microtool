{
 "cells": [
  {
   "cell_type": "markdown",
   "source": [
    "# Relaxation effects ($ T_2 $)\n",
    "\n",
    "In this notebook we demonstrate the use of the relaxation decorator to add $ T_2 $ relaxation effects to a dmipy multi-compartment model.\n",
    "\n",
    "## Setting up the dmipy model\n",
    "\n"
   ],
   "metadata": {
    "collapsed": false
   }
  },
  {
   "cell_type": "code",
   "execution_count": null,
   "metadata": {
    "collapsed": true
   },
   "outputs": [],
   "source": [
    "from dmipy.core.modeling_framework import MultiCompartmentModel\n",
    "from dmipy.signal_models.gaussian_models import G1Ball\n",
    "from microtool.dmipy import DmipyTissueModel, RelaxationDecorator\n",
    "\n",
    "# setting up a simple model\n",
    "simple_ball = G1Ball(lambda_iso=1.7e-9)\n",
    "model = MultiCompartmentModel([simple_ball])\n",
    "\n",
    "# Using the microtool wrapper\n",
    "model_normal = DmipyTissueModel(model)"
   ]
  },
  {
   "cell_type": "code",
   "execution_count": null,
   "outputs": [],
   "source": [
    "\n",
    "# Using the relaxation decorator\n",
    "relaxed_model = DmipyTissueModel(model, relaxation_times=10.0)\n",
    "print(relaxed_model)"
   ],
   "metadata": {
    "collapsed": false,
    "pycharm": {
     "is_executing": true
    }
   }
  },
  {
   "cell_type": "markdown",
   "source": [
    "## Setting up the acquisition scheme"
   ],
   "metadata": {
    "collapsed": false
   }
  },
  {
   "cell_type": "code",
   "execution_count": null,
   "outputs": [],
   "source": [
    "from microtool.dmipy import convert_dmipy_scheme2diffusion_scheme\n",
    "\n",
    "from dmipy.data import saved_acquisition_schemes\n",
    "\n",
    "acq_scheme = saved_acquisition_schemes.wu_minn_hcp_acquisition_scheme()\n",
    "acq_wrapped = convert_dmipy_scheme2diffusion_scheme(acq_scheme)"
   ],
   "metadata": {
    "collapsed": false,
    "pycharm": {
     "is_executing": true
    }
   }
  },
  {
   "cell_type": "code",
   "execution_count": null,
   "outputs": [],
   "source": [
    "relaxed_model.jacobian(acq_wrapped)"
   ],
   "metadata": {
    "collapsed": false,
    "pycharm": {
     "is_executing": true
    }
   }
  },
  {
   "cell_type": "markdown",
   "source": [],
   "metadata": {
    "collapsed": false
   }
  },
  {
   "cell_type": "markdown",
   "source": [
    "## Comparing signal output for relaxed and unrelaxed model"
   ],
   "metadata": {
    "collapsed": false
   }
  },
  {
   "cell_type": "code",
   "execution_count": null,
   "outputs": [],
   "source": [
    "# relaxation signal\n",
    "relaxed_model(acq_wrapped)"
   ],
   "metadata": {
    "collapsed": false,
    "pycharm": {
     "is_executing": true
    }
   }
  },
  {
   "cell_type": "code",
   "execution_count": null,
   "outputs": [],
   "source": [
    "# normal signal\n",
    "model(acq_wrapped)"
   ],
   "metadata": {
    "collapsed": false,
    "pycharm": {
     "is_executing": true
    }
   }
  },
  {
   "cell_type": "markdown",
   "source": [
    "## Optimizing the scheme with respect to $ T_2 $."
   ],
   "metadata": {
    "collapsed": false
   }
  },
  {
   "cell_type": "code",
   "execution_count": null,
   "outputs": [],
   "source": [
    "from microtool.optimize import optimize_scheme\n",
    "\n",
    "\n",
    "optimize_scheme(acq_wrapped, relaxed_model, noise_variance=0.02, method='trust-constr')"
   ],
   "metadata": {
    "collapsed": false,
    "pycharm": {
     "is_executing": true
    }
   }
  },
  {
   "cell_type": "code",
   "execution_count": null,
   "outputs": [],
   "source": [],
   "metadata": {
    "collapsed": false,
    "pycharm": {
     "is_executing": true
    }
   }
  }
 ],
 "metadata": {
  "kernelspec": {
   "display_name": "Python 3",
   "language": "python",
   "name": "python3"
  },
  "language_info": {
   "codemirror_mode": {
    "name": "ipython",
    "version": 2
   },
   "file_extension": ".py",
   "mimetype": "text/x-python",
   "name": "python",
   "nbconvert_exporter": "python",
   "pygments_lexer": "ipython2",
   "version": "2.7.6"
  }
 },
 "nbformat": 4,
 "nbformat_minor": 0
}
