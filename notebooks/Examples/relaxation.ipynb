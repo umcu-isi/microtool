{
 "cells": [
  {
   "cell_type": "markdown",
   "source": [
    "# Relaxation effects ($ T_2 $)\n",
    "\n",
    "In this notebook we demonstrate the use of additional $T_2$ relaxation effects applied on top of an existing TissueModel.\n",
    "\n",
    "## Setting up the dmipy model\n",
    "\n",
    "We demonstrate this using a simple model from dmipy"
   ],
   "metadata": {
    "collapsed": false
   }
  },
  {
   "cell_type": "code",
   "execution_count": 8,
   "metadata": {
    "collapsed": true
   },
   "outputs": [
    {
     "name": "stdout",
     "output_type": "stream",
     "text": [
      "Tissue model with 3 scalar parameters:\n",
      "Tissue-parameter                 Value    Scale  Optimize    Fit    Fit Bounds\n",
      "---------------------------  ---------  -------  ----------  -----  ------------------------------------------------\n",
      "model_0_G1Ball_1_lambda_iso    1.7e-09    1e-09  True        True   (1.0000000000000002e-10, 3.0000000000000004e-09)\n",
      "T2_relaxation_0              100          1      True        True   (0.1, 1000.0)\n",
      "S0                             1          1      False       False  (0.0, 2.0)\n"
     ]
    }
   ],
   "source": [
    "from dmipy.core.modeling_framework import MultiCompartmentModel\n",
    "from dmipy.signal_models.gaussian_models import G1Ball\n",
    "from microtool.dmipy import DmipyTissueModel\n",
    "from microtool.tissue_model import RelaxedMultiTissueModel\n",
    "\n",
    "\n",
    "# setting up a simple model\n",
    "simple_ball = G1Ball(lambda_iso=1.7e-9)\n",
    "\n",
    "# This step is unnecessary\n",
    "dmipy_model = MultiCompartmentModel([simple_ball])\n",
    "\n",
    "\n",
    "microtool_model = DmipyTissueModel(dmipy_model)\n",
    "\n",
    "relaxation_time = 100.0\n",
    "model = RelaxedMultiTissueModel([microtool_model],[1.0], [relaxation_time])\n",
    "print(model)"
   ]
  },
  {
   "cell_type": "markdown",
   "source": [
    "## Setting up the acquisition scheme"
   ],
   "metadata": {
    "collapsed": false
   }
  },
  {
   "cell_type": "code",
   "execution_count": null,
   "outputs": [
    {
     "name": "stdout",
     "output_type": "stream",
     "text": [
      "Acquisition scheme with 44 measurements and 6 scalar parameters:\n",
      "  DiffusionBValue [s/mm²] in (0.0, 20000.0)    DiffusionGradientAnglePhi [rad] (fixed)    DiffusionGradientAngleTheta [rad] (fixed)    DiffusionPulseWidth [ms] in (1.0, 100.0)    DiffusionPulseInterval [ms] in (1.0, 1000.0)    EchoTime [ms] in (0.1, 1000.0)\n",
      "-------------------------------------------  -----------------------------------------  -------------------------------------------  ------------------------------------------  ----------------------------------------------  --------------------------------\n",
      "                                          0                                 -1.96142                                       1.98074                                            7                                              12                           36.2367\n",
      "                                          0                                  2.96645                                       0.952638                                           7                                              12                           36.2367\n",
      "                                          0                                  2.07307                                       1.23008                                            7                                              12                           36.2367\n",
      "                                          0                                  1.62697                                       2.54232                                            7                                              12                           36.2367\n",
      "                                          0                                 -1.27481                                       1.10667                                            7                                              12                           36.2367\n",
      "                                          0                                 -0.270954                                      1.62352                                            7                                              12                           36.2367\n",
      "                                          0                                  2.48994                                       1.95269                                            7                                              12                           36.2367\n",
      "                                          0                                  1.34847                                       0.60227                                            7                                              12                           36.2367\n",
      "                                          0                                  1.37824                                       1.69944                                            7                                              12                           36.2367\n",
      "                                          0                                 -2.81808                                       2.61018                                            7                                              12                           36.2367\n",
      "                                          0                                 -2.91948                                       1.73266                                            7                                              12                           36.2367\n",
      "                                          0                                 -0.636474                                      2.68892                                            7                                              12                           36.2367\n",
      "                                          0                                  0.618152                                      1.26883                                            7                                              12                           36.2367\n",
      "                                          0                                 -0.25727                                       0.757764                                           7                                              12                           36.2367\n",
      "                                          0                                 -2.23691                                       1.15731                                            7                                              12                           36.2367\n",
      "                                          0                                 -2.16437                                       0.277348                                           7                                              12                           36.2367\n",
      "                                          0                                 -1.06813                                       1.91179                                            7                                              12                           36.2367\n",
      "                                          0                                  0.472403                                      2.13875                                            7                                              12                           36.2367\n",
      "                                       1216                                  2.60908                                       1.00502                                            7                                              12                           43.2734\n",
      "                                       1216                                 -0.533535                                      2.13766                                            7                                              12                           43.2734\n",
      "                                       3580                                 -1.81652                                       1.06162                                           16                                              27                           49.036\n",
      "                                       3580                                 -1.9319                                        2.45688                                           16                                              27                           49.036\n",
      "                                       3580                                  0.668726                                      2.52006                                           16                                              27                           49.036\n",
      "                                       3580                                 -0.620436                                      1.58204                                           16                                              27                           49.036\n",
      "                                       3580                                  2.43716                                       0.371137                                          16                                              27                           49.036\n",
      "                                       3580                                 -3.12704                                       1.67865                                           16                                              27                           49.036\n",
      "                                       3580                                  1.89356                                       1.71743                                           16                                              27                           49.036\n",
      "                                       3580                                  0.588547                                      1.1227                                            16                                              27                           49.036\n",
      "                                      17370                                  2.31913                                       2.61761                                           19                                              24                           63.7645\n",
      "                                      17370                                 -2.23522                                       2.43556                                           19                                              24                           63.7645\n",
      "                                      17370                                  3.1149                                        1.89504                                           19                                              24                           63.7645\n",
      "                                      17370                                  2.06584                                       0.59898                                           19                                              24                           63.7645\n",
      "                                      17370                                 -3.05697                                       1.04731                                           19                                              24                           63.7645\n",
      "                                      17370                                 -0.394178                                      1.58366                                           19                                              24                           63.7645\n",
      "                                      17370                                  1.37076                                       2.04823                                           19                                              24                           63.7645\n",
      "                                      17370                                 -0.0375754                                     2.62573                                           19                                              24                           63.7645\n",
      "                                      17370                                 -1.22627                                       1.14375                                           19                                              24                           63.7645\n",
      "                                      17370                                  1.16872                                       1.15231                                           19                                              24                           63.7645\n",
      "                                      17370                                  0.449946                                      1.74347                                           19                                              24                           63.7645\n",
      "                                      17370                                 -2.15599                                       1.48279                                           19                                              24                           63.7645\n",
      "                                      17370                                  0.0707619                                     0.717989                                          19                                              24                           63.7645\n",
      "                                      17370                                 -1.21298                                       2.06126                                           19                                              24                           63.7645\n",
      "                                      17370                                  2.21262                                       1.54351                                           19                                              24                           63.7645\n",
      "                                      17370                                 -1.93346                                       0.412575                                          19                                              24                           63.7645\n"
     ]
    }
   ],
   "source": [
    "from microtool.dmipy import convert_dmipy_scheme2diffusion_scheme\n",
    "\n",
    "from dmipy.data import saved_acquisition_schemes\n",
    "from microtool.utils.saved_schemes import alexander2008_optimized_directions\n",
    "\n",
    "\n",
    "acq_scheme = alexander2008_optimized_directions([2,8,16])\n",
    "acq_wrapped = convert_dmipy_scheme2diffusion_scheme(acq_scheme)\n",
    "\n",
    "print(acq_wrapped)"
   ],
   "metadata": {
    "collapsed": false
   }
  },
  {
   "cell_type": "markdown",
   "source": [],
   "metadata": {
    "collapsed": false
   }
  },
  {
   "cell_type": "markdown",
   "source": [
    "## Generating signal"
   ],
   "metadata": {
    "collapsed": false
   }
  },
  {
   "cell_type": "code",
   "execution_count": null,
   "outputs": [
    {
     "data": {
      "text/plain": "array([6.96027114e-01, 6.96027114e-01, 6.96027114e-01, 6.96027114e-01,\n       6.96027114e-01, 6.96027114e-01, 6.96027114e-01, 6.96027114e-01,\n       6.96027114e-01, 6.96027114e-01, 6.96027114e-01, 6.96027114e-01,\n       6.96027114e-01, 6.96027114e-01, 6.96027114e-01, 6.96027114e-01,\n       6.96027114e-01, 6.96027114e-01, 8.20903969e-02, 8.20903969e-02,\n       1.39291019e-03, 1.39291019e-03, 1.39291019e-03, 1.39291019e-03,\n       1.39291019e-03, 1.39291019e-03, 1.39291019e-03, 1.39291019e-03,\n       7.92122882e-14, 7.92122882e-14, 7.92122882e-14, 7.92122882e-14,\n       7.92122882e-14, 7.92122882e-14, 7.92122882e-14, 7.92122882e-14,\n       7.92122882e-14, 7.92122882e-14, 7.92122882e-14, 7.92122882e-14,\n       7.92122882e-14, 7.92122882e-14, 7.92122882e-14, 7.92122882e-14])"
     },
     "execution_count": 3,
     "metadata": {},
     "output_type": "execute_result"
    }
   ],
   "source": [
    "# relaxation signal\n",
    "model(acq_wrapped)"
   ],
   "metadata": {
    "collapsed": false
   }
  },
  {
   "cell_type": "markdown",
   "source": [
    "## Optimizing the scheme with respect to $ T_2 $."
   ],
   "metadata": {
    "collapsed": false
   }
  },
  {
   "cell_type": "code",
   "execution_count": 7,
   "outputs": [
    {
     "name": "stdout",
     "output_type": "stream",
     "text": [
      "differential_evolution step 1: f(x)= 1e+30\n",
      "differential_evolution step 2: f(x)= 1e+30\n",
      "differential_evolution step 3: f(x)= 1e+30\n"
     ]
    },
    {
     "ename": "KeyboardInterrupt",
     "evalue": "",
     "output_type": "error",
     "traceback": [
      "\u001B[1;31m---------------------------------------------------------------------------\u001B[0m",
      "\u001B[1;31mKeyboardInterrupt\u001B[0m                         Traceback (most recent call last)",
      "Input \u001B[1;32mIn [7]\u001B[0m, in \u001B[0;36m<cell line: 3>\u001B[1;34m()\u001B[0m\n\u001B[0;32m      1\u001B[0m \u001B[38;5;28;01mfrom\u001B[39;00m \u001B[38;5;21;01mmicrotool\u001B[39;00m\u001B[38;5;21;01m.\u001B[39;00m\u001B[38;5;21;01moptimize\u001B[39;00m \u001B[38;5;28;01mimport\u001B[39;00m optimize_scheme\n\u001B[1;32m----> 3\u001B[0m scheme, _ \u001B[38;5;241m=\u001B[39m \u001B[43moptimize_scheme\u001B[49m\u001B[43m(\u001B[49m\u001B[43macq_wrapped\u001B[49m\u001B[43m,\u001B[49m\u001B[43m \u001B[49m\u001B[43mmodel\u001B[49m\u001B[43m,\u001B[49m\u001B[43m \u001B[49m\u001B[43mnoise_variance\u001B[49m\u001B[38;5;241;43m=\u001B[39;49m\u001B[38;5;241;43m0.02\u001B[39;49m\u001B[43m,\u001B[49m\u001B[43m \u001B[49m\u001B[43mmethod\u001B[49m\u001B[38;5;241;43m=\u001B[39;49m\u001B[38;5;124;43m'\u001B[39;49m\u001B[38;5;124;43mdifferential_evolution\u001B[39;49m\u001B[38;5;124;43m'\u001B[39;49m\u001B[43m)\u001B[49m\n",
      "File \u001B[1;32m~\\OneDrive - Universiteit Utrecht\\Documents\\Major Research\\Software\\microtool\\microtool\\optimize\\optimize.py:67\u001B[0m, in \u001B[0;36moptimize_scheme\u001B[1;34m(scheme, model, noise_variance, loss, loss_scaling_factor, method, solver_options)\u001B[0m\n\u001B[0;32m     64\u001B[0m     \u001B[38;5;28;01mif\u001B[39;00m constraints \u001B[38;5;129;01mis\u001B[39;00m \u001B[38;5;28;01mNone\u001B[39;00m:\n\u001B[0;32m     65\u001B[0m         constraints \u001B[38;5;241m=\u001B[39m ()\n\u001B[1;32m---> 67\u001B[0m     result \u001B[38;5;241m=\u001B[39m \u001B[43mdifferential_evolution\u001B[49m\u001B[43m(\u001B[49m\u001B[43mscipy_loss\u001B[49m\u001B[43m,\u001B[49m\u001B[43m \u001B[49m\u001B[43mbounds\u001B[49m\u001B[38;5;241;43m=\u001B[39;49m\u001B[43mscipy_bounds\u001B[49m\u001B[43m,\u001B[49m\n\u001B[0;32m     68\u001B[0m \u001B[43m                                    \u001B[49m\u001B[43margs\u001B[49m\u001B[38;5;241;43m=\u001B[39;49m\u001B[43mscipy_loss_args\u001B[49m\u001B[43m,\u001B[49m\n\u001B[0;32m     69\u001B[0m \u001B[43m                                    \u001B[49m\u001B[43mx0\u001B[49m\u001B[38;5;241;43m=\u001B[39;49m\u001B[43mx0\u001B[49m\u001B[43m,\u001B[49m\u001B[43m \u001B[49m\u001B[43mworkers\u001B[49m\u001B[38;5;241;43m=\u001B[39;49m\u001B[38;5;241;43m-\u001B[39;49m\u001B[38;5;241;43m1\u001B[39;49m\u001B[43m,\u001B[49m\u001B[43m \u001B[49m\u001B[43mdisp\u001B[49m\u001B[38;5;241;43m=\u001B[39;49m\u001B[38;5;28;43;01mTrue\u001B[39;49;00m\u001B[43m,\u001B[49m\u001B[43m \u001B[49m\u001B[43mupdating\u001B[49m\u001B[38;5;241;43m=\u001B[39;49m\u001B[38;5;124;43m'\u001B[39;49m\u001B[38;5;124;43mdeferred\u001B[39;49m\u001B[38;5;124;43m'\u001B[39;49m\u001B[43m,\u001B[49m\u001B[43m \u001B[49m\u001B[43mconstraints\u001B[49m\u001B[38;5;241;43m=\u001B[39;49m\u001B[43mconstraints\u001B[49m\u001B[43m,\u001B[49m\n\u001B[0;32m     70\u001B[0m \u001B[43m                                    \u001B[49m\u001B[43mpolish\u001B[49m\u001B[38;5;241;43m=\u001B[39;49m\u001B[38;5;28;43;01mTrue\u001B[39;49;00m\u001B[43m,\u001B[49m\u001B[43m \u001B[49m\u001B[38;5;241;43m*\u001B[39;49m\u001B[38;5;241;43m*\u001B[39;49m\u001B[43msolver_options\u001B[49m\u001B[43m)\u001B[49m\n\u001B[0;32m     71\u001B[0m \u001B[38;5;28;01melse\u001B[39;00m:\n\u001B[0;32m     72\u001B[0m     result \u001B[38;5;241m=\u001B[39m minimize(scipy_loss, x0, args\u001B[38;5;241m=\u001B[39mscipy_loss_args,\n\u001B[0;32m     73\u001B[0m                       method\u001B[38;5;241m=\u001B[39mmethod, bounds\u001B[38;5;241m=\u001B[39mscipy_bounds, constraints\u001B[38;5;241m=\u001B[39mconstraints,\n\u001B[0;32m     74\u001B[0m                       options\u001B[38;5;241m=\u001B[39msolver_options)\n",
      "File \u001B[1;32m~\\miniconda3\\envs\\devmicro\\lib\\site-packages\\scipy\\optimize\\_differentialevolution.py:392\u001B[0m, in \u001B[0;36mdifferential_evolution\u001B[1;34m(func, bounds, args, strategy, maxiter, popsize, tol, mutation, recombination, seed, callback, disp, polish, init, atol, updating, workers, constraints, x0, integrality, vectorized)\u001B[0m\n\u001B[0;32m    375\u001B[0m \u001B[38;5;66;03m# using a context manager means that any created Pool objects are\u001B[39;00m\n\u001B[0;32m    376\u001B[0m \u001B[38;5;66;03m# cleared up.\u001B[39;00m\n\u001B[0;32m    377\u001B[0m \u001B[38;5;28;01mwith\u001B[39;00m DifferentialEvolutionSolver(func, bounds, args\u001B[38;5;241m=\u001B[39margs,\n\u001B[0;32m    378\u001B[0m                                  strategy\u001B[38;5;241m=\u001B[39mstrategy,\n\u001B[0;32m    379\u001B[0m                                  maxiter\u001B[38;5;241m=\u001B[39mmaxiter,\n\u001B[1;32m   (...)\u001B[0m\n\u001B[0;32m    390\u001B[0m                                  integrality\u001B[38;5;241m=\u001B[39mintegrality,\n\u001B[0;32m    391\u001B[0m                                  vectorized\u001B[38;5;241m=\u001B[39mvectorized) \u001B[38;5;28;01mas\u001B[39;00m solver:\n\u001B[1;32m--> 392\u001B[0m     ret \u001B[38;5;241m=\u001B[39m \u001B[43msolver\u001B[49m\u001B[38;5;241;43m.\u001B[39;49m\u001B[43msolve\u001B[49m\u001B[43m(\u001B[49m\u001B[43m)\u001B[49m\n\u001B[0;32m    394\u001B[0m \u001B[38;5;28;01mreturn\u001B[39;00m ret\n",
      "File \u001B[1;32m~\\miniconda3\\envs\\devmicro\\lib\\site-packages\\scipy\\optimize\\_differentialevolution.py:993\u001B[0m, in \u001B[0;36mDifferentialEvolutionSolver.solve\u001B[1;34m(self)\u001B[0m\n\u001B[0;32m    990\u001B[0m \u001B[38;5;28;01mfor\u001B[39;00m nit \u001B[38;5;129;01min\u001B[39;00m \u001B[38;5;28mrange\u001B[39m(\u001B[38;5;241m1\u001B[39m, \u001B[38;5;28mself\u001B[39m\u001B[38;5;241m.\u001B[39mmaxiter \u001B[38;5;241m+\u001B[39m \u001B[38;5;241m1\u001B[39m):\n\u001B[0;32m    991\u001B[0m     \u001B[38;5;66;03m# evolve the population by a generation\u001B[39;00m\n\u001B[0;32m    992\u001B[0m     \u001B[38;5;28;01mtry\u001B[39;00m:\n\u001B[1;32m--> 993\u001B[0m         \u001B[38;5;28;43mnext\u001B[39;49m\u001B[43m(\u001B[49m\u001B[38;5;28;43mself\u001B[39;49m\u001B[43m)\u001B[49m\n\u001B[0;32m    994\u001B[0m     \u001B[38;5;28;01mexcept\u001B[39;00m \u001B[38;5;167;01mStopIteration\u001B[39;00m:\n\u001B[0;32m    995\u001B[0m         warning_flag \u001B[38;5;241m=\u001B[39m \u001B[38;5;28;01mTrue\u001B[39;00m\n",
      "File \u001B[1;32m~\\miniconda3\\envs\\devmicro\\lib\\site-packages\\scipy\\optimize\\_differentialevolution.py:1415\u001B[0m, in \u001B[0;36mDifferentialEvolutionSolver.__next__\u001B[1;34m(self)\u001B[0m\n\u001B[0;32m   1411\u001B[0m \u001B[38;5;28mself\u001B[39m\u001B[38;5;241m.\u001B[39m_ensure_constraint(trial_pop)\n\u001B[0;32m   1413\u001B[0m \u001B[38;5;66;03m# determine the energies of the objective function, but only for\u001B[39;00m\n\u001B[0;32m   1414\u001B[0m \u001B[38;5;66;03m# feasible trials\u001B[39;00m\n\u001B[1;32m-> 1415\u001B[0m feasible, cv \u001B[38;5;241m=\u001B[39m \u001B[38;5;28;43mself\u001B[39;49m\u001B[38;5;241;43m.\u001B[39;49m\u001B[43m_calculate_population_feasibilities\u001B[49m\u001B[43m(\u001B[49m\u001B[43mtrial_pop\u001B[49m\u001B[43m)\u001B[49m\n\u001B[0;32m   1416\u001B[0m trial_energies \u001B[38;5;241m=\u001B[39m np\u001B[38;5;241m.\u001B[39mfull(\u001B[38;5;28mself\u001B[39m\u001B[38;5;241m.\u001B[39mnum_population_members, np\u001B[38;5;241m.\u001B[39minf)\n\u001B[0;32m   1418\u001B[0m \u001B[38;5;66;03m# only calculate for feasible entries\u001B[39;00m\n",
      "File \u001B[1;32m~\\miniconda3\\envs\\devmicro\\lib\\site-packages\\scipy\\optimize\\_differentialevolution.py:1256\u001B[0m, in \u001B[0;36mDifferentialEvolutionSolver._calculate_population_feasibilities\u001B[1;34m(self, population)\u001B[0m\n\u001B[0;32m   1251\u001B[0m     constraint_violation \u001B[38;5;241m=\u001B[39m np\u001B[38;5;241m.\u001B[39marray(\n\u001B[0;32m   1252\u001B[0m         \u001B[38;5;28mself\u001B[39m\u001B[38;5;241m.\u001B[39m_constraint_violation_fn(parameters_pop)\n\u001B[0;32m   1253\u001B[0m     )\n\u001B[0;32m   1254\u001B[0m \u001B[38;5;28;01melse\u001B[39;00m:\n\u001B[0;32m   1255\u001B[0m     \u001B[38;5;66;03m# (S, 1, M)\u001B[39;00m\n\u001B[1;32m-> 1256\u001B[0m     constraint_violation \u001B[38;5;241m=\u001B[39m np\u001B[38;5;241m.\u001B[39marray([\u001B[38;5;28mself\u001B[39m\u001B[38;5;241m.\u001B[39m_constraint_violation_fn(x)\n\u001B[0;32m   1257\u001B[0m                                      \u001B[38;5;28;01mfor\u001B[39;00m x \u001B[38;5;129;01min\u001B[39;00m parameters_pop])\n\u001B[0;32m   1258\u001B[0m     \u001B[38;5;66;03m# if you use the list comprehension in the line above it will\u001B[39;00m\n\u001B[0;32m   1259\u001B[0m     \u001B[38;5;66;03m# create an array of shape (S, 1, M), because each iteration\u001B[39;00m\n\u001B[0;32m   1260\u001B[0m     \u001B[38;5;66;03m# generates an array of (1, M). In comparison the vectorized\u001B[39;00m\n\u001B[0;32m   1261\u001B[0m     \u001B[38;5;66;03m# version returns (S, M). It's therefore necessary to remove axis 1\u001B[39;00m\n\u001B[0;32m   1262\u001B[0m     constraint_violation \u001B[38;5;241m=\u001B[39m constraint_violation[:, \u001B[38;5;241m0\u001B[39m]\n",
      "File \u001B[1;32m~\\miniconda3\\envs\\devmicro\\lib\\site-packages\\scipy\\optimize\\_differentialevolution.py:1256\u001B[0m, in \u001B[0;36m<listcomp>\u001B[1;34m(.0)\u001B[0m\n\u001B[0;32m   1251\u001B[0m     constraint_violation \u001B[38;5;241m=\u001B[39m np\u001B[38;5;241m.\u001B[39marray(\n\u001B[0;32m   1252\u001B[0m         \u001B[38;5;28mself\u001B[39m\u001B[38;5;241m.\u001B[39m_constraint_violation_fn(parameters_pop)\n\u001B[0;32m   1253\u001B[0m     )\n\u001B[0;32m   1254\u001B[0m \u001B[38;5;28;01melse\u001B[39;00m:\n\u001B[0;32m   1255\u001B[0m     \u001B[38;5;66;03m# (S, 1, M)\u001B[39;00m\n\u001B[1;32m-> 1256\u001B[0m     constraint_violation \u001B[38;5;241m=\u001B[39m np\u001B[38;5;241m.\u001B[39marray([\u001B[38;5;28;43mself\u001B[39;49m\u001B[38;5;241;43m.\u001B[39;49m\u001B[43m_constraint_violation_fn\u001B[49m\u001B[43m(\u001B[49m\u001B[43mx\u001B[49m\u001B[43m)\u001B[49m\n\u001B[0;32m   1257\u001B[0m                                      \u001B[38;5;28;01mfor\u001B[39;00m x \u001B[38;5;129;01min\u001B[39;00m parameters_pop])\n\u001B[0;32m   1258\u001B[0m     \u001B[38;5;66;03m# if you use the list comprehension in the line above it will\u001B[39;00m\n\u001B[0;32m   1259\u001B[0m     \u001B[38;5;66;03m# create an array of shape (S, 1, M), because each iteration\u001B[39;00m\n\u001B[0;32m   1260\u001B[0m     \u001B[38;5;66;03m# generates an array of (1, M). In comparison the vectorized\u001B[39;00m\n\u001B[0;32m   1261\u001B[0m     \u001B[38;5;66;03m# version returns (S, M). It's therefore necessary to remove axis 1\u001B[39;00m\n\u001B[0;32m   1262\u001B[0m     constraint_violation \u001B[38;5;241m=\u001B[39m constraint_violation[:, \u001B[38;5;241m0\u001B[39m]\n",
      "File \u001B[1;32m~\\miniconda3\\envs\\devmicro\\lib\\site-packages\\scipy\\optimize\\_differentialevolution.py:1194\u001B[0m, in \u001B[0;36mDifferentialEvolutionSolver._constraint_violation_fn\u001B[1;34m(self, x)\u001B[0m\n\u001B[0;32m   1187\u001B[0m offset \u001B[38;5;241m=\u001B[39m \u001B[38;5;241m0\u001B[39m\n\u001B[0;32m   1188\u001B[0m \u001B[38;5;28;01mfor\u001B[39;00m con \u001B[38;5;129;01min\u001B[39;00m \u001B[38;5;28mself\u001B[39m\u001B[38;5;241m.\u001B[39m_wrapped_constraints:\n\u001B[0;32m   1189\u001B[0m     \u001B[38;5;66;03m# the input/output of the (vectorized) constraint function is\u001B[39;00m\n\u001B[0;32m   1190\u001B[0m     \u001B[38;5;66;03m# {(N, S), (N,)} --> (M, S)\u001B[39;00m\n\u001B[0;32m   1191\u001B[0m     \u001B[38;5;66;03m# The input to _constraint_violation_fn is (S, N) or (N,), so\u001B[39;00m\n\u001B[0;32m   1192\u001B[0m     \u001B[38;5;66;03m# transpose to pass it to the constraint. The output is transposed\u001B[39;00m\n\u001B[0;32m   1193\u001B[0m     \u001B[38;5;66;03m# from (M, S) to (S, M) for further use.\u001B[39;00m\n\u001B[1;32m-> 1194\u001B[0m     c \u001B[38;5;241m=\u001B[39m \u001B[43mcon\u001B[49m\u001B[38;5;241;43m.\u001B[39;49m\u001B[43mviolation\u001B[49m\u001B[43m(\u001B[49m\u001B[43mx\u001B[49m\u001B[38;5;241;43m.\u001B[39;49m\u001B[43mT\u001B[49m\u001B[43m)\u001B[49m\u001B[38;5;241m.\u001B[39mT\n\u001B[0;32m   1196\u001B[0m     \u001B[38;5;66;03m# The shape of c should be (M,), (1, M), or (S, M). Check for\u001B[39;00m\n\u001B[0;32m   1197\u001B[0m     \u001B[38;5;66;03m# those shapes, as an incorrect shape indicates that the\u001B[39;00m\n\u001B[0;32m   1198\u001B[0m     \u001B[38;5;66;03m# user constraint function didn't return the right thing, and\u001B[39;00m\n\u001B[0;32m   1199\u001B[0m     \u001B[38;5;66;03m# the reshape operation will fail. Intercept the wrong shape\u001B[39;00m\n\u001B[0;32m   1200\u001B[0m     \u001B[38;5;66;03m# to give a reasonable error message. I'm not sure what failure\u001B[39;00m\n\u001B[0;32m   1201\u001B[0m     \u001B[38;5;66;03m# modes an inventive user will come up with.\u001B[39;00m\n\u001B[0;32m   1202\u001B[0m     \u001B[38;5;28;01mif\u001B[39;00m c\u001B[38;5;241m.\u001B[39mshape[\u001B[38;5;241m-\u001B[39m\u001B[38;5;241m1\u001B[39m] \u001B[38;5;241m!=\u001B[39m con\u001B[38;5;241m.\u001B[39mnum_constr \u001B[38;5;129;01mor\u001B[39;00m (S \u001B[38;5;241m>\u001B[39m \u001B[38;5;241m1\u001B[39m \u001B[38;5;129;01mand\u001B[39;00m c\u001B[38;5;241m.\u001B[39mshape[\u001B[38;5;241m0\u001B[39m] \u001B[38;5;241m!=\u001B[39m S):\n",
      "File \u001B[1;32m~\\miniconda3\\envs\\devmicro\\lib\\site-packages\\scipy\\optimize\\_differentialevolution.py:1644\u001B[0m, in \u001B[0;36m_ConstraintWrapper.violation\u001B[1;34m(self, x)\u001B[0m\n\u001B[0;32m   1628\u001B[0m \u001B[38;5;124;03m\"\"\"How much the constraint is exceeded by.\u001B[39;00m\n\u001B[0;32m   1629\u001B[0m \n\u001B[0;32m   1630\u001B[0m \u001B[38;5;124;03mParameters\u001B[39;00m\n\u001B[1;32m   (...)\u001B[0m\n\u001B[0;32m   1641\u001B[0m \u001B[38;5;124;03m    Has shape (M, S) where M is the number of constraint components.\u001B[39;00m\n\u001B[0;32m   1642\u001B[0m \u001B[38;5;124;03m\"\"\"\u001B[39;00m\n\u001B[0;32m   1643\u001B[0m \u001B[38;5;66;03m# expect ev to have shape (num_constr, S) or (num_constr,)\u001B[39;00m\n\u001B[1;32m-> 1644\u001B[0m ev \u001B[38;5;241m=\u001B[39m \u001B[38;5;28;43mself\u001B[39;49m\u001B[38;5;241;43m.\u001B[39;49m\u001B[43mfun\u001B[49m\u001B[43m(\u001B[49m\u001B[43mnp\u001B[49m\u001B[38;5;241;43m.\u001B[39;49m\u001B[43masarray\u001B[49m\u001B[43m(\u001B[49m\u001B[43mx\u001B[49m\u001B[43m)\u001B[49m\u001B[43m)\u001B[49m\n\u001B[0;32m   1646\u001B[0m \u001B[38;5;28;01mtry\u001B[39;00m:\n\u001B[0;32m   1647\u001B[0m     excess_lb \u001B[38;5;241m=\u001B[39m np\u001B[38;5;241m.\u001B[39mmaximum(\u001B[38;5;28mself\u001B[39m\u001B[38;5;241m.\u001B[39mbounds[\u001B[38;5;241m0\u001B[39m] \u001B[38;5;241m-\u001B[39m ev\u001B[38;5;241m.\u001B[39mT, \u001B[38;5;241m0\u001B[39m)\n",
      "File \u001B[1;32m~\\miniconda3\\envs\\devmicro\\lib\\site-packages\\scipy\\optimize\\_differentialevolution.py:1591\u001B[0m, in \u001B[0;36m_ConstraintWrapper.__init__.<locals>.fun\u001B[1;34m(x)\u001B[0m\n\u001B[0;32m   1589\u001B[0m \u001B[38;5;28;01mdef\u001B[39;00m \u001B[38;5;21mfun\u001B[39m(x):\n\u001B[0;32m   1590\u001B[0m     x \u001B[38;5;241m=\u001B[39m np\u001B[38;5;241m.\u001B[39masarray(x)\n\u001B[1;32m-> 1591\u001B[0m     \u001B[38;5;28;01mreturn\u001B[39;00m np\u001B[38;5;241m.\u001B[39matleast_1d(\u001B[43mconstraint\u001B[49m\u001B[38;5;241;43m.\u001B[39;49m\u001B[43mfun\u001B[49m\u001B[43m(\u001B[49m\u001B[43mx\u001B[49m\u001B[43m)\u001B[49m)\n",
      "File \u001B[1;32m~\\OneDrive - Universiteit Utrecht\\Documents\\Major Research\\Software\\microtool\\microtool\\acquisition_scheme.py:511\u001B[0m, in \u001B[0;36mDiffusionAcquisitionScheme.constraints.<locals>.echo_constraint_fun\u001B[1;34m(x)\u001B[0m\n\u001B[0;32m    509\u001B[0m b \u001B[38;5;241m=\u001B[39m \u001B[38;5;28mself\u001B[39m\u001B[38;5;241m.\u001B[39m_copy_and_update_parameter(\u001B[38;5;124m'\u001B[39m\u001B[38;5;124mDiffusionBValue\u001B[39m\u001B[38;5;124m'\u001B[39m, x)\n\u001B[0;32m    510\u001B[0m TE \u001B[38;5;241m=\u001B[39m \u001B[38;5;28mself\u001B[39m\u001B[38;5;241m.\u001B[39m_copy_and_update_parameter(\u001B[38;5;124m'\u001B[39m\u001B[38;5;124mEchoTime\u001B[39m\u001B[38;5;124m'\u001B[39m, x)\n\u001B[1;32m--> 511\u001B[0m TEmin \u001B[38;5;241m=\u001B[39m \u001B[43mminimal_echo_time\u001B[49m\u001B[43m(\u001B[49m\u001B[43mb\u001B[49m\u001B[43m,\u001B[49m\u001B[43m \u001B[49m\u001B[38;5;28;43mself\u001B[39;49m\u001B[38;5;241;43m.\u001B[39;49m\u001B[43mscan_parameters\u001B[49m\u001B[43m)\u001B[49m\n\u001B[0;32m    512\u001B[0m \u001B[38;5;28;01mreturn\u001B[39;00m TE \u001B[38;5;241m-\u001B[39m TEmin\n",
      "File \u001B[1;32m~\\OneDrive - Universiteit Utrecht\\Documents\\Major Research\\Software\\microtool\\microtool\\utils\\solve_echo_time.py:38\u001B[0m, in \u001B[0;36mminimal_echo_time\u001B[1;34m(b, scanner_parameters)\u001B[0m\n\u001B[0;32m     36\u001B[0m delta_max \u001B[38;5;241m=\u001B[39m compute_delta_max(b, scanner_parameters)\n\u001B[0;32m     37\u001B[0m domain \u001B[38;5;241m=\u001B[39m np\u001B[38;5;241m.\u001B[39mlinspace(\u001B[38;5;241m1e-6\u001B[39m, delta_max, num\u001B[38;5;241m=\u001B[39m\u001B[38;5;241m1000\u001B[39m)\n\u001B[1;32m---> 38\u001B[0m TE_min \u001B[38;5;241m=\u001B[39m np\u001B[38;5;241m.\u001B[39mmin(\u001B[43mecho_time\u001B[49m\u001B[43m(\u001B[49m\u001B[43mdomain\u001B[49m\u001B[43m,\u001B[49m\u001B[43m \u001B[49m\u001B[43mb\u001B[49m\u001B[43m,\u001B[49m\u001B[43m \u001B[49m\u001B[43mscanner_parameters\u001B[49m\u001B[43m)\u001B[49m, axis\u001B[38;5;241m=\u001B[39m\u001B[38;5;241m0\u001B[39m)\n\u001B[0;32m     39\u001B[0m \u001B[38;5;28;01mreturn\u001B[39;00m TE_min\n",
      "File \u001B[1;32m~\\OneDrive - Universiteit Utrecht\\Documents\\Major Research\\Software\\microtool\\microtool\\utils\\solve_echo_time.py:50\u001B[0m, in \u001B[0;36mecho_time\u001B[1;34m(delta, b, scanner_parameters)\u001B[0m\n\u001B[0;32m     48\u001B[0m \u001B[38;5;66;03m# surrogate parameter for readability\u001B[39;00m\n\u001B[0;32m     49\u001B[0m B \u001B[38;5;241m=\u001B[39m b \u001B[38;5;241m/\u001B[39m (GAMMA \u001B[38;5;241m*\u001B[39m\u001B[38;5;241m*\u001B[39m \u001B[38;5;241m2\u001B[39m \u001B[38;5;241m*\u001B[39m G_max \u001B[38;5;241m*\u001B[39m\u001B[38;5;241m*\u001B[39m \u001B[38;5;241m2\u001B[39m)\n\u001B[1;32m---> 50\u001B[0m Delta \u001B[38;5;241m=\u001B[39m (B \u001B[38;5;241m-\u001B[39m t_rise \u001B[38;5;241m/\u001B[39m \u001B[38;5;241m30\u001B[39m) \u001B[38;5;241m*\u001B[39m \u001B[43mdelta\u001B[49m\u001B[43m \u001B[49m\u001B[38;5;241;43m*\u001B[39;49m\u001B[38;5;241;43m*\u001B[39;49m\u001B[43m \u001B[49m\u001B[43m(\u001B[49m\u001B[38;5;241;43m-\u001B[39;49m\u001B[38;5;241;43m2\u001B[39;49m\u001B[43m)\u001B[49m \u001B[38;5;241m+\u001B[39m (t_rise \u001B[38;5;241m/\u001B[39m \u001B[38;5;241m6\u001B[39m) \u001B[38;5;241m*\u001B[39m delta \u001B[38;5;241m*\u001B[39m\u001B[38;5;241m*\u001B[39m (\u001B[38;5;241m-\u001B[39m\u001B[38;5;241m1\u001B[39m) \u001B[38;5;241m+\u001B[39m delta \u001B[38;5;241m/\u001B[39m \u001B[38;5;241m3\u001B[39m\n\u001B[0;32m     51\u001B[0m \u001B[38;5;28;01mreturn\u001B[39;00m \u001B[38;5;241m0.5\u001B[39m \u001B[38;5;241m*\u001B[39m t90 \u001B[38;5;241m+\u001B[39m Delta \u001B[38;5;241m+\u001B[39m delta \u001B[38;5;241m+\u001B[39m t_rise \u001B[38;5;241m+\u001B[39m t_half\n",
      "\u001B[1;31mKeyboardInterrupt\u001B[0m: "
     ]
    }
   ],
   "source": [
    "from microtool.optimize import optimize_scheme\n",
    "\n",
    "scheme, _ = optimize_scheme(acq_wrapped, model, noise_variance=0.02, method='differential_evolution')"
   ],
   "metadata": {
    "collapsed": false
   }
  },
  {
   "cell_type": "markdown",
   "source": [
    "## Validation of scheme optimization through Monte Carlo simulations"
   ],
   "metadata": {
    "collapsed": false
   }
  },
  {
   "cell_type": "code",
   "execution_count": null,
   "outputs": [],
   "source": [
    "from microtool.monte_carlo.simulation import MonteCarloSimulation\n",
    "from scipy import stats\n",
    "\n",
    "# loc is mean and scale is standard deviation\n",
    "noise_distribution = stats.norm(loc=0, scale=0.02)\n",
    "\n",
    "simulation = MonteCarloSimulation(scheme,model,noise_distribution,n_sim=100)\n",
    "\n",
    "simulation.run()\n",
    "simulation.save"
   ],
   "metadata": {
    "collapsed": false
   }
  },
  {
   "cell_type": "code",
   "execution_count": null,
   "outputs": [],
   "source": [],
   "metadata": {
    "collapsed": false
   }
  }
 ],
 "metadata": {
  "kernelspec": {
   "display_name": "Python 3",
   "language": "python",
   "name": "python3"
  },
  "language_info": {
   "codemirror_mode": {
    "name": "ipython",
    "version": 2
   },
   "file_extension": ".py",
   "mimetype": "text/x-python",
   "name": "python",
   "nbconvert_exporter": "python",
   "pygments_lexer": "ipython2",
   "version": "2.7.6"
  }
 },
 "nbformat": 4,
 "nbformat_minor": 0
}
