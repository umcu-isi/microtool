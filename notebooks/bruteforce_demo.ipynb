{
 "cells": [
  {
   "cell_type": "code",
   "execution_count": null,
   "id": "1c2bc0bd",
   "metadata": {},
   "outputs": [],
   "source": [
    "import matplotlib.pyplot as plt\n",
    "import numpy as np\n",
    "import microtool as mt \n",
    "\n",
    "%matplotlib widget"
   ]
  },
  {
   "cell_type": "markdown",
   "id": "81edb0d8",
   "metadata": {},
   "source": [
    "# Inversion recovery"
   ]
  },
  {
   "cell_type": "markdown",
   "id": "0e671eac",
   "metadata": {},
   "source": [
    "## 1. Create a tissue model specifying a T1 and T2"
   ]
  },
  {
   "cell_type": "code",
   "execution_count": null,
   "id": "c1f5dbad",
   "metadata": {},
   "outputs": [],
   "source": [
    "relaxation_model = mt.tissue_model.RelaxationTissueModel(t1=900, t2=90)\n",
    "print(relaxation_model)"
   ]
  },
  {
   "cell_type": "markdown",
   "id": "fc282338",
   "metadata": {},
   "source": [
    "## 2. Create an initial inversion-recovery acquisition scheme\n",
    "Initial TR = 500 ms, initial TE = 10 ms, initial TI = {50, ..., 400} ms"
   ]
  },
  {
   "cell_type": "code",
   "execution_count": null,
   "id": "bb1c948c",
   "metadata": {},
   "outputs": [],
   "source": [
    "tr = np.repeat(500,8)\n",
    "te = np.array([10, 10, 10, 10, 20, 20, 20, 20])\n",
    "ti = np.array([50, 100, 150, 200, 250, 300, 350, 400])\n",
    "bounds = [(0,1000),(0,100),(0,1000)]\n",
    "\n",
    "ir_scheme = mt.acquisition_scheme.InversionRecoveryAcquisitionScheme(tr, te, ti,bounds=bounds)\n",
    "print(ir_scheme)"
   ]
  },
  {
   "cell_type": "code",
   "execution_count": null,
   "id": "9b4f9c4a",
   "metadata": {},
   "outputs": [],
   "source": [
    "plt.figure(figsize=(6, 4))\n",
    "plt.plot(relaxation_model(ir_scheme), '.')\n",
    "plt.xlabel('Measurement')\n",
    "plt.ylabel('Signal attenuation');\n"
   ]
  },
  {
   "cell_type": "markdown",
   "id": "be4c9f24",
   "metadata": {},
   "source": [
    "## 3. Optimize the acquisition scheme"
   ]
  },
  {
   "cell_type": "code",
   "execution_count": null,
   "id": "b275a4f1",
   "metadata": {},
   "outputs": [],
   "source": [
    "noise_variance = 0.1\n",
    "relaxation_model.optimize(ir_scheme, noise_variance)"
   ]
  },
  {
   "cell_type": "code",
   "execution_count": null,
   "id": "18484096",
   "metadata": {},
   "outputs": [],
   "source": [
    "print(ir_scheme)\n",
    "plt.figure()\n",
    "plt.plot(relaxation_model(ir_scheme), '.')\n",
    "plt.xlabel('Measurement')\n",
    "plt.ylabel('Signal attenuation');\n"
   ]
  },
  {
   "cell_type": "markdown",
   "id": "bc0b6e80",
   "metadata": {},
   "source": [
    "# Custom bruteforce optimizer"
   ]
  },
  {
   "cell_type": "code",
   "execution_count": null,
   "id": "23c8aed6",
   "metadata": {},
   "outputs": [],
   "source": [
    "# Minimal working example for use with brute_force method.\n",
    "tr = np.repeat(500,2)\n",
    "te = np.array([10,60])\n",
    "ti = np.array([50,30])\n",
    "ir_scheme = mt.acquisition_scheme.InversionRecoveryAcquisitionScheme(tr, te, ti)\n",
    "print(ir_scheme)\n",
    "\n",
    "# Copying ir_scheme to compare optimization methods\n",
    "scheme_brute = ir_scheme\n",
    "scheme_default = ir_scheme"
   ]
  },
  {
   "cell_type": "code",
   "execution_count": null,
   "id": "f5a15ccd",
   "metadata": {},
   "outputs": [],
   "source": [
    "noise_variance = 0.1\n",
    "relaxation_model.optimize(scheme_brute, noise_variance,method=mt.optimize.brute_force)\n",
    "relaxation_model.optimize(scheme_default,noise_variance)"
   ]
  },
  {
   "cell_type": "code",
   "execution_count": null,
   "id": "636bb245",
   "metadata": {},
   "outputs": [],
   "source": [
    "print(\"Brute Force scheme:\\n\",scheme_brute)\n",
    "print(\"Default optimizer:\\n\", scheme_default)\n",
    "plt.figure()\n",
    "plt.plot(relaxation_model(scheme_brute), '.',label = 'Brute Force')\n",
    "plt.plot(relaxation_model(scheme_default),'.',label = \"Default optimizer\")\n",
    "plt.xlabel('Measurement')\n",
    "plt.ylabel('Signal attenuation')\n",
    "plt.legend()"
   ]
  },
  {
   "cell_type": "markdown",
   "id": "32d442e1",
   "metadata": {},
   "source": [
    "# dmpyi diffusion model"
   ]
  },
  {
   "cell_type": "code",
   "execution_count": null,
   "id": "d3586e4c",
   "metadata": {},
   "outputs": [],
   "source": [
    "from dmipy.signal_models.cylinder_models import C1Stick\n",
    "from dmipy.signal_models.gaussian_models import G1Ball\n",
    "from dmipy.core.modeling_framework import MultiCompartmentModel\n",
    "\n",
    "import microtool.dmipy"
   ]
  },
  {
   "cell_type": "markdown",
   "id": "d73e7670",
   "metadata": {},
   "source": [
    "## 1. Create a 'stick' diffusion model"
   ]
  },
  {
   "cell_type": "code",
   "execution_count": null,
   "id": "cb11e8d3",
   "metadata": {},
   "outputs": [],
   "source": [
    "dmipy_model = MultiCompartmentModel(models=[\n",
    "    C1Stick(\n",
    "        mu=[1, 1],  # Orientation in angles.\n",
    "        lambda_par=0.001 * 1e-6  # Parallel diffusivity in m²/s.\n",
    "    )\n",
    "])"
   ]
  },
  {
   "cell_type": "markdown",
   "id": "643536b7",
   "metadata": {},
   "source": [
    "## 2. Add a diffusion model to the tissue"
   ]
  },
  {
   "cell_type": "code",
   "execution_count": null,
   "id": "64c0954c",
   "metadata": {},
   "outputs": [],
   "source": [
    "diffusion_model = mt.dmipy.DmipyTissueModel(dmipy_model)\n",
    "diffusion_model"
   ]
  },
  {
   "cell_type": "markdown",
   "id": "cc1a995f",
   "metadata": {},
   "source": [
    "## 3. Create an initial diffusion acquisition scheme"
   ]
  },
  {
   "cell_type": "code",
   "execution_count": null,
   "id": "7da2ecbc",
   "metadata": {},
   "outputs": [],
   "source": [
    "b_values = np.array([0, 1000, 2000, 3000])  # s/mm²\n",
    "b_vectors = np.array([[0, 1, 0], [1, 0, 0], [0, 1, 0], [0, 0, 1]])\n",
    "pulse_widths = np.full(b_values.shape, 10)  # ms\n",
    "pulse_intervals = np.full(b_values.shape, 30)  # ms\n",
    "\n",
    "diffusion_scheme = mt.acquisition_scheme.DiffusionAcquisitionScheme(b_values, b_vectors, pulse_widths, pulse_intervals)\n",
    "print(diffusion_scheme)"
   ]
  },
  {
   "cell_type": "code",
   "execution_count": null,
   "id": "6f771e5b",
   "metadata": {},
   "outputs": [],
   "source": [
    "plt.figure(figsize=(6, 4))\n",
    "plt.plot(diffusion_model(diffusion_scheme), '.')\n",
    "plt.xlabel('Measurement')\n",
    "plt.ylabel('Signal attenuation');\n",
    "print(diffusion_scheme.get_free_parameters())"
   ]
  },
  {
   "cell_type": "markdown",
   "id": "3a528e55",
   "metadata": {},
   "source": [
    "## 5. Calculate the Cramer-Rao lower bound loss"
   ]
  },
  {
   "cell_type": "code",
   "execution_count": null,
   "id": "b0be58ee",
   "metadata": {},
   "outputs": [],
   "source": [
    "jacobian = diffusion_model.jacobian(diffusion_scheme)  # Jacobian of the signal with respect to the relevant tissue parameters.\n",
    "scales = [p.scale for p in diffusion_model.values()]  # Tissue parameter scales.\n",
    "include = [p.optimize for p in diffusion_model.values()]  # Include tissue parameter in optimization?\n",
    "noise_variance = 0.1\n",
    "mt.optimize.crlb_loss(jacobian, scales, include, noise_variance)"
   ]
  },
  {
   "cell_type": "markdown",
   "id": "9a20e3b2",
   "metadata": {},
   "source": [
    "## 6. Optimize the acquisition scheme"
   ]
  },
  {
   "cell_type": "code",
   "execution_count": null,
   "id": "c09f06a7",
   "metadata": {},
   "outputs": [],
   "source": [
    "diffusion_model.optimize(diffusion_scheme, noise_variance)"
   ]
  },
  {
   "cell_type": "code",
   "execution_count": null,
   "id": "87b1dce0",
   "metadata": {},
   "outputs": [],
   "source": [
    "print(diffusion_scheme)\n",
    "plt.figure(figsize=(6, 4))\n",
    "plt.plot(diffusion_model(diffusion_scheme), '.')\n",
    "plt.xlabel('Measurement')\n",
    "plt.ylabel('Signal attenuation')"
   ]
  },
  {
   "cell_type": "markdown",
   "id": "09c12497",
   "metadata": {},
   "source": [
    "## 7. Calculate the Cramer-Rao lower bound loss again\n",
    "It should be lower after optimizing the acquisition."
   ]
  },
  {
   "cell_type": "code",
   "execution_count": null,
   "id": "3783aaac",
   "metadata": {},
   "outputs": [],
   "source": [
    "jacobian = diffusion_model.jacobian(diffusion_scheme)  # Jacobian of the signal with respect to the relevant tissue parameters.\n",
    "scales = [p.scale for p in diffusion_model.values()]  # Tissue parameter scales.\n",
    "include = [p.optimize for p in diffusion_model.values()]  # Include tissue parameter in optimization?\n",
    "noise_variance = 0.1\n",
    "mt.optimize.crlb_loss(jacobian, scales, include, noise_variance)"
   ]
  }
 ],
 "metadata": {
  "interpreter": {
   "hash": "e457c7df5673435eb302ab4372bdb3b590e7f8a7b5e82d7f6b7602aa0693998e"
  },
  "kernelspec": {
   "display_name": "Python 3.9.12 ('microdev')",
   "language": "python",
   "name": "python3"
  },
  "language_info": {
   "codemirror_mode": {
    "name": "ipython",
    "version": 3
   },
   "file_extension": ".py",
   "mimetype": "text/x-python",
   "name": "python",
   "nbconvert_exporter": "python",
   "pygments_lexer": "ipython3",
   "version": "3.9.12"
  }
 },
 "nbformat": 4,
 "nbformat_minor": 5
}
